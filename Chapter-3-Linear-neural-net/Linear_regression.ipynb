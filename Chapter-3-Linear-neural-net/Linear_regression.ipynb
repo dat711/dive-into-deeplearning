{
  "nbformat": 4,
  "nbformat_minor": 0,
  "metadata": {
    "colab": {
      "name": "Linear_regression.ipynb",
      "provenance": []
    },
    "kernelspec": {
      "name": "python3",
      "display_name": "Python 3"
    },
    "language_info": {
      "name": "python"
    }
  },
  "cells": [
    {
      "cell_type": "markdown",
      "metadata": {
        "id": "5PzbxCwB2eh9"
      },
      "source": [
        "# Simple ver"
      ]
    },
    {
      "cell_type": "code",
      "metadata": {
        "colab": {
          "base_uri": "https://localhost:8080/"
        },
        "id": "F1_6HcKf2zrc",
        "outputId": "53609a5a-f183-4e4c-ddbe-d80e88683243"
      },
      "source": [
        "!pip install d2l"
      ],
      "execution_count": 1,
      "outputs": [
        {
          "output_type": "stream",
          "name": "stdout",
          "text": [
            "Collecting d2l\n",
            "  Downloading d2l-0.17.0-py3-none-any.whl (83 kB)\n",
            "\u001b[?25l\r\u001b[K     |████                            | 10 kB 37.4 MB/s eta 0:00:01\r\u001b[K     |███████▉                        | 20 kB 37.3 MB/s eta 0:00:01\r\u001b[K     |███████████▉                    | 30 kB 40.1 MB/s eta 0:00:01\r\u001b[K     |███████████████▊                | 40 kB 43.4 MB/s eta 0:00:01\r\u001b[K     |███████████████████▊            | 51 kB 44.3 MB/s eta 0:00:01\r\u001b[K     |███████████████████████▋        | 61 kB 44.1 MB/s eta 0:00:01\r\u001b[K     |███████████████████████████▋    | 71 kB 39.0 MB/s eta 0:00:01\r\u001b[K     |███████████████████████████████▌| 81 kB 41.1 MB/s eta 0:00:01\r\u001b[K     |████████████████████████████████| 83 kB 2.3 MB/s \n",
            "\u001b[?25hRequirement already satisfied: numpy in /usr/local/lib/python3.7/dist-packages (from d2l) (1.19.5)\n",
            "Requirement already satisfied: matplotlib in /usr/local/lib/python3.7/dist-packages (from d2l) (3.2.2)\n",
            "Requirement already satisfied: pandas in /usr/local/lib/python3.7/dist-packages (from d2l) (1.1.5)\n",
            "Requirement already satisfied: requests in /usr/local/lib/python3.7/dist-packages (from d2l) (2.23.0)\n",
            "Requirement already satisfied: jupyter in /usr/local/lib/python3.7/dist-packages (from d2l) (1.0.0)\n",
            "Requirement already satisfied: notebook in /usr/local/lib/python3.7/dist-packages (from jupyter->d2l) (5.3.1)\n",
            "Requirement already satisfied: ipywidgets in /usr/local/lib/python3.7/dist-packages (from jupyter->d2l) (7.6.5)\n",
            "Requirement already satisfied: jupyter-console in /usr/local/lib/python3.7/dist-packages (from jupyter->d2l) (5.2.0)\n",
            "Requirement already satisfied: qtconsole in /usr/local/lib/python3.7/dist-packages (from jupyter->d2l) (5.1.1)\n",
            "Requirement already satisfied: ipykernel in /usr/local/lib/python3.7/dist-packages (from jupyter->d2l) (4.10.1)\n",
            "Requirement already satisfied: nbconvert in /usr/local/lib/python3.7/dist-packages (from jupyter->d2l) (5.6.1)\n",
            "Requirement already satisfied: traitlets>=4.1.0 in /usr/local/lib/python3.7/dist-packages (from ipykernel->jupyter->d2l) (5.1.0)\n",
            "Requirement already satisfied: tornado>=4.0 in /usr/local/lib/python3.7/dist-packages (from ipykernel->jupyter->d2l) (5.1.1)\n",
            "Requirement already satisfied: ipython>=4.0.0 in /usr/local/lib/python3.7/dist-packages (from ipykernel->jupyter->d2l) (5.5.0)\n",
            "Requirement already satisfied: jupyter-client in /usr/local/lib/python3.7/dist-packages (from ipykernel->jupyter->d2l) (5.3.5)\n",
            "Requirement already satisfied: pickleshare in /usr/local/lib/python3.7/dist-packages (from ipython>=4.0.0->ipykernel->jupyter->d2l) (0.7.5)\n",
            "Requirement already satisfied: decorator in /usr/local/lib/python3.7/dist-packages (from ipython>=4.0.0->ipykernel->jupyter->d2l) (4.4.2)\n",
            "Requirement already satisfied: prompt-toolkit<2.0.0,>=1.0.4 in /usr/local/lib/python3.7/dist-packages (from ipython>=4.0.0->ipykernel->jupyter->d2l) (1.0.18)\n",
            "Requirement already satisfied: setuptools>=18.5 in /usr/local/lib/python3.7/dist-packages (from ipython>=4.0.0->ipykernel->jupyter->d2l) (57.4.0)\n",
            "Requirement already satisfied: pexpect in /usr/local/lib/python3.7/dist-packages (from ipython>=4.0.0->ipykernel->jupyter->d2l) (4.8.0)\n",
            "Requirement already satisfied: pygments in /usr/local/lib/python3.7/dist-packages (from ipython>=4.0.0->ipykernel->jupyter->d2l) (2.6.1)\n",
            "Requirement already satisfied: simplegeneric>0.8 in /usr/local/lib/python3.7/dist-packages (from ipython>=4.0.0->ipykernel->jupyter->d2l) (0.8.1)\n",
            "Requirement already satisfied: wcwidth in /usr/local/lib/python3.7/dist-packages (from prompt-toolkit<2.0.0,>=1.0.4->ipython>=4.0.0->ipykernel->jupyter->d2l) (0.2.5)\n",
            "Requirement already satisfied: six>=1.9.0 in /usr/local/lib/python3.7/dist-packages (from prompt-toolkit<2.0.0,>=1.0.4->ipython>=4.0.0->ipykernel->jupyter->d2l) (1.15.0)\n",
            "Requirement already satisfied: ipython-genutils~=0.2.0 in /usr/local/lib/python3.7/dist-packages (from ipywidgets->jupyter->d2l) (0.2.0)\n",
            "Requirement already satisfied: nbformat>=4.2.0 in /usr/local/lib/python3.7/dist-packages (from ipywidgets->jupyter->d2l) (5.1.3)\n",
            "Requirement already satisfied: widgetsnbextension~=3.5.0 in /usr/local/lib/python3.7/dist-packages (from ipywidgets->jupyter->d2l) (3.5.1)\n",
            "Requirement already satisfied: jupyterlab-widgets>=1.0.0 in /usr/local/lib/python3.7/dist-packages (from ipywidgets->jupyter->d2l) (1.0.2)\n",
            "Requirement already satisfied: jupyter-core in /usr/local/lib/python3.7/dist-packages (from nbformat>=4.2.0->ipywidgets->jupyter->d2l) (4.8.1)\n",
            "Requirement already satisfied: jsonschema!=2.5.0,>=2.4 in /usr/local/lib/python3.7/dist-packages (from nbformat>=4.2.0->ipywidgets->jupyter->d2l) (2.6.0)\n",
            "Requirement already satisfied: terminado>=0.8.1 in /usr/local/lib/python3.7/dist-packages (from notebook->jupyter->d2l) (0.12.1)\n",
            "Requirement already satisfied: Send2Trash in /usr/local/lib/python3.7/dist-packages (from notebook->jupyter->d2l) (1.8.0)\n",
            "Requirement already satisfied: jinja2 in /usr/local/lib/python3.7/dist-packages (from notebook->jupyter->d2l) (2.11.3)\n",
            "Requirement already satisfied: python-dateutil>=2.1 in /usr/local/lib/python3.7/dist-packages (from jupyter-client->ipykernel->jupyter->d2l) (2.8.2)\n",
            "Requirement already satisfied: pyzmq>=13 in /usr/local/lib/python3.7/dist-packages (from jupyter-client->ipykernel->jupyter->d2l) (22.3.0)\n",
            "Requirement already satisfied: ptyprocess in /usr/local/lib/python3.7/dist-packages (from terminado>=0.8.1->notebook->jupyter->d2l) (0.7.0)\n",
            "Requirement already satisfied: MarkupSafe>=0.23 in /usr/local/lib/python3.7/dist-packages (from jinja2->notebook->jupyter->d2l) (2.0.1)\n",
            "Requirement already satisfied: pyparsing!=2.0.4,!=2.1.2,!=2.1.6,>=2.0.1 in /usr/local/lib/python3.7/dist-packages (from matplotlib->d2l) (2.4.7)\n",
            "Requirement already satisfied: cycler>=0.10 in /usr/local/lib/python3.7/dist-packages (from matplotlib->d2l) (0.10.0)\n",
            "Requirement already satisfied: kiwisolver>=1.0.1 in /usr/local/lib/python3.7/dist-packages (from matplotlib->d2l) (1.3.2)\n",
            "Requirement already satisfied: entrypoints>=0.2.2 in /usr/local/lib/python3.7/dist-packages (from nbconvert->jupyter->d2l) (0.3)\n",
            "Requirement already satisfied: pandocfilters>=1.4.1 in /usr/local/lib/python3.7/dist-packages (from nbconvert->jupyter->d2l) (1.5.0)\n",
            "Requirement already satisfied: bleach in /usr/local/lib/python3.7/dist-packages (from nbconvert->jupyter->d2l) (4.1.0)\n",
            "Requirement already satisfied: mistune<2,>=0.8.1 in /usr/local/lib/python3.7/dist-packages (from nbconvert->jupyter->d2l) (0.8.4)\n",
            "Requirement already satisfied: defusedxml in /usr/local/lib/python3.7/dist-packages (from nbconvert->jupyter->d2l) (0.7.1)\n",
            "Requirement already satisfied: testpath in /usr/local/lib/python3.7/dist-packages (from nbconvert->jupyter->d2l) (0.5.0)\n",
            "Requirement already satisfied: packaging in /usr/local/lib/python3.7/dist-packages (from bleach->nbconvert->jupyter->d2l) (21.0)\n",
            "Requirement already satisfied: webencodings in /usr/local/lib/python3.7/dist-packages (from bleach->nbconvert->jupyter->d2l) (0.5.1)\n",
            "Requirement already satisfied: pytz>=2017.2 in /usr/local/lib/python3.7/dist-packages (from pandas->d2l) (2018.9)\n",
            "Requirement already satisfied: qtpy in /usr/local/lib/python3.7/dist-packages (from qtconsole->jupyter->d2l) (1.11.2)\n",
            "Requirement already satisfied: certifi>=2017.4.17 in /usr/local/lib/python3.7/dist-packages (from requests->d2l) (2021.5.30)\n",
            "Requirement already satisfied: idna<3,>=2.5 in /usr/local/lib/python3.7/dist-packages (from requests->d2l) (2.10)\n",
            "Requirement already satisfied: chardet<4,>=3.0.2 in /usr/local/lib/python3.7/dist-packages (from requests->d2l) (3.0.4)\n",
            "Requirement already satisfied: urllib3!=1.25.0,!=1.25.1,<1.26,>=1.21.1 in /usr/local/lib/python3.7/dist-packages (from requests->d2l) (1.24.3)\n",
            "Installing collected packages: d2l\n",
            "Successfully installed d2l-0.17.0\n"
          ]
        }
      ]
    },
    {
      "cell_type": "code",
      "metadata": {
        "id": "X8Sz3KQg2g_W"
      },
      "source": [
        "import random \n",
        "import torch\n",
        "from d2l import torch as d2l"
      ],
      "execution_count": 2,
      "outputs": []
    },
    {
      "cell_type": "code",
      "metadata": {
        "id": "msrkwCS-2j6B"
      },
      "source": [
        "# generate the dataset \n",
        "def synthetic_data(weight,bias,num_examples):\n",
        "  \"\"\" weight is vector of size (n,) and bias is a number \n",
        "  \"\"\"\n",
        "  X = torch.normal(0,1,(num_examples,len(weight))) # generate X with shape ()\n",
        "  Y = torch.matmul(X,weight) + bias \n",
        "  Y += torch.normal(0,0.001,(num_examples,))\n",
        "  return X,Y.reshape((-1,1))"
      ],
      "execution_count": 3,
      "outputs": []
    },
    {
      "cell_type": "code",
      "metadata": {
        "id": "-P9_4X0q7B8Q"
      },
      "source": [
        "true_w = torch.tensor([2, -3.4])\n",
        "true_b = 4.2\n",
        "features, labels = synthetic_data(true_w, true_b, 1000)"
      ],
      "execution_count": 4,
      "outputs": []
    },
    {
      "cell_type": "code",
      "metadata": {
        "colab": {
          "base_uri": "https://localhost:8080/"
        },
        "id": "21zkzLGT7ENG",
        "outputId": "08342922-83e1-4a56-ba84-cfca8235b039"
      },
      "source": [
        "print('features:', features[0], '\\nlabel:', labels[0])"
      ],
      "execution_count": 5,
      "outputs": [
        {
          "output_type": "stream",
          "name": "stdout",
          "text": [
            "features: tensor([1.3881, 0.2659]) \n",
            "label: tensor([6.0711])\n"
          ]
        }
      ]
    },
    {
      "cell_type": "code",
      "metadata": {
        "colab": {
          "base_uri": "https://localhost:8080/"
        },
        "id": "4MGmBO3a99q3",
        "outputId": "568c7dbc-174f-48fb-9632-4b0360a70107"
      },
      "source": [
        "features.shape[0]"
      ],
      "execution_count": 6,
      "outputs": [
        {
          "output_type": "execute_result",
          "data": {
            "text/plain": [
              "1000"
            ]
          },
          "metadata": {},
          "execution_count": 6
        }
      ]
    },
    {
      "cell_type": "code",
      "metadata": {
        "colab": {
          "base_uri": "https://localhost:8080/",
          "height": 243
        },
        "id": "oHl0ijpe7F7R",
        "outputId": "95bfe536-f0dc-40c0-c4b4-70365a93dd09"
      },
      "source": [
        "d2l.set_figsize()\n",
        "# The semicolon is for displaying the plot only\n",
        "d2l.plt.scatter(features[:, (1)].detach().numpy(),\n",
        "                labels.detach().numpy(), 1);"
      ],
      "execution_count": 7,
      "outputs": [
        {
          "output_type": "display_data",
          "data": {
            "text/plain": [
              "<Figure size 252x180 with 1 Axes>"
            ],
            "image/svg+xml": "<?xml version=\"1.0\" encoding=\"utf-8\" standalone=\"no\"?>\n<!DOCTYPE svg PUBLIC \"-//W3C//DTD SVG 1.1//EN\"\n  \"http://www.w3.org/Graphics/SVG/1.1/DTD/svg11.dtd\">\n<!-- Created with matplotlib (https://matplotlib.org/) -->\n<svg height=\"166.978125pt\" version=\"1.1\" viewBox=\"0 0 231.442187 166.978125\" width=\"231.442187pt\" xmlns=\"http://www.w3.org/2000/svg\" xmlns:xlink=\"http://www.w3.org/1999/xlink\">\n <defs>\n  <style type=\"text/css\">\n*{stroke-linecap:butt;stroke-linejoin:round;}\n  </style>\n </defs>\n <g id=\"figure_1\">\n  <g id=\"patch_1\">\n   <path d=\"M 0 166.978125 \nL 231.442187 166.978125 \nL 231.442187 0 \nL 0 0 \nz\n\" style=\"fill:none;\"/>\n  </g>\n  <g id=\"axes_1\">\n   <g id=\"patch_2\">\n    <path d=\"M 28.942188 143.1 \nL 224.242188 143.1 \nL 224.242188 7.2 \nL 28.942188 7.2 \nz\n\" style=\"fill:#ffffff;\"/>\n   </g>\n   <g id=\"PathCollection_1\">\n    <defs>\n     <path d=\"M 0 0.5 \nC 0.132602 0.5 0.25979 0.447317 0.353553 0.353553 \nC 0.447317 0.25979 0.5 0.132602 0.5 0 \nC 0.5 -0.132602 0.447317 -0.25979 0.353553 -0.353553 \nC 0.25979 -0.447317 0.132602 -0.5 0 -0.5 \nC -0.132602 -0.5 -0.25979 -0.447317 -0.353553 -0.353553 \nC -0.447317 -0.25979 -0.5 -0.132602 -0.5 0 \nC -0.5 0.132602 -0.447317 0.25979 -0.353553 0.353553 \nC -0.25979 0.447317 -0.132602 0.5 0 0.5 \nz\n\" id=\"m47784bc6ef\" style=\"stroke:#1f77b4;\"/>\n    </defs>\n    <g clip-path=\"url(#pe49062ec69)\">\n     <use style=\"fill:#1f77b4;stroke:#1f77b4;\" x=\"141.907433\" xlink:href=\"#m47784bc6ef\" y=\"61.311397\"/>\n     <use style=\"fill:#1f77b4;stroke:#1f77b4;\" x=\"132.750929\" xlink:href=\"#m47784bc6ef\" y=\"54.447093\"/>\n     <use style=\"fill:#1f77b4;stroke:#1f77b4;\" x=\"142.440529\" xlink:href=\"#m47784bc6ef\" y=\"81.29126\"/>\n     <use style=\"fill:#1f77b4;stroke:#1f77b4;\" x=\"127.818884\" xlink:href=\"#m47784bc6ef\" y=\"51.444887\"/>\n     <use style=\"fill:#1f77b4;stroke:#1f77b4;\" x=\"134.414443\" xlink:href=\"#m47784bc6ef\" y=\"68.67713\"/>\n     <use style=\"fill:#1f77b4;stroke:#1f77b4;\" x=\"96.07099\" xlink:href=\"#m47784bc6ef\" y=\"38.154061\"/>\n     <use style=\"fill:#1f77b4;stroke:#1f77b4;\" x=\"146.905848\" xlink:href=\"#m47784bc6ef\" y=\"87.326844\"/>\n     <use style=\"fill:#1f77b4;stroke:#1f77b4;\" x=\"159.627306\" xlink:href=\"#m47784bc6ef\" y=\"82.063388\"/>\n     <use style=\"fill:#1f77b4;stroke:#1f77b4;\" x=\"161.591045\" xlink:href=\"#m47784bc6ef\" y=\"87.079281\"/>\n     <use style=\"fill:#1f77b4;stroke:#1f77b4;\" x=\"137.078359\" xlink:href=\"#m47784bc6ef\" y=\"74.179866\"/>\n     <use style=\"fill:#1f77b4;stroke:#1f77b4;\" x=\"116.527517\" xlink:href=\"#m47784bc6ef\" y=\"79.990352\"/>\n     <use style=\"fill:#1f77b4;stroke:#1f77b4;\" x=\"155.521869\" xlink:href=\"#m47784bc6ef\" y=\"90.352499\"/>\n     <use style=\"fill:#1f77b4;stroke:#1f77b4;\" x=\"102.08018\" xlink:href=\"#m47784bc6ef\" y=\"51.409604\"/>\n     <use style=\"fill:#1f77b4;stroke:#1f77b4;\" x=\"132.588455\" xlink:href=\"#m47784bc6ef\" y=\"65.598133\"/>\n     <use style=\"fill:#1f77b4;stroke:#1f77b4;\" x=\"126.675425\" xlink:href=\"#m47784bc6ef\" y=\"61.249302\"/>\n     <use style=\"fill:#1f77b4;stroke:#1f77b4;\" x=\"142.166396\" xlink:href=\"#m47784bc6ef\" y=\"89.756202\"/>\n     <use style=\"fill:#1f77b4;stroke:#1f77b4;\" x=\"158.183769\" xlink:href=\"#m47784bc6ef\" y=\"96.932388\"/>\n     <use style=\"fill:#1f77b4;stroke:#1f77b4;\" x=\"112.340211\" xlink:href=\"#m47784bc6ef\" y=\"66.634584\"/>\n     <use style=\"fill:#1f77b4;stroke:#1f77b4;\" x=\"113.682042\" xlink:href=\"#m47784bc6ef\" y=\"51.871584\"/>\n     <use style=\"fill:#1f77b4;stroke:#1f77b4;\" x=\"123.73097\" xlink:href=\"#m47784bc6ef\" y=\"54.524354\"/>\n     <use style=\"fill:#1f77b4;stroke:#1f77b4;\" x=\"140.171079\" xlink:href=\"#m47784bc6ef\" y=\"71.117784\"/>\n     <use style=\"fill:#1f77b4;stroke:#1f77b4;\" x=\"124.645165\" xlink:href=\"#m47784bc6ef\" y=\"68.843093\"/>\n     <use style=\"fill:#1f77b4;stroke:#1f77b4;\" x=\"131.10693\" xlink:href=\"#m47784bc6ef\" y=\"67.37418\"/>\n     <use style=\"fill:#1f77b4;stroke:#1f77b4;\" x=\"146.262397\" xlink:href=\"#m47784bc6ef\" y=\"73.39184\"/>\n     <use style=\"fill:#1f77b4;stroke:#1f77b4;\" x=\"147.677999\" xlink:href=\"#m47784bc6ef\" y=\"66.061703\"/>\n     <use style=\"fill:#1f77b4;stroke:#1f77b4;\" x=\"94.328249\" xlink:href=\"#m47784bc6ef\" y=\"39.9146\"/>\n     <use style=\"fill:#1f77b4;stroke:#1f77b4;\" x=\"174.181571\" xlink:href=\"#m47784bc6ef\" y=\"91.537811\"/>\n     <use style=\"fill:#1f77b4;stroke:#1f77b4;\" x=\"133.566245\" xlink:href=\"#m47784bc6ef\" y=\"67.747488\"/>\n     <use style=\"fill:#1f77b4;stroke:#1f77b4;\" x=\"94.165652\" xlink:href=\"#m47784bc6ef\" y=\"50.462323\"/>\n     <use style=\"fill:#1f77b4;stroke:#1f77b4;\" x=\"153.610929\" xlink:href=\"#m47784bc6ef\" y=\"88.829193\"/>\n     <use style=\"fill:#1f77b4;stroke:#1f77b4;\" x=\"169.653498\" xlink:href=\"#m47784bc6ef\" y=\"98.710314\"/>\n     <use style=\"fill:#1f77b4;stroke:#1f77b4;\" x=\"109.426231\" xlink:href=\"#m47784bc6ef\" y=\"51.973252\"/>\n     <use style=\"fill:#1f77b4;stroke:#1f77b4;\" x=\"125.724001\" xlink:href=\"#m47784bc6ef\" y=\"66.174809\"/>\n     <use style=\"fill:#1f77b4;stroke:#1f77b4;\" x=\"167.66186\" xlink:href=\"#m47784bc6ef\" y=\"103.47227\"/>\n     <use style=\"fill:#1f77b4;stroke:#1f77b4;\" x=\"108.134175\" xlink:href=\"#m47784bc6ef\" y=\"38.153112\"/>\n     <use style=\"fill:#1f77b4;stroke:#1f77b4;\" x=\"181.119116\" xlink:href=\"#m47784bc6ef\" y=\"106.49563\"/>\n     <use style=\"fill:#1f77b4;stroke:#1f77b4;\" x=\"172.269617\" xlink:href=\"#m47784bc6ef\" y=\"88.579037\"/>\n     <use style=\"fill:#1f77b4;stroke:#1f77b4;\" x=\"150.549089\" xlink:href=\"#m47784bc6ef\" y=\"71.32525\"/>\n     <use style=\"fill:#1f77b4;stroke:#1f77b4;\" x=\"88.496119\" xlink:href=\"#m47784bc6ef\" y=\"64.714874\"/>\n     <use style=\"fill:#1f77b4;stroke:#1f77b4;\" x=\"186.891741\" xlink:href=\"#m47784bc6ef\" y=\"104.491428\"/>\n     <use style=\"fill:#1f77b4;stroke:#1f77b4;\" x=\"122.922055\" xlink:href=\"#m47784bc6ef\" y=\"69.554937\"/>\n     <use style=\"fill:#1f77b4;stroke:#1f77b4;\" x=\"202.093236\" xlink:href=\"#m47784bc6ef\" y=\"101.736664\"/>\n     <use style=\"fill:#1f77b4;stroke:#1f77b4;\" x=\"153.578474\" xlink:href=\"#m47784bc6ef\" y=\"97.695138\"/>\n     <use style=\"fill:#1f77b4;stroke:#1f77b4;\" x=\"170.308049\" xlink:href=\"#m47784bc6ef\" y=\"85.887125\"/>\n     <use style=\"fill:#1f77b4;stroke:#1f77b4;\" x=\"130.918553\" xlink:href=\"#m47784bc6ef\" y=\"47.392503\"/>\n     <use style=\"fill:#1f77b4;stroke:#1f77b4;\" x=\"149.918379\" xlink:href=\"#m47784bc6ef\" y=\"68.386516\"/>\n     <use style=\"fill:#1f77b4;stroke:#1f77b4;\" x=\"155.736374\" xlink:href=\"#m47784bc6ef\" y=\"78.553819\"/>\n     <use style=\"fill:#1f77b4;stroke:#1f77b4;\" x=\"121.300054\" xlink:href=\"#m47784bc6ef\" y=\"45.940316\"/>\n     <use style=\"fill:#1f77b4;stroke:#1f77b4;\" x=\"165.771151\" xlink:href=\"#m47784bc6ef\" y=\"88.357888\"/>\n     <use style=\"fill:#1f77b4;stroke:#1f77b4;\" x=\"152.653488\" xlink:href=\"#m47784bc6ef\" y=\"74.970256\"/>\n     <use style=\"fill:#1f77b4;stroke:#1f77b4;\" x=\"115.971489\" xlink:href=\"#m47784bc6ef\" y=\"56.29805\"/>\n     <use style=\"fill:#1f77b4;stroke:#1f77b4;\" x=\"137.997219\" xlink:href=\"#m47784bc6ef\" y=\"61.169906\"/>\n     <use style=\"fill:#1f77b4;stroke:#1f77b4;\" x=\"141.716003\" xlink:href=\"#m47784bc6ef\" y=\"52.020072\"/>\n     <use style=\"fill:#1f77b4;stroke:#1f77b4;\" x=\"87.582612\" xlink:href=\"#m47784bc6ef\" y=\"42.574776\"/>\n     <use style=\"fill:#1f77b4;stroke:#1f77b4;\" x=\"169.57989\" xlink:href=\"#m47784bc6ef\" y=\"80.449875\"/>\n     <use style=\"fill:#1f77b4;stroke:#1f77b4;\" x=\"141.626753\" xlink:href=\"#m47784bc6ef\" y=\"84.786364\"/>\n     <use style=\"fill:#1f77b4;stroke:#1f77b4;\" x=\"129.659239\" xlink:href=\"#m47784bc6ef\" y=\"52.275789\"/>\n     <use style=\"fill:#1f77b4;stroke:#1f77b4;\" x=\"177.538233\" xlink:href=\"#m47784bc6ef\" y=\"82.522777\"/>\n     <use style=\"fill:#1f77b4;stroke:#1f77b4;\" x=\"80.768021\" xlink:href=\"#m47784bc6ef\" y=\"40.391308\"/>\n     <use style=\"fill:#1f77b4;stroke:#1f77b4;\" x=\"147.524471\" xlink:href=\"#m47784bc6ef\" y=\"74.85486\"/>\n     <use style=\"fill:#1f77b4;stroke:#1f77b4;\" x=\"136.855644\" xlink:href=\"#m47784bc6ef\" y=\"89.944412\"/>\n     <use style=\"fill:#1f77b4;stroke:#1f77b4;\" x=\"124.523897\" xlink:href=\"#m47784bc6ef\" y=\"64.182705\"/>\n     <use style=\"fill:#1f77b4;stroke:#1f77b4;\" x=\"117.457547\" xlink:href=\"#m47784bc6ef\" y=\"66.249613\"/>\n     <use style=\"fill:#1f77b4;stroke:#1f77b4;\" x=\"104.727094\" xlink:href=\"#m47784bc6ef\" y=\"45.587527\"/>\n     <use style=\"fill:#1f77b4;stroke:#1f77b4;\" x=\"119.098906\" xlink:href=\"#m47784bc6ef\" y=\"62.602587\"/>\n     <use style=\"fill:#1f77b4;stroke:#1f77b4;\" x=\"154.198894\" xlink:href=\"#m47784bc6ef\" y=\"93.808525\"/>\n     <use style=\"fill:#1f77b4;stroke:#1f77b4;\" x=\"111.907429\" xlink:href=\"#m47784bc6ef\" y=\"44.086684\"/>\n     <use style=\"fill:#1f77b4;stroke:#1f77b4;\" x=\"127.967656\" xlink:href=\"#m47784bc6ef\" y=\"65.35501\"/>\n     <use style=\"fill:#1f77b4;stroke:#1f77b4;\" x=\"90.63479\" xlink:href=\"#m47784bc6ef\" y=\"45.862438\"/>\n     <use style=\"fill:#1f77b4;stroke:#1f77b4;\" x=\"172.62779\" xlink:href=\"#m47784bc6ef\" y=\"99.368543\"/>\n     <use style=\"fill:#1f77b4;stroke:#1f77b4;\" x=\"135.100837\" xlink:href=\"#m47784bc6ef\" y=\"70.67829\"/>\n     <use style=\"fill:#1f77b4;stroke:#1f77b4;\" x=\"102.205346\" xlink:href=\"#m47784bc6ef\" y=\"47.152336\"/>\n     <use style=\"fill:#1f77b4;stroke:#1f77b4;\" x=\"155.259602\" xlink:href=\"#m47784bc6ef\" y=\"59.988574\"/>\n     <use style=\"fill:#1f77b4;stroke:#1f77b4;\" x=\"107.899662\" xlink:href=\"#m47784bc6ef\" y=\"47.294029\"/>\n     <use style=\"fill:#1f77b4;stroke:#1f77b4;\" x=\"151.708435\" xlink:href=\"#m47784bc6ef\" y=\"89.510246\"/>\n     <use style=\"fill:#1f77b4;stroke:#1f77b4;\" x=\"132.011517\" xlink:href=\"#m47784bc6ef\" y=\"68.935618\"/>\n     <use style=\"fill:#1f77b4;stroke:#1f77b4;\" x=\"132.863295\" xlink:href=\"#m47784bc6ef\" y=\"63.308808\"/>\n     <use style=\"fill:#1f77b4;stroke:#1f77b4;\" x=\"130.356649\" xlink:href=\"#m47784bc6ef\" y=\"60.58468\"/>\n     <use style=\"fill:#1f77b4;stroke:#1f77b4;\" x=\"135.141442\" xlink:href=\"#m47784bc6ef\" y=\"74.63326\"/>\n     <use style=\"fill:#1f77b4;stroke:#1f77b4;\" x=\"172.87923\" xlink:href=\"#m47784bc6ef\" y=\"101.62631\"/>\n     <use style=\"fill:#1f77b4;stroke:#1f77b4;\" x=\"100.45099\" xlink:href=\"#m47784bc6ef\" y=\"41.093808\"/>\n     <use style=\"fill:#1f77b4;stroke:#1f77b4;\" x=\"109.614515\" xlink:href=\"#m47784bc6ef\" y=\"75.284772\"/>\n     <use style=\"fill:#1f77b4;stroke:#1f77b4;\" x=\"137.602634\" xlink:href=\"#m47784bc6ef\" y=\"74.736643\"/>\n     <use style=\"fill:#1f77b4;stroke:#1f77b4;\" x=\"101.306869\" xlink:href=\"#m47784bc6ef\" y=\"47.318102\"/>\n     <use style=\"fill:#1f77b4;stroke:#1f77b4;\" x=\"123.641501\" xlink:href=\"#m47784bc6ef\" y=\"67.262182\"/>\n     <use style=\"fill:#1f77b4;stroke:#1f77b4;\" x=\"100.887556\" xlink:href=\"#m47784bc6ef\" y=\"45.886953\"/>\n     <use style=\"fill:#1f77b4;stroke:#1f77b4;\" x=\"100.252514\" xlink:href=\"#m47784bc6ef\" y=\"49.558919\"/>\n     <use style=\"fill:#1f77b4;stroke:#1f77b4;\" x=\"149.090411\" xlink:href=\"#m47784bc6ef\" y=\"88.339297\"/>\n     <use style=\"fill:#1f77b4;stroke:#1f77b4;\" x=\"169.562229\" xlink:href=\"#m47784bc6ef\" y=\"85.914693\"/>\n     <use style=\"fill:#1f77b4;stroke:#1f77b4;\" x=\"105.253828\" xlink:href=\"#m47784bc6ef\" y=\"61.37053\"/>\n     <use style=\"fill:#1f77b4;stroke:#1f77b4;\" x=\"107.575432\" xlink:href=\"#m47784bc6ef\" y=\"50.171247\"/>\n     <use style=\"fill:#1f77b4;stroke:#1f77b4;\" x=\"120.324833\" xlink:href=\"#m47784bc6ef\" y=\"54.440435\"/>\n     <use style=\"fill:#1f77b4;stroke:#1f77b4;\" x=\"158.014618\" xlink:href=\"#m47784bc6ef\" y=\"86.749105\"/>\n     <use style=\"fill:#1f77b4;stroke:#1f77b4;\" x=\"119.528081\" xlink:href=\"#m47784bc6ef\" y=\"51.459298\"/>\n     <use style=\"fill:#1f77b4;stroke:#1f77b4;\" x=\"135.548731\" xlink:href=\"#m47784bc6ef\" y=\"65.308712\"/>\n     <use style=\"fill:#1f77b4;stroke:#1f77b4;\" x=\"157.705426\" xlink:href=\"#m47784bc6ef\" y=\"91.509975\"/>\n     <use style=\"fill:#1f77b4;stroke:#1f77b4;\" x=\"104.158082\" xlink:href=\"#m47784bc6ef\" y=\"47.087053\"/>\n     <use style=\"fill:#1f77b4;stroke:#1f77b4;\" x=\"117.024587\" xlink:href=\"#m47784bc6ef\" y=\"70.354939\"/>\n     <use style=\"fill:#1f77b4;stroke:#1f77b4;\" x=\"105.825817\" xlink:href=\"#m47784bc6ef\" y=\"44.19466\"/>\n     <use style=\"fill:#1f77b4;stroke:#1f77b4;\" x=\"120.934519\" xlink:href=\"#m47784bc6ef\" y=\"62.329443\"/>\n     <use style=\"fill:#1f77b4;stroke:#1f77b4;\" x=\"154.004629\" xlink:href=\"#m47784bc6ef\" y=\"66.527528\"/>\n     <use style=\"fill:#1f77b4;stroke:#1f77b4;\" x=\"123.984097\" xlink:href=\"#m47784bc6ef\" y=\"56.989144\"/>\n     <use style=\"fill:#1f77b4;stroke:#1f77b4;\" x=\"161.640661\" xlink:href=\"#m47784bc6ef\" y=\"99.45781\"/>\n     <use style=\"fill:#1f77b4;stroke:#1f77b4;\" x=\"102.800783\" xlink:href=\"#m47784bc6ef\" y=\"54.530742\"/>\n     <use style=\"fill:#1f77b4;stroke:#1f77b4;\" x=\"160.117755\" xlink:href=\"#m47784bc6ef\" y=\"81.677407\"/>\n     <use style=\"fill:#1f77b4;stroke:#1f77b4;\" x=\"115.741176\" xlink:href=\"#m47784bc6ef\" y=\"57.498869\"/>\n     <use style=\"fill:#1f77b4;stroke:#1f77b4;\" x=\"113.103794\" xlink:href=\"#m47784bc6ef\" y=\"57.981412\"/>\n     <use style=\"fill:#1f77b4;stroke:#1f77b4;\" x=\"119.551786\" xlink:href=\"#m47784bc6ef\" y=\"55.004997\"/>\n     <use style=\"fill:#1f77b4;stroke:#1f77b4;\" x=\"134.33505\" xlink:href=\"#m47784bc6ef\" y=\"75.791418\"/>\n     <use style=\"fill:#1f77b4;stroke:#1f77b4;\" x=\"136.088743\" xlink:href=\"#m47784bc6ef\" y=\"78.05171\"/>\n     <use style=\"fill:#1f77b4;stroke:#1f77b4;\" x=\"133.567291\" xlink:href=\"#m47784bc6ef\" y=\"50.836012\"/>\n     <use style=\"fill:#1f77b4;stroke:#1f77b4;\" x=\"98.10871\" xlink:href=\"#m47784bc6ef\" y=\"51.170031\"/>\n     <use style=\"fill:#1f77b4;stroke:#1f77b4;\" x=\"143.051567\" xlink:href=\"#m47784bc6ef\" y=\"72.717489\"/>\n     <use style=\"fill:#1f77b4;stroke:#1f77b4;\" x=\"157.11966\" xlink:href=\"#m47784bc6ef\" y=\"83.239647\"/>\n     <use style=\"fill:#1f77b4;stroke:#1f77b4;\" x=\"127.351129\" xlink:href=\"#m47784bc6ef\" y=\"74.316247\"/>\n     <use style=\"fill:#1f77b4;stroke:#1f77b4;\" x=\"161.502156\" xlink:href=\"#m47784bc6ef\" y=\"99.71107\"/>\n     <use style=\"fill:#1f77b4;stroke:#1f77b4;\" x=\"159.346237\" xlink:href=\"#m47784bc6ef\" y=\"72.556295\"/>\n     <use style=\"fill:#1f77b4;stroke:#1f77b4;\" x=\"157.436741\" xlink:href=\"#m47784bc6ef\" y=\"92.559428\"/>\n     <use style=\"fill:#1f77b4;stroke:#1f77b4;\" x=\"141.12224\" xlink:href=\"#m47784bc6ef\" y=\"89.672434\"/>\n     <use style=\"fill:#1f77b4;stroke:#1f77b4;\" x=\"132.377617\" xlink:href=\"#m47784bc6ef\" y=\"54.402223\"/>\n     <use style=\"fill:#1f77b4;stroke:#1f77b4;\" x=\"142.510058\" xlink:href=\"#m47784bc6ef\" y=\"69.329759\"/>\n     <use style=\"fill:#1f77b4;stroke:#1f77b4;\" x=\"188.433871\" xlink:href=\"#m47784bc6ef\" y=\"95.732112\"/>\n     <use style=\"fill:#1f77b4;stroke:#1f77b4;\" x=\"130.229038\" xlink:href=\"#m47784bc6ef\" y=\"60.196307\"/>\n     <use style=\"fill:#1f77b4;stroke:#1f77b4;\" x=\"145.835394\" xlink:href=\"#m47784bc6ef\" y=\"76.165122\"/>\n     <use style=\"fill:#1f77b4;stroke:#1f77b4;\" x=\"116.487188\" xlink:href=\"#m47784bc6ef\" y=\"41.89498\"/>\n     <use style=\"fill:#1f77b4;stroke:#1f77b4;\" x=\"124.276883\" xlink:href=\"#m47784bc6ef\" y=\"44.829936\"/>\n     <use style=\"fill:#1f77b4;stroke:#1f77b4;\" x=\"159.928812\" xlink:href=\"#m47784bc6ef\" y=\"76.993587\"/>\n     <use style=\"fill:#1f77b4;stroke:#1f77b4;\" x=\"119.803344\" xlink:href=\"#m47784bc6ef\" y=\"59.193915\"/>\n     <use style=\"fill:#1f77b4;stroke:#1f77b4;\" x=\"171.987876\" xlink:href=\"#m47784bc6ef\" y=\"112.065736\"/>\n     <use style=\"fill:#1f77b4;stroke:#1f77b4;\" x=\"142.188325\" xlink:href=\"#m47784bc6ef\" y=\"72.475264\"/>\n     <use style=\"fill:#1f77b4;stroke:#1f77b4;\" x=\"103.577503\" xlink:href=\"#m47784bc6ef\" y=\"47.356478\"/>\n     <use style=\"fill:#1f77b4;stroke:#1f77b4;\" x=\"215.364915\" xlink:href=\"#m47784bc6ef\" y=\"114.347522\"/>\n     <use style=\"fill:#1f77b4;stroke:#1f77b4;\" x=\"181.741886\" xlink:href=\"#m47784bc6ef\" y=\"86.808975\"/>\n     <use style=\"fill:#1f77b4;stroke:#1f77b4;\" x=\"140.672846\" xlink:href=\"#m47784bc6ef\" y=\"57.490309\"/>\n     <use style=\"fill:#1f77b4;stroke:#1f77b4;\" x=\"97.248535\" xlink:href=\"#m47784bc6ef\" y=\"38.197725\"/>\n     <use style=\"fill:#1f77b4;stroke:#1f77b4;\" x=\"127.861462\" xlink:href=\"#m47784bc6ef\" y=\"86.573442\"/>\n     <use style=\"fill:#1f77b4;stroke:#1f77b4;\" x=\"103.364854\" xlink:href=\"#m47784bc6ef\" y=\"51.69173\"/>\n     <use style=\"fill:#1f77b4;stroke:#1f77b4;\" x=\"89.738863\" xlink:href=\"#m47784bc6ef\" y=\"29.144453\"/>\n     <use style=\"fill:#1f77b4;stroke:#1f77b4;\" x=\"185.428246\" xlink:href=\"#m47784bc6ef\" y=\"99.555705\"/>\n     <use style=\"fill:#1f77b4;stroke:#1f77b4;\" x=\"124.238918\" xlink:href=\"#m47784bc6ef\" y=\"62.95631\"/>\n     <use style=\"fill:#1f77b4;stroke:#1f77b4;\" x=\"133.903982\" xlink:href=\"#m47784bc6ef\" y=\"84.740477\"/>\n     <use style=\"fill:#1f77b4;stroke:#1f77b4;\" x=\"114.123892\" xlink:href=\"#m47784bc6ef\" y=\"74.365049\"/>\n     <use style=\"fill:#1f77b4;stroke:#1f77b4;\" x=\"125.264805\" xlink:href=\"#m47784bc6ef\" y=\"79.412525\"/>\n     <use style=\"fill:#1f77b4;stroke:#1f77b4;\" x=\"126.173267\" xlink:href=\"#m47784bc6ef\" y=\"43.84088\"/>\n     <use style=\"fill:#1f77b4;stroke:#1f77b4;\" x=\"147.405431\" xlink:href=\"#m47784bc6ef\" y=\"87.154656\"/>\n     <use style=\"fill:#1f77b4;stroke:#1f77b4;\" x=\"102.095555\" xlink:href=\"#m47784bc6ef\" y=\"45.376722\"/>\n     <use style=\"fill:#1f77b4;stroke:#1f77b4;\" x=\"132.708081\" xlink:href=\"#m47784bc6ef\" y=\"69.185436\"/>\n     <use style=\"fill:#1f77b4;stroke:#1f77b4;\" x=\"110.146692\" xlink:href=\"#m47784bc6ef\" y=\"44.968795\"/>\n     <use style=\"fill:#1f77b4;stroke:#1f77b4;\" x=\"138.858214\" xlink:href=\"#m47784bc6ef\" y=\"84.739085\"/>\n     <use style=\"fill:#1f77b4;stroke:#1f77b4;\" x=\"116.074443\" xlink:href=\"#m47784bc6ef\" y=\"49.817177\"/>\n     <use style=\"fill:#1f77b4;stroke:#1f77b4;\" x=\"125.986905\" xlink:href=\"#m47784bc6ef\" y=\"67.210687\"/>\n     <use style=\"fill:#1f77b4;stroke:#1f77b4;\" x=\"64.110587\" xlink:href=\"#m47784bc6ef\" y=\"17.713015\"/>\n     <use style=\"fill:#1f77b4;stroke:#1f77b4;\" x=\"140.801377\" xlink:href=\"#m47784bc6ef\" y=\"71.298496\"/>\n     <use style=\"fill:#1f77b4;stroke:#1f77b4;\" x=\"114.116823\" xlink:href=\"#m47784bc6ef\" y=\"63.37517\"/>\n     <use style=\"fill:#1f77b4;stroke:#1f77b4;\" x=\"126.157043\" xlink:href=\"#m47784bc6ef\" y=\"73.538812\"/>\n     <use style=\"fill:#1f77b4;stroke:#1f77b4;\" x=\"134.107674\" xlink:href=\"#m47784bc6ef\" y=\"72.187388\"/>\n     <use style=\"fill:#1f77b4;stroke:#1f77b4;\" x=\"119.835371\" xlink:href=\"#m47784bc6ef\" y=\"70.670161\"/>\n     <use style=\"fill:#1f77b4;stroke:#1f77b4;\" x=\"145.250216\" xlink:href=\"#m47784bc6ef\" y=\"87.111562\"/>\n     <use style=\"fill:#1f77b4;stroke:#1f77b4;\" x=\"104.936172\" xlink:href=\"#m47784bc6ef\" y=\"48.529598\"/>\n     <use style=\"fill:#1f77b4;stroke:#1f77b4;\" x=\"132.860983\" xlink:href=\"#m47784bc6ef\" y=\"87.112445\"/>\n     <use style=\"fill:#1f77b4;stroke:#1f77b4;\" x=\"97.653064\" xlink:href=\"#m47784bc6ef\" y=\"26.883782\"/>\n     <use style=\"fill:#1f77b4;stroke:#1f77b4;\" x=\"105.704978\" xlink:href=\"#m47784bc6ef\" y=\"55.177318\"/>\n     <use style=\"fill:#1f77b4;stroke:#1f77b4;\" x=\"165.482875\" xlink:href=\"#m47784bc6ef\" y=\"115.287405\"/>\n     <use style=\"fill:#1f77b4;stroke:#1f77b4;\" x=\"131.379909\" xlink:href=\"#m47784bc6ef\" y=\"76.59688\"/>\n     <use style=\"fill:#1f77b4;stroke:#1f77b4;\" x=\"121.862956\" xlink:href=\"#m47784bc6ef\" y=\"65.859514\"/>\n     <use style=\"fill:#1f77b4;stroke:#1f77b4;\" x=\"140.748821\" xlink:href=\"#m47784bc6ef\" y=\"75.089012\"/>\n     <use style=\"fill:#1f77b4;stroke:#1f77b4;\" x=\"112.296986\" xlink:href=\"#m47784bc6ef\" y=\"75.562995\"/>\n     <use style=\"fill:#1f77b4;stroke:#1f77b4;\" x=\"146.760264\" xlink:href=\"#m47784bc6ef\" y=\"76.453631\"/>\n     <use style=\"fill:#1f77b4;stroke:#1f77b4;\" x=\"132.222087\" xlink:href=\"#m47784bc6ef\" y=\"59.714398\"/>\n     <use style=\"fill:#1f77b4;stroke:#1f77b4;\" x=\"130.676809\" xlink:href=\"#m47784bc6ef\" y=\"71.508954\"/>\n     <use style=\"fill:#1f77b4;stroke:#1f77b4;\" x=\"164.614853\" xlink:href=\"#m47784bc6ef\" y=\"87.548067\"/>\n     <use style=\"fill:#1f77b4;stroke:#1f77b4;\" x=\"142.865539\" xlink:href=\"#m47784bc6ef\" y=\"69.35607\"/>\n     <use style=\"fill:#1f77b4;stroke:#1f77b4;\" x=\"128.180051\" xlink:href=\"#m47784bc6ef\" y=\"68.490671\"/>\n     <use style=\"fill:#1f77b4;stroke:#1f77b4;\" x=\"124.231499\" xlink:href=\"#m47784bc6ef\" y=\"69.969851\"/>\n     <use style=\"fill:#1f77b4;stroke:#1f77b4;\" x=\"154.608695\" xlink:href=\"#m47784bc6ef\" y=\"83.006256\"/>\n     <use style=\"fill:#1f77b4;stroke:#1f77b4;\" x=\"120.514133\" xlink:href=\"#m47784bc6ef\" y=\"44.865634\"/>\n     <use style=\"fill:#1f77b4;stroke:#1f77b4;\" x=\"153.636048\" xlink:href=\"#m47784bc6ef\" y=\"107.321476\"/>\n     <use style=\"fill:#1f77b4;stroke:#1f77b4;\" x=\"98.591474\" xlink:href=\"#m47784bc6ef\" y=\"54.206838\"/>\n     <use style=\"fill:#1f77b4;stroke:#1f77b4;\" x=\"137.345311\" xlink:href=\"#m47784bc6ef\" y=\"68.370229\"/>\n     <use style=\"fill:#1f77b4;stroke:#1f77b4;\" x=\"164.589602\" xlink:href=\"#m47784bc6ef\" y=\"94.003091\"/>\n     <use style=\"fill:#1f77b4;stroke:#1f77b4;\" x=\"139.11176\" xlink:href=\"#m47784bc6ef\" y=\"86.093713\"/>\n     <use style=\"fill:#1f77b4;stroke:#1f77b4;\" x=\"98.980912\" xlink:href=\"#m47784bc6ef\" y=\"57.959853\"/>\n     <use style=\"fill:#1f77b4;stroke:#1f77b4;\" x=\"124.360596\" xlink:href=\"#m47784bc6ef\" y=\"63.783717\"/>\n     <use style=\"fill:#1f77b4;stroke:#1f77b4;\" x=\"128.676325\" xlink:href=\"#m47784bc6ef\" y=\"68.943416\"/>\n     <use style=\"fill:#1f77b4;stroke:#1f77b4;\" x=\"130.870025\" xlink:href=\"#m47784bc6ef\" y=\"76.711495\"/>\n     <use style=\"fill:#1f77b4;stroke:#1f77b4;\" x=\"170.256177\" xlink:href=\"#m47784bc6ef\" y=\"103.54859\"/>\n     <use style=\"fill:#1f77b4;stroke:#1f77b4;\" x=\"136.751567\" xlink:href=\"#m47784bc6ef\" y=\"87.518399\"/>\n     <use style=\"fill:#1f77b4;stroke:#1f77b4;\" x=\"98.961783\" xlink:href=\"#m47784bc6ef\" y=\"35.427222\"/>\n     <use style=\"fill:#1f77b4;stroke:#1f77b4;\" x=\"143.033805\" xlink:href=\"#m47784bc6ef\" y=\"69.679701\"/>\n     <use style=\"fill:#1f77b4;stroke:#1f77b4;\" x=\"171.078949\" xlink:href=\"#m47784bc6ef\" y=\"96.265049\"/>\n     <use style=\"fill:#1f77b4;stroke:#1f77b4;\" x=\"153.242657\" xlink:href=\"#m47784bc6ef\" y=\"87.780863\"/>\n     <use style=\"fill:#1f77b4;stroke:#1f77b4;\" x=\"152.99448\" xlink:href=\"#m47784bc6ef\" y=\"94.656641\"/>\n     <use style=\"fill:#1f77b4;stroke:#1f77b4;\" x=\"138.58466\" xlink:href=\"#m47784bc6ef\" y=\"63.661186\"/>\n     <use style=\"fill:#1f77b4;stroke:#1f77b4;\" x=\"115.618221\" xlink:href=\"#m47784bc6ef\" y=\"66.652389\"/>\n     <use style=\"fill:#1f77b4;stroke:#1f77b4;\" x=\"129.693508\" xlink:href=\"#m47784bc6ef\" y=\"60.470634\"/>\n     <use style=\"fill:#1f77b4;stroke:#1f77b4;\" x=\"117.590856\" xlink:href=\"#m47784bc6ef\" y=\"56.219807\"/>\n     <use style=\"fill:#1f77b4;stroke:#1f77b4;\" x=\"126.278285\" xlink:href=\"#m47784bc6ef\" y=\"64.662043\"/>\n     <use style=\"fill:#1f77b4;stroke:#1f77b4;\" x=\"148.222079\" xlink:href=\"#m47784bc6ef\" y=\"71.237165\"/>\n     <use style=\"fill:#1f77b4;stroke:#1f77b4;\" x=\"158.763287\" xlink:href=\"#m47784bc6ef\" y=\"80.917656\"/>\n     <use style=\"fill:#1f77b4;stroke:#1f77b4;\" x=\"107.198923\" xlink:href=\"#m47784bc6ef\" y=\"60.472505\"/>\n     <use style=\"fill:#1f77b4;stroke:#1f77b4;\" x=\"137.866889\" xlink:href=\"#m47784bc6ef\" y=\"64.249563\"/>\n     <use style=\"fill:#1f77b4;stroke:#1f77b4;\" x=\"98.010945\" xlink:href=\"#m47784bc6ef\" y=\"21.824781\"/>\n     <use style=\"fill:#1f77b4;stroke:#1f77b4;\" x=\"150.111169\" xlink:href=\"#m47784bc6ef\" y=\"81.554975\"/>\n     <use style=\"fill:#1f77b4;stroke:#1f77b4;\" x=\"154.105381\" xlink:href=\"#m47784bc6ef\" y=\"83.481866\"/>\n     <use style=\"fill:#1f77b4;stroke:#1f77b4;\" x=\"163.934983\" xlink:href=\"#m47784bc6ef\" y=\"97.461319\"/>\n     <use style=\"fill:#1f77b4;stroke:#1f77b4;\" x=\"95.804894\" xlink:href=\"#m47784bc6ef\" y=\"31.661244\"/>\n     <use style=\"fill:#1f77b4;stroke:#1f77b4;\" x=\"133.040001\" xlink:href=\"#m47784bc6ef\" y=\"69.740537\"/>\n     <use style=\"fill:#1f77b4;stroke:#1f77b4;\" x=\"99.377469\" xlink:href=\"#m47784bc6ef\" y=\"47.434351\"/>\n     <use style=\"fill:#1f77b4;stroke:#1f77b4;\" x=\"156.428113\" xlink:href=\"#m47784bc6ef\" y=\"83.572736\"/>\n     <use style=\"fill:#1f77b4;stroke:#1f77b4;\" x=\"149.941347\" xlink:href=\"#m47784bc6ef\" y=\"73.420044\"/>\n     <use style=\"fill:#1f77b4;stroke:#1f77b4;\" x=\"118.440994\" xlink:href=\"#m47784bc6ef\" y=\"43.315237\"/>\n     <use style=\"fill:#1f77b4;stroke:#1f77b4;\" x=\"146.682288\" xlink:href=\"#m47784bc6ef\" y=\"83.10713\"/>\n     <use style=\"fill:#1f77b4;stroke:#1f77b4;\" x=\"144.05734\" xlink:href=\"#m47784bc6ef\" y=\"79.586058\"/>\n     <use style=\"fill:#1f77b4;stroke:#1f77b4;\" x=\"127.746684\" xlink:href=\"#m47784bc6ef\" y=\"77.638306\"/>\n     <use style=\"fill:#1f77b4;stroke:#1f77b4;\" x=\"144.335002\" xlink:href=\"#m47784bc6ef\" y=\"83.71884\"/>\n     <use style=\"fill:#1f77b4;stroke:#1f77b4;\" x=\"162.748456\" xlink:href=\"#m47784bc6ef\" y=\"93.27556\"/>\n     <use style=\"fill:#1f77b4;stroke:#1f77b4;\" x=\"144.134006\" xlink:href=\"#m47784bc6ef\" y=\"91.794453\"/>\n     <use style=\"fill:#1f77b4;stroke:#1f77b4;\" x=\"106.288711\" xlink:href=\"#m47784bc6ef\" y=\"56.720082\"/>\n     <use style=\"fill:#1f77b4;stroke:#1f77b4;\" x=\"148.31736\" xlink:href=\"#m47784bc6ef\" y=\"77.708804\"/>\n     <use style=\"fill:#1f77b4;stroke:#1f77b4;\" x=\"93.888295\" xlink:href=\"#m47784bc6ef\" y=\"35.455894\"/>\n     <use style=\"fill:#1f77b4;stroke:#1f77b4;\" x=\"151.485204\" xlink:href=\"#m47784bc6ef\" y=\"72.167196\"/>\n     <use style=\"fill:#1f77b4;stroke:#1f77b4;\" x=\"120.535329\" xlink:href=\"#m47784bc6ef\" y=\"57.289278\"/>\n     <use style=\"fill:#1f77b4;stroke:#1f77b4;\" x=\"142.931921\" xlink:href=\"#m47784bc6ef\" y=\"67.064412\"/>\n     <use style=\"fill:#1f77b4;stroke:#1f77b4;\" x=\"171.004333\" xlink:href=\"#m47784bc6ef\" y=\"119.111179\"/>\n     <use style=\"fill:#1f77b4;stroke:#1f77b4;\" x=\"166.597056\" xlink:href=\"#m47784bc6ef\" y=\"95.350417\"/>\n     <use style=\"fill:#1f77b4;stroke:#1f77b4;\" x=\"154.514163\" xlink:href=\"#m47784bc6ef\" y=\"84.350479\"/>\n     <use style=\"fill:#1f77b4;stroke:#1f77b4;\" x=\"131.586988\" xlink:href=\"#m47784bc6ef\" y=\"74.029287\"/>\n     <use style=\"fill:#1f77b4;stroke:#1f77b4;\" x=\"135.017949\" xlink:href=\"#m47784bc6ef\" y=\"72.903414\"/>\n     <use style=\"fill:#1f77b4;stroke:#1f77b4;\" x=\"161.6244\" xlink:href=\"#m47784bc6ef\" y=\"86.433755\"/>\n     <use style=\"fill:#1f77b4;stroke:#1f77b4;\" x=\"196.911733\" xlink:href=\"#m47784bc6ef\" y=\"129.370934\"/>\n     <use style=\"fill:#1f77b4;stroke:#1f77b4;\" x=\"133.025361\" xlink:href=\"#m47784bc6ef\" y=\"52.541522\"/>\n     <use style=\"fill:#1f77b4;stroke:#1f77b4;\" x=\"133.063712\" xlink:href=\"#m47784bc6ef\" y=\"56.738543\"/>\n     <use style=\"fill:#1f77b4;stroke:#1f77b4;\" x=\"150.812624\" xlink:href=\"#m47784bc6ef\" y=\"62.343452\"/>\n     <use style=\"fill:#1f77b4;stroke:#1f77b4;\" x=\"99.369865\" xlink:href=\"#m47784bc6ef\" y=\"33.080084\"/>\n     <use style=\"fill:#1f77b4;stroke:#1f77b4;\" x=\"145.026369\" xlink:href=\"#m47784bc6ef\" y=\"88.337525\"/>\n     <use style=\"fill:#1f77b4;stroke:#1f77b4;\" x=\"105.774495\" xlink:href=\"#m47784bc6ef\" y=\"44.37929\"/>\n     <use style=\"fill:#1f77b4;stroke:#1f77b4;\" x=\"121.389648\" xlink:href=\"#m47784bc6ef\" y=\"80.649385\"/>\n     <use style=\"fill:#1f77b4;stroke:#1f77b4;\" x=\"108.52557\" xlink:href=\"#m47784bc6ef\" y=\"58.077456\"/>\n     <use style=\"fill:#1f77b4;stroke:#1f77b4;\" x=\"117.170033\" xlink:href=\"#m47784bc6ef\" y=\"63.901302\"/>\n     <use style=\"fill:#1f77b4;stroke:#1f77b4;\" x=\"96.17525\" xlink:href=\"#m47784bc6ef\" y=\"37.772861\"/>\n     <use style=\"fill:#1f77b4;stroke:#1f77b4;\" x=\"131.921468\" xlink:href=\"#m47784bc6ef\" y=\"68.131686\"/>\n     <use style=\"fill:#1f77b4;stroke:#1f77b4;\" x=\"152.816108\" xlink:href=\"#m47784bc6ef\" y=\"98.159536\"/>\n     <use style=\"fill:#1f77b4;stroke:#1f77b4;\" x=\"133.409579\" xlink:href=\"#m47784bc6ef\" y=\"69.265932\"/>\n     <use style=\"fill:#1f77b4;stroke:#1f77b4;\" x=\"144.639012\" xlink:href=\"#m47784bc6ef\" y=\"61.045453\"/>\n     <use style=\"fill:#1f77b4;stroke:#1f77b4;\" x=\"113.982543\" xlink:href=\"#m47784bc6ef\" y=\"43.256093\"/>\n     <use style=\"fill:#1f77b4;stroke:#1f77b4;\" x=\"90.140117\" xlink:href=\"#m47784bc6ef\" y=\"27.405648\"/>\n     <use style=\"fill:#1f77b4;stroke:#1f77b4;\" x=\"163.097894\" xlink:href=\"#m47784bc6ef\" y=\"97.112652\"/>\n     <use style=\"fill:#1f77b4;stroke:#1f77b4;\" x=\"186.720446\" xlink:href=\"#m47784bc6ef\" y=\"112.340116\"/>\n     <use style=\"fill:#1f77b4;stroke:#1f77b4;\" x=\"148.348429\" xlink:href=\"#m47784bc6ef\" y=\"78.470636\"/>\n     <use style=\"fill:#1f77b4;stroke:#1f77b4;\" x=\"134.930317\" xlink:href=\"#m47784bc6ef\" y=\"73.81015\"/>\n     <use style=\"fill:#1f77b4;stroke:#1f77b4;\" x=\"128.898315\" xlink:href=\"#m47784bc6ef\" y=\"54.590202\"/>\n     <use style=\"fill:#1f77b4;stroke:#1f77b4;\" x=\"135.458955\" xlink:href=\"#m47784bc6ef\" y=\"65.001017\"/>\n     <use style=\"fill:#1f77b4;stroke:#1f77b4;\" x=\"139.299061\" xlink:href=\"#m47784bc6ef\" y=\"70.928206\"/>\n     <use style=\"fill:#1f77b4;stroke:#1f77b4;\" x=\"178.907366\" xlink:href=\"#m47784bc6ef\" y=\"108.606639\"/>\n     <use style=\"fill:#1f77b4;stroke:#1f77b4;\" x=\"147.064677\" xlink:href=\"#m47784bc6ef\" y=\"73.144408\"/>\n     <use style=\"fill:#1f77b4;stroke:#1f77b4;\" x=\"93.267816\" xlink:href=\"#m47784bc6ef\" y=\"36.398951\"/>\n     <use style=\"fill:#1f77b4;stroke:#1f77b4;\" x=\"173.495223\" xlink:href=\"#m47784bc6ef\" y=\"112.348803\"/>\n     <use style=\"fill:#1f77b4;stroke:#1f77b4;\" x=\"137.181366\" xlink:href=\"#m47784bc6ef\" y=\"45.644014\"/>\n     <use style=\"fill:#1f77b4;stroke:#1f77b4;\" x=\"105.173724\" xlink:href=\"#m47784bc6ef\" y=\"38.637136\"/>\n     <use style=\"fill:#1f77b4;stroke:#1f77b4;\" x=\"81.094652\" xlink:href=\"#m47784bc6ef\" y=\"43.583567\"/>\n     <use style=\"fill:#1f77b4;stroke:#1f77b4;\" x=\"124.947332\" xlink:href=\"#m47784bc6ef\" y=\"75.270239\"/>\n     <use style=\"fill:#1f77b4;stroke:#1f77b4;\" x=\"138.977888\" xlink:href=\"#m47784bc6ef\" y=\"73.384055\"/>\n     <use style=\"fill:#1f77b4;stroke:#1f77b4;\" x=\"143.215065\" xlink:href=\"#m47784bc6ef\" y=\"53.431522\"/>\n     <use style=\"fill:#1f77b4;stroke:#1f77b4;\" x=\"145.333879\" xlink:href=\"#m47784bc6ef\" y=\"73.399752\"/>\n     <use style=\"fill:#1f77b4;stroke:#1f77b4;\" x=\"126.902192\" xlink:href=\"#m47784bc6ef\" y=\"64.548049\"/>\n     <use style=\"fill:#1f77b4;stroke:#1f77b4;\" x=\"101.267375\" xlink:href=\"#m47784bc6ef\" y=\"71.500116\"/>\n     <use style=\"fill:#1f77b4;stroke:#1f77b4;\" x=\"115.383886\" xlink:href=\"#m47784bc6ef\" y=\"60.748225\"/>\n     <use style=\"fill:#1f77b4;stroke:#1f77b4;\" x=\"152.649938\" xlink:href=\"#m47784bc6ef\" y=\"77.38883\"/>\n     <use style=\"fill:#1f77b4;stroke:#1f77b4;\" x=\"165.235996\" xlink:href=\"#m47784bc6ef\" y=\"90.794541\"/>\n     <use style=\"fill:#1f77b4;stroke:#1f77b4;\" x=\"149.912446\" xlink:href=\"#m47784bc6ef\" y=\"97.039572\"/>\n     <use style=\"fill:#1f77b4;stroke:#1f77b4;\" x=\"137.458948\" xlink:href=\"#m47784bc6ef\" y=\"58.660692\"/>\n     <use style=\"fill:#1f77b4;stroke:#1f77b4;\" x=\"80.992955\" xlink:href=\"#m47784bc6ef\" y=\"51.388389\"/>\n     <use style=\"fill:#1f77b4;stroke:#1f77b4;\" x=\"115.685088\" xlink:href=\"#m47784bc6ef\" y=\"50.96086\"/>\n     <use style=\"fill:#1f77b4;stroke:#1f77b4;\" x=\"147.41307\" xlink:href=\"#m47784bc6ef\" y=\"91.644893\"/>\n     <use style=\"fill:#1f77b4;stroke:#1f77b4;\" x=\"111.695736\" xlink:href=\"#m47784bc6ef\" y=\"55.876128\"/>\n     <use style=\"fill:#1f77b4;stroke:#1f77b4;\" x=\"172.056271\" xlink:href=\"#m47784bc6ef\" y=\"108.603664\"/>\n     <use style=\"fill:#1f77b4;stroke:#1f77b4;\" x=\"162.723718\" xlink:href=\"#m47784bc6ef\" y=\"99.1562\"/>\n     <use style=\"fill:#1f77b4;stroke:#1f77b4;\" x=\"73.645968\" xlink:href=\"#m47784bc6ef\" y=\"14.535842\"/>\n     <use style=\"fill:#1f77b4;stroke:#1f77b4;\" x=\"150.314781\" xlink:href=\"#m47784bc6ef\" y=\"94.030402\"/>\n     <use style=\"fill:#1f77b4;stroke:#1f77b4;\" x=\"148.932053\" xlink:href=\"#m47784bc6ef\" y=\"87.446086\"/>\n     <use style=\"fill:#1f77b4;stroke:#1f77b4;\" x=\"102.720184\" xlink:href=\"#m47784bc6ef\" y=\"52.168845\"/>\n     <use style=\"fill:#1f77b4;stroke:#1f77b4;\" x=\"138.314111\" xlink:href=\"#m47784bc6ef\" y=\"61.291555\"/>\n     <use style=\"fill:#1f77b4;stroke:#1f77b4;\" x=\"175.158102\" xlink:href=\"#m47784bc6ef\" y=\"109.627297\"/>\n     <use style=\"fill:#1f77b4;stroke:#1f77b4;\" x=\"154.272656\" xlink:href=\"#m47784bc6ef\" y=\"85.666217\"/>\n     <use style=\"fill:#1f77b4;stroke:#1f77b4;\" x=\"142.369514\" xlink:href=\"#m47784bc6ef\" y=\"65.752433\"/>\n     <use style=\"fill:#1f77b4;stroke:#1f77b4;\" x=\"182.99214\" xlink:href=\"#m47784bc6ef\" y=\"115.951756\"/>\n     <use style=\"fill:#1f77b4;stroke:#1f77b4;\" x=\"156.722658\" xlink:href=\"#m47784bc6ef\" y=\"71.983692\"/>\n     <use style=\"fill:#1f77b4;stroke:#1f77b4;\" x=\"188.528369\" xlink:href=\"#m47784bc6ef\" y=\"84.13206\"/>\n     <use style=\"fill:#1f77b4;stroke:#1f77b4;\" x=\"128.692241\" xlink:href=\"#m47784bc6ef\" y=\"77.432832\"/>\n     <use style=\"fill:#1f77b4;stroke:#1f77b4;\" x=\"130.07857\" xlink:href=\"#m47784bc6ef\" y=\"76.054295\"/>\n     <use style=\"fill:#1f77b4;stroke:#1f77b4;\" x=\"182.830417\" xlink:href=\"#m47784bc6ef\" y=\"111.534482\"/>\n     <use style=\"fill:#1f77b4;stroke:#1f77b4;\" x=\"137.067247\" xlink:href=\"#m47784bc6ef\" y=\"78.353443\"/>\n     <use style=\"fill:#1f77b4;stroke:#1f77b4;\" x=\"121.885036\" xlink:href=\"#m47784bc6ef\" y=\"57.221047\"/>\n     <use style=\"fill:#1f77b4;stroke:#1f77b4;\" x=\"165.696914\" xlink:href=\"#m47784bc6ef\" y=\"64.328489\"/>\n     <use style=\"fill:#1f77b4;stroke:#1f77b4;\" x=\"175.536101\" xlink:href=\"#m47784bc6ef\" y=\"90.34199\"/>\n     <use style=\"fill:#1f77b4;stroke:#1f77b4;\" x=\"119.263788\" xlink:href=\"#m47784bc6ef\" y=\"75.76807\"/>\n     <use style=\"fill:#1f77b4;stroke:#1f77b4;\" x=\"122.121515\" xlink:href=\"#m47784bc6ef\" y=\"61.790906\"/>\n     <use style=\"fill:#1f77b4;stroke:#1f77b4;\" x=\"138.804077\" xlink:href=\"#m47784bc6ef\" y=\"71.743955\"/>\n     <use style=\"fill:#1f77b4;stroke:#1f77b4;\" x=\"122.015885\" xlink:href=\"#m47784bc6ef\" y=\"40.120735\"/>\n     <use style=\"fill:#1f77b4;stroke:#1f77b4;\" x=\"157.733013\" xlink:href=\"#m47784bc6ef\" y=\"74.419421\"/>\n     <use style=\"fill:#1f77b4;stroke:#1f77b4;\" x=\"121.126989\" xlink:href=\"#m47784bc6ef\" y=\"53.227717\"/>\n     <use style=\"fill:#1f77b4;stroke:#1f77b4;\" x=\"118.407385\" xlink:href=\"#m47784bc6ef\" y=\"70.525163\"/>\n     <use style=\"fill:#1f77b4;stroke:#1f77b4;\" x=\"98.514123\" xlink:href=\"#m47784bc6ef\" y=\"49.204361\"/>\n     <use style=\"fill:#1f77b4;stroke:#1f77b4;\" x=\"174.776248\" xlink:href=\"#m47784bc6ef\" y=\"90.018406\"/>\n     <use style=\"fill:#1f77b4;stroke:#1f77b4;\" x=\"67.363188\" xlink:href=\"#m47784bc6ef\" y=\"19.862887\"/>\n     <use style=\"fill:#1f77b4;stroke:#1f77b4;\" x=\"125.372806\" xlink:href=\"#m47784bc6ef\" y=\"61.718135\"/>\n     <use style=\"fill:#1f77b4;stroke:#1f77b4;\" x=\"87.190455\" xlink:href=\"#m47784bc6ef\" y=\"39.082479\"/>\n     <use style=\"fill:#1f77b4;stroke:#1f77b4;\" x=\"170.402448\" xlink:href=\"#m47784bc6ef\" y=\"91.764293\"/>\n     <use style=\"fill:#1f77b4;stroke:#1f77b4;\" x=\"111.409683\" xlink:href=\"#m47784bc6ef\" y=\"54.864854\"/>\n     <use style=\"fill:#1f77b4;stroke:#1f77b4;\" x=\"160.554679\" xlink:href=\"#m47784bc6ef\" y=\"76.528208\"/>\n     <use style=\"fill:#1f77b4;stroke:#1f77b4;\" x=\"120.332791\" xlink:href=\"#m47784bc6ef\" y=\"53.508941\"/>\n     <use style=\"fill:#1f77b4;stroke:#1f77b4;\" x=\"136.842967\" xlink:href=\"#m47784bc6ef\" y=\"69.635036\"/>\n     <use style=\"fill:#1f77b4;stroke:#1f77b4;\" x=\"118.927872\" xlink:href=\"#m47784bc6ef\" y=\"72.928898\"/>\n     <use style=\"fill:#1f77b4;stroke:#1f77b4;\" x=\"80.348179\" xlink:href=\"#m47784bc6ef\" y=\"18.257699\"/>\n     <use style=\"fill:#1f77b4;stroke:#1f77b4;\" x=\"128.311552\" xlink:href=\"#m47784bc6ef\" y=\"63.081892\"/>\n     <use style=\"fill:#1f77b4;stroke:#1f77b4;\" x=\"133.084651\" xlink:href=\"#m47784bc6ef\" y=\"73.667405\"/>\n     <use style=\"fill:#1f77b4;stroke:#1f77b4;\" x=\"176.192456\" xlink:href=\"#m47784bc6ef\" y=\"105.502168\"/>\n     <use style=\"fill:#1f77b4;stroke:#1f77b4;\" x=\"130.319893\" xlink:href=\"#m47784bc6ef\" y=\"59.261751\"/>\n     <use style=\"fill:#1f77b4;stroke:#1f77b4;\" x=\"153.713698\" xlink:href=\"#m47784bc6ef\" y=\"75.081266\"/>\n     <use style=\"fill:#1f77b4;stroke:#1f77b4;\" x=\"132.94654\" xlink:href=\"#m47784bc6ef\" y=\"45.886169\"/>\n     <use style=\"fill:#1f77b4;stroke:#1f77b4;\" x=\"124.49621\" xlink:href=\"#m47784bc6ef\" y=\"67.819748\"/>\n     <use style=\"fill:#1f77b4;stroke:#1f77b4;\" x=\"84.696187\" xlink:href=\"#m47784bc6ef\" y=\"35.700379\"/>\n     <use style=\"fill:#1f77b4;stroke:#1f77b4;\" x=\"91.142236\" xlink:href=\"#m47784bc6ef\" y=\"44.626422\"/>\n     <use style=\"fill:#1f77b4;stroke:#1f77b4;\" x=\"134.089631\" xlink:href=\"#m47784bc6ef\" y=\"53.145368\"/>\n     <use style=\"fill:#1f77b4;stroke:#1f77b4;\" x=\"120.223267\" xlink:href=\"#m47784bc6ef\" y=\"63.054042\"/>\n     <use style=\"fill:#1f77b4;stroke:#1f77b4;\" x=\"145.244242\" xlink:href=\"#m47784bc6ef\" y=\"56.019134\"/>\n     <use style=\"fill:#1f77b4;stroke:#1f77b4;\" x=\"169.267439\" xlink:href=\"#m47784bc6ef\" y=\"105.661088\"/>\n     <use style=\"fill:#1f77b4;stroke:#1f77b4;\" x=\"103.828875\" xlink:href=\"#m47784bc6ef\" y=\"46.657066\"/>\n     <use style=\"fill:#1f77b4;stroke:#1f77b4;\" x=\"113.429151\" xlink:href=\"#m47784bc6ef\" y=\"62.20342\"/>\n     <use style=\"fill:#1f77b4;stroke:#1f77b4;\" x=\"130.311065\" xlink:href=\"#m47784bc6ef\" y=\"87.967884\"/>\n     <use style=\"fill:#1f77b4;stroke:#1f77b4;\" x=\"155.764056\" xlink:href=\"#m47784bc6ef\" y=\"81.583044\"/>\n     <use style=\"fill:#1f77b4;stroke:#1f77b4;\" x=\"128.68693\" xlink:href=\"#m47784bc6ef\" y=\"78.878606\"/>\n     <use style=\"fill:#1f77b4;stroke:#1f77b4;\" x=\"115.581957\" xlink:href=\"#m47784bc6ef\" y=\"74.143312\"/>\n     <use style=\"fill:#1f77b4;stroke:#1f77b4;\" x=\"99.078839\" xlink:href=\"#m47784bc6ef\" y=\"48.975859\"/>\n     <use style=\"fill:#1f77b4;stroke:#1f77b4;\" x=\"170.511384\" xlink:href=\"#m47784bc6ef\" y=\"87.713356\"/>\n     <use style=\"fill:#1f77b4;stroke:#1f77b4;\" x=\"104.798552\" xlink:href=\"#m47784bc6ef\" y=\"48.110302\"/>\n     <use style=\"fill:#1f77b4;stroke:#1f77b4;\" x=\"115.883839\" xlink:href=\"#m47784bc6ef\" y=\"81.154698\"/>\n     <use style=\"fill:#1f77b4;stroke:#1f77b4;\" x=\"147.133863\" xlink:href=\"#m47784bc6ef\" y=\"96.036531\"/>\n     <use style=\"fill:#1f77b4;stroke:#1f77b4;\" x=\"129.986852\" xlink:href=\"#m47784bc6ef\" y=\"80.304238\"/>\n     <use style=\"fill:#1f77b4;stroke:#1f77b4;\" x=\"151.842354\" xlink:href=\"#m47784bc6ef\" y=\"67.405125\"/>\n     <use style=\"fill:#1f77b4;stroke:#1f77b4;\" x=\"134.229531\" xlink:href=\"#m47784bc6ef\" y=\"64.631973\"/>\n     <use style=\"fill:#1f77b4;stroke:#1f77b4;\" x=\"137.57401\" xlink:href=\"#m47784bc6ef\" y=\"57.958213\"/>\n     <use style=\"fill:#1f77b4;stroke:#1f77b4;\" x=\"126.525538\" xlink:href=\"#m47784bc6ef\" y=\"69.663988\"/>\n     <use style=\"fill:#1f77b4;stroke:#1f77b4;\" x=\"179.343164\" xlink:href=\"#m47784bc6ef\" y=\"92.841589\"/>\n     <use style=\"fill:#1f77b4;stroke:#1f77b4;\" x=\"151.94658\" xlink:href=\"#m47784bc6ef\" y=\"90.707731\"/>\n     <use style=\"fill:#1f77b4;stroke:#1f77b4;\" x=\"146.374057\" xlink:href=\"#m47784bc6ef\" y=\"83.779369\"/>\n     <use style=\"fill:#1f77b4;stroke:#1f77b4;\" x=\"138.439762\" xlink:href=\"#m47784bc6ef\" y=\"98.49756\"/>\n     <use style=\"fill:#1f77b4;stroke:#1f77b4;\" x=\"164.391615\" xlink:href=\"#m47784bc6ef\" y=\"102.314906\"/>\n     <use style=\"fill:#1f77b4;stroke:#1f77b4;\" x=\"121.032741\" xlink:href=\"#m47784bc6ef\" y=\"58.489326\"/>\n     <use style=\"fill:#1f77b4;stroke:#1f77b4;\" x=\"108.765126\" xlink:href=\"#m47784bc6ef\" y=\"62.034\"/>\n     <use style=\"fill:#1f77b4;stroke:#1f77b4;\" x=\"92.541962\" xlink:href=\"#m47784bc6ef\" y=\"28.539971\"/>\n     <use style=\"fill:#1f77b4;stroke:#1f77b4;\" x=\"103.224743\" xlink:href=\"#m47784bc6ef\" y=\"32.780892\"/>\n     <use style=\"fill:#1f77b4;stroke:#1f77b4;\" x=\"58.737997\" xlink:href=\"#m47784bc6ef\" y=\"27.473583\"/>\n     <use style=\"fill:#1f77b4;stroke:#1f77b4;\" x=\"137.348065\" xlink:href=\"#m47784bc6ef\" y=\"61.790276\"/>\n     <use style=\"fill:#1f77b4;stroke:#1f77b4;\" x=\"147.190298\" xlink:href=\"#m47784bc6ef\" y=\"88.219451\"/>\n     <use style=\"fill:#1f77b4;stroke:#1f77b4;\" x=\"108.064782\" xlink:href=\"#m47784bc6ef\" y=\"48.10449\"/>\n     <use style=\"fill:#1f77b4;stroke:#1f77b4;\" x=\"147.281392\" xlink:href=\"#m47784bc6ef\" y=\"69.571035\"/>\n     <use style=\"fill:#1f77b4;stroke:#1f77b4;\" x=\"121.204564\" xlink:href=\"#m47784bc6ef\" y=\"57.337869\"/>\n     <use style=\"fill:#1f77b4;stroke:#1f77b4;\" x=\"121.472267\" xlink:href=\"#m47784bc6ef\" y=\"51.375426\"/>\n     <use style=\"fill:#1f77b4;stroke:#1f77b4;\" x=\"163.967396\" xlink:href=\"#m47784bc6ef\" y=\"93.848925\"/>\n     <use style=\"fill:#1f77b4;stroke:#1f77b4;\" x=\"124.680982\" xlink:href=\"#m47784bc6ef\" y=\"53.415637\"/>\n     <use style=\"fill:#1f77b4;stroke:#1f77b4;\" x=\"133.893833\" xlink:href=\"#m47784bc6ef\" y=\"71.925814\"/>\n     <use style=\"fill:#1f77b4;stroke:#1f77b4;\" x=\"113.614205\" xlink:href=\"#m47784bc6ef\" y=\"34.157885\"/>\n     <use style=\"fill:#1f77b4;stroke:#1f77b4;\" x=\"148.143178\" xlink:href=\"#m47784bc6ef\" y=\"84.332452\"/>\n     <use style=\"fill:#1f77b4;stroke:#1f77b4;\" x=\"157.449589\" xlink:href=\"#m47784bc6ef\" y=\"73.078192\"/>\n     <use style=\"fill:#1f77b4;stroke:#1f77b4;\" x=\"110.190836\" xlink:href=\"#m47784bc6ef\" y=\"61.891532\"/>\n     <use style=\"fill:#1f77b4;stroke:#1f77b4;\" x=\"111.265109\" xlink:href=\"#m47784bc6ef\" y=\"41.185573\"/>\n     <use style=\"fill:#1f77b4;stroke:#1f77b4;\" x=\"133.665772\" xlink:href=\"#m47784bc6ef\" y=\"70.582864\"/>\n     <use style=\"fill:#1f77b4;stroke:#1f77b4;\" x=\"67.829022\" xlink:href=\"#m47784bc6ef\" y=\"13.603226\"/>\n     <use style=\"fill:#1f77b4;stroke:#1f77b4;\" x=\"162.814019\" xlink:href=\"#m47784bc6ef\" y=\"82.552289\"/>\n     <use style=\"fill:#1f77b4;stroke:#1f77b4;\" x=\"161.514279\" xlink:href=\"#m47784bc6ef\" y=\"104.956741\"/>\n     <use style=\"fill:#1f77b4;stroke:#1f77b4;\" x=\"157.7908\" xlink:href=\"#m47784bc6ef\" y=\"96.097024\"/>\n     <use style=\"fill:#1f77b4;stroke:#1f77b4;\" x=\"133.743177\" xlink:href=\"#m47784bc6ef\" y=\"82.69779\"/>\n     <use style=\"fill:#1f77b4;stroke:#1f77b4;\" x=\"142.793974\" xlink:href=\"#m47784bc6ef\" y=\"71.247191\"/>\n     <use style=\"fill:#1f77b4;stroke:#1f77b4;\" x=\"132.351921\" xlink:href=\"#m47784bc6ef\" y=\"51.703443\"/>\n     <use style=\"fill:#1f77b4;stroke:#1f77b4;\" x=\"127.267693\" xlink:href=\"#m47784bc6ef\" y=\"46.682432\"/>\n     <use style=\"fill:#1f77b4;stroke:#1f77b4;\" x=\"122.915485\" xlink:href=\"#m47784bc6ef\" y=\"56.315246\"/>\n     <use style=\"fill:#1f77b4;stroke:#1f77b4;\" x=\"133.394846\" xlink:href=\"#m47784bc6ef\" y=\"69.63315\"/>\n     <use style=\"fill:#1f77b4;stroke:#1f77b4;\" x=\"137.715607\" xlink:href=\"#m47784bc6ef\" y=\"85.977779\"/>\n     <use style=\"fill:#1f77b4;stroke:#1f77b4;\" x=\"158.199044\" xlink:href=\"#m47784bc6ef\" y=\"102.201825\"/>\n     <use style=\"fill:#1f77b4;stroke:#1f77b4;\" x=\"117.709715\" xlink:href=\"#m47784bc6ef\" y=\"67.756878\"/>\n     <use style=\"fill:#1f77b4;stroke:#1f77b4;\" x=\"121.700168\" xlink:href=\"#m47784bc6ef\" y=\"65.04191\"/>\n     <use style=\"fill:#1f77b4;stroke:#1f77b4;\" x=\"98.536852\" xlink:href=\"#m47784bc6ef\" y=\"27.054644\"/>\n     <use style=\"fill:#1f77b4;stroke:#1f77b4;\" x=\"143.774928\" xlink:href=\"#m47784bc6ef\" y=\"58.411287\"/>\n     <use style=\"fill:#1f77b4;stroke:#1f77b4;\" x=\"141.102891\" xlink:href=\"#m47784bc6ef\" y=\"59.58565\"/>\n     <use style=\"fill:#1f77b4;stroke:#1f77b4;\" x=\"123.69024\" xlink:href=\"#m47784bc6ef\" y=\"47.727233\"/>\n     <use style=\"fill:#1f77b4;stroke:#1f77b4;\" x=\"124.191231\" xlink:href=\"#m47784bc6ef\" y=\"80.472558\"/>\n     <use style=\"fill:#1f77b4;stroke:#1f77b4;\" x=\"132.706473\" xlink:href=\"#m47784bc6ef\" y=\"61.209113\"/>\n     <use style=\"fill:#1f77b4;stroke:#1f77b4;\" x=\"134.603588\" xlink:href=\"#m47784bc6ef\" y=\"88.48993\"/>\n     <use style=\"fill:#1f77b4;stroke:#1f77b4;\" x=\"134.600226\" xlink:href=\"#m47784bc6ef\" y=\"74.359333\"/>\n     <use style=\"fill:#1f77b4;stroke:#1f77b4;\" x=\"151.53059\" xlink:href=\"#m47784bc6ef\" y=\"75.913039\"/>\n     <use style=\"fill:#1f77b4;stroke:#1f77b4;\" x=\"160.009379\" xlink:href=\"#m47784bc6ef\" y=\"96.211919\"/>\n     <use style=\"fill:#1f77b4;stroke:#1f77b4;\" x=\"115.923054\" xlink:href=\"#m47784bc6ef\" y=\"60.502547\"/>\n     <use style=\"fill:#1f77b4;stroke:#1f77b4;\" x=\"145.958128\" xlink:href=\"#m47784bc6ef\" y=\"88.741105\"/>\n     <use style=\"fill:#1f77b4;stroke:#1f77b4;\" x=\"136.189099\" xlink:href=\"#m47784bc6ef\" y=\"73.859231\"/>\n     <use style=\"fill:#1f77b4;stroke:#1f77b4;\" x=\"123.570555\" xlink:href=\"#m47784bc6ef\" y=\"58.379798\"/>\n     <use style=\"fill:#1f77b4;stroke:#1f77b4;\" x=\"116.163732\" xlink:href=\"#m47784bc6ef\" y=\"77.73275\"/>\n     <use style=\"fill:#1f77b4;stroke:#1f77b4;\" x=\"85.093996\" xlink:href=\"#m47784bc6ef\" y=\"36.213558\"/>\n     <use style=\"fill:#1f77b4;stroke:#1f77b4;\" x=\"139.090878\" xlink:href=\"#m47784bc6ef\" y=\"80.956257\"/>\n     <use style=\"fill:#1f77b4;stroke:#1f77b4;\" x=\"174.025021\" xlink:href=\"#m47784bc6ef\" y=\"80.076715\"/>\n     <use style=\"fill:#1f77b4;stroke:#1f77b4;\" x=\"76.817012\" xlink:href=\"#m47784bc6ef\" y=\"29.344937\"/>\n     <use style=\"fill:#1f77b4;stroke:#1f77b4;\" x=\"130.917168\" xlink:href=\"#m47784bc6ef\" y=\"66.347735\"/>\n     <use style=\"fill:#1f77b4;stroke:#1f77b4;\" x=\"108.019297\" xlink:href=\"#m47784bc6ef\" y=\"45.998292\"/>\n     <use style=\"fill:#1f77b4;stroke:#1f77b4;\" x=\"90.941374\" xlink:href=\"#m47784bc6ef\" y=\"19.022607\"/>\n     <use style=\"fill:#1f77b4;stroke:#1f77b4;\" x=\"83.801797\" xlink:href=\"#m47784bc6ef\" y=\"24.428428\"/>\n     <use style=\"fill:#1f77b4;stroke:#1f77b4;\" x=\"128.349537\" xlink:href=\"#m47784bc6ef\" y=\"79.973965\"/>\n     <use style=\"fill:#1f77b4;stroke:#1f77b4;\" x=\"118.896677\" xlink:href=\"#m47784bc6ef\" y=\"61.149875\"/>\n     <use style=\"fill:#1f77b4;stroke:#1f77b4;\" x=\"124.614118\" xlink:href=\"#m47784bc6ef\" y=\"80.120535\"/>\n     <use style=\"fill:#1f77b4;stroke:#1f77b4;\" x=\"117.67483\" xlink:href=\"#m47784bc6ef\" y=\"57.418108\"/>\n     <use style=\"fill:#1f77b4;stroke:#1f77b4;\" x=\"115.311668\" xlink:href=\"#m47784bc6ef\" y=\"55.2323\"/>\n     <use style=\"fill:#1f77b4;stroke:#1f77b4;\" x=\"90.93514\" xlink:href=\"#m47784bc6ef\" y=\"34.940863\"/>\n     <use style=\"fill:#1f77b4;stroke:#1f77b4;\" x=\"168.397495\" xlink:href=\"#m47784bc6ef\" y=\"99.243781\"/>\n     <use style=\"fill:#1f77b4;stroke:#1f77b4;\" x=\"97.426052\" xlink:href=\"#m47784bc6ef\" y=\"46.100062\"/>\n     <use style=\"fill:#1f77b4;stroke:#1f77b4;\" x=\"106.043235\" xlink:href=\"#m47784bc6ef\" y=\"53.591907\"/>\n     <use style=\"fill:#1f77b4;stroke:#1f77b4;\" x=\"116.387739\" xlink:href=\"#m47784bc6ef\" y=\"62.566917\"/>\n     <use style=\"fill:#1f77b4;stroke:#1f77b4;\" x=\"99.33758\" xlink:href=\"#m47784bc6ef\" y=\"56.808541\"/>\n     <use style=\"fill:#1f77b4;stroke:#1f77b4;\" x=\"53.50716\" xlink:href=\"#m47784bc6ef\" y=\"25.639722\"/>\n     <use style=\"fill:#1f77b4;stroke:#1f77b4;\" x=\"112.470549\" xlink:href=\"#m47784bc6ef\" y=\"41.762561\"/>\n     <use style=\"fill:#1f77b4;stroke:#1f77b4;\" x=\"149.128423\" xlink:href=\"#m47784bc6ef\" y=\"88.687637\"/>\n     <use style=\"fill:#1f77b4;stroke:#1f77b4;\" x=\"131.197214\" xlink:href=\"#m47784bc6ef\" y=\"78.476853\"/>\n     <use style=\"fill:#1f77b4;stroke:#1f77b4;\" x=\"138.781093\" xlink:href=\"#m47784bc6ef\" y=\"87.85467\"/>\n     <use style=\"fill:#1f77b4;stroke:#1f77b4;\" x=\"142.332979\" xlink:href=\"#m47784bc6ef\" y=\"84.099588\"/>\n     <use style=\"fill:#1f77b4;stroke:#1f77b4;\" x=\"199.957144\" xlink:href=\"#m47784bc6ef\" y=\"97.066695\"/>\n     <use style=\"fill:#1f77b4;stroke:#1f77b4;\" x=\"146.647338\" xlink:href=\"#m47784bc6ef\" y=\"78.30448\"/>\n     <use style=\"fill:#1f77b4;stroke:#1f77b4;\" x=\"135.276328\" xlink:href=\"#m47784bc6ef\" y=\"71.984976\"/>\n     <use style=\"fill:#1f77b4;stroke:#1f77b4;\" x=\"113.773213\" xlink:href=\"#m47784bc6ef\" y=\"49.027152\"/>\n     <use style=\"fill:#1f77b4;stroke:#1f77b4;\" x=\"142.453214\" xlink:href=\"#m47784bc6ef\" y=\"93.801703\"/>\n     <use style=\"fill:#1f77b4;stroke:#1f77b4;\" x=\"132.676134\" xlink:href=\"#m47784bc6ef\" y=\"80.931201\"/>\n     <use style=\"fill:#1f77b4;stroke:#1f77b4;\" x=\"158.746096\" xlink:href=\"#m47784bc6ef\" y=\"72.052081\"/>\n     <use style=\"fill:#1f77b4;stroke:#1f77b4;\" x=\"177.218318\" xlink:href=\"#m47784bc6ef\" y=\"111.677728\"/>\n     <use style=\"fill:#1f77b4;stroke:#1f77b4;\" x=\"111.146268\" xlink:href=\"#m47784bc6ef\" y=\"57.294867\"/>\n     <use style=\"fill:#1f77b4;stroke:#1f77b4;\" x=\"184.764073\" xlink:href=\"#m47784bc6ef\" y=\"110.275069\"/>\n     <use style=\"fill:#1f77b4;stroke:#1f77b4;\" x=\"164.90825\" xlink:href=\"#m47784bc6ef\" y=\"104.597787\"/>\n     <use style=\"fill:#1f77b4;stroke:#1f77b4;\" x=\"126.145356\" xlink:href=\"#m47784bc6ef\" y=\"50.855862\"/>\n     <use style=\"fill:#1f77b4;stroke:#1f77b4;\" x=\"116.325672\" xlink:href=\"#m47784bc6ef\" y=\"51.339731\"/>\n     <use style=\"fill:#1f77b4;stroke:#1f77b4;\" x=\"155.064252\" xlink:href=\"#m47784bc6ef\" y=\"97.632349\"/>\n     <use style=\"fill:#1f77b4;stroke:#1f77b4;\" x=\"105.672907\" xlink:href=\"#m47784bc6ef\" y=\"55.668893\"/>\n     <use style=\"fill:#1f77b4;stroke:#1f77b4;\" x=\"132.646286\" xlink:href=\"#m47784bc6ef\" y=\"75.450849\"/>\n     <use style=\"fill:#1f77b4;stroke:#1f77b4;\" x=\"142.231598\" xlink:href=\"#m47784bc6ef\" y=\"78.723136\"/>\n     <use style=\"fill:#1f77b4;stroke:#1f77b4;\" x=\"95.99451\" xlink:href=\"#m47784bc6ef\" y=\"34.673684\"/>\n     <use style=\"fill:#1f77b4;stroke:#1f77b4;\" x=\"128.997985\" xlink:href=\"#m47784bc6ef\" y=\"67.765589\"/>\n     <use style=\"fill:#1f77b4;stroke:#1f77b4;\" x=\"131.263858\" xlink:href=\"#m47784bc6ef\" y=\"54.75882\"/>\n     <use style=\"fill:#1f77b4;stroke:#1f77b4;\" x=\"136.679369\" xlink:href=\"#m47784bc6ef\" y=\"77.887929\"/>\n     <use style=\"fill:#1f77b4;stroke:#1f77b4;\" x=\"157.938833\" xlink:href=\"#m47784bc6ef\" y=\"70.021099\"/>\n     <use style=\"fill:#1f77b4;stroke:#1f77b4;\" x=\"153.573835\" xlink:href=\"#m47784bc6ef\" y=\"88.304163\"/>\n     <use style=\"fill:#1f77b4;stroke:#1f77b4;\" x=\"175.873319\" xlink:href=\"#m47784bc6ef\" y=\"97.759998\"/>\n     <use style=\"fill:#1f77b4;stroke:#1f77b4;\" x=\"98.290368\" xlink:href=\"#m47784bc6ef\" y=\"40.991908\"/>\n     <use style=\"fill:#1f77b4;stroke:#1f77b4;\" x=\"104.87025\" xlink:href=\"#m47784bc6ef\" y=\"54.230138\"/>\n     <use style=\"fill:#1f77b4;stroke:#1f77b4;\" x=\"147.158054\" xlink:href=\"#m47784bc6ef\" y=\"99.009008\"/>\n     <use style=\"fill:#1f77b4;stroke:#1f77b4;\" x=\"110.345983\" xlink:href=\"#m47784bc6ef\" y=\"41.428075\"/>\n     <use style=\"fill:#1f77b4;stroke:#1f77b4;\" x=\"130.658445\" xlink:href=\"#m47784bc6ef\" y=\"54.405116\"/>\n     <use style=\"fill:#1f77b4;stroke:#1f77b4;\" x=\"163.695694\" xlink:href=\"#m47784bc6ef\" y=\"83.454222\"/>\n     <use style=\"fill:#1f77b4;stroke:#1f77b4;\" x=\"135.228905\" xlink:href=\"#m47784bc6ef\" y=\"71.039872\"/>\n     <use style=\"fill:#1f77b4;stroke:#1f77b4;\" x=\"83.28405\" xlink:href=\"#m47784bc6ef\" y=\"41.540219\"/>\n     <use style=\"fill:#1f77b4;stroke:#1f77b4;\" x=\"133.453076\" xlink:href=\"#m47784bc6ef\" y=\"74.086223\"/>\n     <use style=\"fill:#1f77b4;stroke:#1f77b4;\" x=\"176.852532\" xlink:href=\"#m47784bc6ef\" y=\"106.614283\"/>\n     <use style=\"fill:#1f77b4;stroke:#1f77b4;\" x=\"146.369179\" xlink:href=\"#m47784bc6ef\" y=\"67.344725\"/>\n     <use style=\"fill:#1f77b4;stroke:#1f77b4;\" x=\"147.058179\" xlink:href=\"#m47784bc6ef\" y=\"69.382601\"/>\n     <use style=\"fill:#1f77b4;stroke:#1f77b4;\" x=\"137.464343\" xlink:href=\"#m47784bc6ef\" y=\"83.15284\"/>\n     <use style=\"fill:#1f77b4;stroke:#1f77b4;\" x=\"158.106496\" xlink:href=\"#m47784bc6ef\" y=\"82.008583\"/>\n     <use style=\"fill:#1f77b4;stroke:#1f77b4;\" x=\"162.984021\" xlink:href=\"#m47784bc6ef\" y=\"69.638811\"/>\n     <use style=\"fill:#1f77b4;stroke:#1f77b4;\" x=\"144.136046\" xlink:href=\"#m47784bc6ef\" y=\"92.035856\"/>\n     <use style=\"fill:#1f77b4;stroke:#1f77b4;\" x=\"148.604233\" xlink:href=\"#m47784bc6ef\" y=\"94.022655\"/>\n     <use style=\"fill:#1f77b4;stroke:#1f77b4;\" x=\"168.228001\" xlink:href=\"#m47784bc6ef\" y=\"102.959128\"/>\n     <use style=\"fill:#1f77b4;stroke:#1f77b4;\" x=\"126.558693\" xlink:href=\"#m47784bc6ef\" y=\"67.427559\"/>\n     <use style=\"fill:#1f77b4;stroke:#1f77b4;\" x=\"118.899821\" xlink:href=\"#m47784bc6ef\" y=\"66.237433\"/>\n     <use style=\"fill:#1f77b4;stroke:#1f77b4;\" x=\"66.468571\" xlink:href=\"#m47784bc6ef\" y=\"25.123481\"/>\n     <use style=\"fill:#1f77b4;stroke:#1f77b4;\" x=\"190.951677\" xlink:href=\"#m47784bc6ef\" y=\"114.656626\"/>\n     <use style=\"fill:#1f77b4;stroke:#1f77b4;\" x=\"112.271076\" xlink:href=\"#m47784bc6ef\" y=\"66.743043\"/>\n     <use style=\"fill:#1f77b4;stroke:#1f77b4;\" x=\"137.535935\" xlink:href=\"#m47784bc6ef\" y=\"57.455325\"/>\n     <use style=\"fill:#1f77b4;stroke:#1f77b4;\" x=\"109.755823\" xlink:href=\"#m47784bc6ef\" y=\"42.730625\"/>\n     <use style=\"fill:#1f77b4;stroke:#1f77b4;\" x=\"111.091089\" xlink:href=\"#m47784bc6ef\" y=\"72.889453\"/>\n     <use style=\"fill:#1f77b4;stroke:#1f77b4;\" x=\"176.404505\" xlink:href=\"#m47784bc6ef\" y=\"92.969641\"/>\n     <use style=\"fill:#1f77b4;stroke:#1f77b4;\" x=\"108.757619\" xlink:href=\"#m47784bc6ef\" y=\"64.526757\"/>\n     <use style=\"fill:#1f77b4;stroke:#1f77b4;\" x=\"125.497637\" xlink:href=\"#m47784bc6ef\" y=\"95.097791\"/>\n     <use style=\"fill:#1f77b4;stroke:#1f77b4;\" x=\"114.68434\" xlink:href=\"#m47784bc6ef\" y=\"45.583319\"/>\n     <use style=\"fill:#1f77b4;stroke:#1f77b4;\" x=\"149.882883\" xlink:href=\"#m47784bc6ef\" y=\"87.54029\"/>\n     <use style=\"fill:#1f77b4;stroke:#1f77b4;\" x=\"150.231932\" xlink:href=\"#m47784bc6ef\" y=\"60.92374\"/>\n     <use style=\"fill:#1f77b4;stroke:#1f77b4;\" x=\"125.813617\" xlink:href=\"#m47784bc6ef\" y=\"48.927473\"/>\n     <use style=\"fill:#1f77b4;stroke:#1f77b4;\" x=\"150.232077\" xlink:href=\"#m47784bc6ef\" y=\"78.414285\"/>\n     <use style=\"fill:#1f77b4;stroke:#1f77b4;\" x=\"127.907745\" xlink:href=\"#m47784bc6ef\" y=\"84.834231\"/>\n     <use style=\"fill:#1f77b4;stroke:#1f77b4;\" x=\"145.011747\" xlink:href=\"#m47784bc6ef\" y=\"75.861388\"/>\n     <use style=\"fill:#1f77b4;stroke:#1f77b4;\" x=\"130.312909\" xlink:href=\"#m47784bc6ef\" y=\"53.274427\"/>\n     <use style=\"fill:#1f77b4;stroke:#1f77b4;\" x=\"121.576553\" xlink:href=\"#m47784bc6ef\" y=\"52.384534\"/>\n     <use style=\"fill:#1f77b4;stroke:#1f77b4;\" x=\"162.099913\" xlink:href=\"#m47784bc6ef\" y=\"80.869995\"/>\n     <use style=\"fill:#1f77b4;stroke:#1f77b4;\" x=\"137.141672\" xlink:href=\"#m47784bc6ef\" y=\"73.394569\"/>\n     <use style=\"fill:#1f77b4;stroke:#1f77b4;\" x=\"153.599243\" xlink:href=\"#m47784bc6ef\" y=\"77.44469\"/>\n     <use style=\"fill:#1f77b4;stroke:#1f77b4;\" x=\"129.875427\" xlink:href=\"#m47784bc6ef\" y=\"69.631074\"/>\n     <use style=\"fill:#1f77b4;stroke:#1f77b4;\" x=\"137.282398\" xlink:href=\"#m47784bc6ef\" y=\"73.524022\"/>\n     <use style=\"fill:#1f77b4;stroke:#1f77b4;\" x=\"169.980612\" xlink:href=\"#m47784bc6ef\" y=\"85.276705\"/>\n     <use style=\"fill:#1f77b4;stroke:#1f77b4;\" x=\"136.69156\" xlink:href=\"#m47784bc6ef\" y=\"65.169861\"/>\n     <use style=\"fill:#1f77b4;stroke:#1f77b4;\" x=\"83.054226\" xlink:href=\"#m47784bc6ef\" y=\"27.845723\"/>\n     <use style=\"fill:#1f77b4;stroke:#1f77b4;\" x=\"101.027222\" xlink:href=\"#m47784bc6ef\" y=\"43.663017\"/>\n     <use style=\"fill:#1f77b4;stroke:#1f77b4;\" x=\"129.217748\" xlink:href=\"#m47784bc6ef\" y=\"55.816504\"/>\n     <use style=\"fill:#1f77b4;stroke:#1f77b4;\" x=\"160.742223\" xlink:href=\"#m47784bc6ef\" y=\"95.242345\"/>\n     <use style=\"fill:#1f77b4;stroke:#1f77b4;\" x=\"145.141608\" xlink:href=\"#m47784bc6ef\" y=\"72.74065\"/>\n     <use style=\"fill:#1f77b4;stroke:#1f77b4;\" x=\"128.214709\" xlink:href=\"#m47784bc6ef\" y=\"63.8957\"/>\n     <use style=\"fill:#1f77b4;stroke:#1f77b4;\" x=\"136.744844\" xlink:href=\"#m47784bc6ef\" y=\"67.40041\"/>\n     <use style=\"fill:#1f77b4;stroke:#1f77b4;\" x=\"158.324974\" xlink:href=\"#m47784bc6ef\" y=\"69.770242\"/>\n     <use style=\"fill:#1f77b4;stroke:#1f77b4;\" x=\"135.702676\" xlink:href=\"#m47784bc6ef\" y=\"67.824344\"/>\n     <use style=\"fill:#1f77b4;stroke:#1f77b4;\" x=\"110.088102\" xlink:href=\"#m47784bc6ef\" y=\"37.486165\"/>\n     <use style=\"fill:#1f77b4;stroke:#1f77b4;\" x=\"79.163112\" xlink:href=\"#m47784bc6ef\" y=\"38.746327\"/>\n     <use style=\"fill:#1f77b4;stroke:#1f77b4;\" x=\"95.023283\" xlink:href=\"#m47784bc6ef\" y=\"48.254875\"/>\n     <use style=\"fill:#1f77b4;stroke:#1f77b4;\" x=\"146.808653\" xlink:href=\"#m47784bc6ef\" y=\"73.192324\"/>\n     <use style=\"fill:#1f77b4;stroke:#1f77b4;\" x=\"115.002066\" xlink:href=\"#m47784bc6ef\" y=\"64.979159\"/>\n     <use style=\"fill:#1f77b4;stroke:#1f77b4;\" x=\"68.236762\" xlink:href=\"#m47784bc6ef\" y=\"31.826217\"/>\n     <use style=\"fill:#1f77b4;stroke:#1f77b4;\" x=\"103.572657\" xlink:href=\"#m47784bc6ef\" y=\"62.876755\"/>\n     <use style=\"fill:#1f77b4;stroke:#1f77b4;\" x=\"137.853978\" xlink:href=\"#m47784bc6ef\" y=\"79.262002\"/>\n     <use style=\"fill:#1f77b4;stroke:#1f77b4;\" x=\"116.158583\" xlink:href=\"#m47784bc6ef\" y=\"43.364505\"/>\n     <use style=\"fill:#1f77b4;stroke:#1f77b4;\" x=\"132.074506\" xlink:href=\"#m47784bc6ef\" y=\"71.635221\"/>\n     <use style=\"fill:#1f77b4;stroke:#1f77b4;\" x=\"114.663433\" xlink:href=\"#m47784bc6ef\" y=\"46.996144\"/>\n     <use style=\"fill:#1f77b4;stroke:#1f77b4;\" x=\"144.064741\" xlink:href=\"#m47784bc6ef\" y=\"85.546294\"/>\n     <use style=\"fill:#1f77b4;stroke:#1f77b4;\" x=\"127.894684\" xlink:href=\"#m47784bc6ef\" y=\"56.564541\"/>\n     <use style=\"fill:#1f77b4;stroke:#1f77b4;\" x=\"128.820452\" xlink:href=\"#m47784bc6ef\" y=\"68.490972\"/>\n     <use style=\"fill:#1f77b4;stroke:#1f77b4;\" x=\"149.368831\" xlink:href=\"#m47784bc6ef\" y=\"70.690475\"/>\n     <use style=\"fill:#1f77b4;stroke:#1f77b4;\" x=\"160.362677\" xlink:href=\"#m47784bc6ef\" y=\"83.039247\"/>\n     <use style=\"fill:#1f77b4;stroke:#1f77b4;\" x=\"175.828574\" xlink:href=\"#m47784bc6ef\" y=\"110.49864\"/>\n     <use style=\"fill:#1f77b4;stroke:#1f77b4;\" x=\"86.624215\" xlink:href=\"#m47784bc6ef\" y=\"54.851229\"/>\n     <use style=\"fill:#1f77b4;stroke:#1f77b4;\" x=\"107.686101\" xlink:href=\"#m47784bc6ef\" y=\"52.558507\"/>\n     <use style=\"fill:#1f77b4;stroke:#1f77b4;\" x=\"153.055084\" xlink:href=\"#m47784bc6ef\" y=\"90.289297\"/>\n     <use style=\"fill:#1f77b4;stroke:#1f77b4;\" x=\"115.387498\" xlink:href=\"#m47784bc6ef\" y=\"64.634017\"/>\n     <use style=\"fill:#1f77b4;stroke:#1f77b4;\" x=\"151.614674\" xlink:href=\"#m47784bc6ef\" y=\"80.871344\"/>\n     <use style=\"fill:#1f77b4;stroke:#1f77b4;\" x=\"114.590176\" xlink:href=\"#m47784bc6ef\" y=\"51.959724\"/>\n     <use style=\"fill:#1f77b4;stroke:#1f77b4;\" x=\"130.290167\" xlink:href=\"#m47784bc6ef\" y=\"90.940991\"/>\n     <use style=\"fill:#1f77b4;stroke:#1f77b4;\" x=\"164.493467\" xlink:href=\"#m47784bc6ef\" y=\"91.153936\"/>\n     <use style=\"fill:#1f77b4;stroke:#1f77b4;\" x=\"133.723607\" xlink:href=\"#m47784bc6ef\" y=\"62.664064\"/>\n     <use style=\"fill:#1f77b4;stroke:#1f77b4;\" x=\"135.960609\" xlink:href=\"#m47784bc6ef\" y=\"62.481112\"/>\n     <use style=\"fill:#1f77b4;stroke:#1f77b4;\" x=\"126.139975\" xlink:href=\"#m47784bc6ef\" y=\"60.954879\"/>\n     <use style=\"fill:#1f77b4;stroke:#1f77b4;\" x=\"153.586962\" xlink:href=\"#m47784bc6ef\" y=\"81.237441\"/>\n     <use style=\"fill:#1f77b4;stroke:#1f77b4;\" x=\"79.270838\" xlink:href=\"#m47784bc6ef\" y=\"31.534721\"/>\n     <use style=\"fill:#1f77b4;stroke:#1f77b4;\" x=\"157.120488\" xlink:href=\"#m47784bc6ef\" y=\"86.220038\"/>\n     <use style=\"fill:#1f77b4;stroke:#1f77b4;\" x=\"138.686045\" xlink:href=\"#m47784bc6ef\" y=\"84.895915\"/>\n     <use style=\"fill:#1f77b4;stroke:#1f77b4;\" x=\"170.010763\" xlink:href=\"#m47784bc6ef\" y=\"94.156675\"/>\n     <use style=\"fill:#1f77b4;stroke:#1f77b4;\" x=\"168.75639\" xlink:href=\"#m47784bc6ef\" y=\"111.451364\"/>\n     <use style=\"fill:#1f77b4;stroke:#1f77b4;\" x=\"150.769344\" xlink:href=\"#m47784bc6ef\" y=\"69.029145\"/>\n     <use style=\"fill:#1f77b4;stroke:#1f77b4;\" x=\"112.4873\" xlink:href=\"#m47784bc6ef\" y=\"58.416902\"/>\n     <use style=\"fill:#1f77b4;stroke:#1f77b4;\" x=\"112.186371\" xlink:href=\"#m47784bc6ef\" y=\"43.835535\"/>\n     <use style=\"fill:#1f77b4;stroke:#1f77b4;\" x=\"135.222764\" xlink:href=\"#m47784bc6ef\" y=\"93.024095\"/>\n     <use style=\"fill:#1f77b4;stroke:#1f77b4;\" x=\"182.912397\" xlink:href=\"#m47784bc6ef\" y=\"93.593035\"/>\n     <use style=\"fill:#1f77b4;stroke:#1f77b4;\" x=\"122.5128\" xlink:href=\"#m47784bc6ef\" y=\"71.961081\"/>\n     <use style=\"fill:#1f77b4;stroke:#1f77b4;\" x=\"136.925534\" xlink:href=\"#m47784bc6ef\" y=\"85.159984\"/>\n     <use style=\"fill:#1f77b4;stroke:#1f77b4;\" x=\"185.259909\" xlink:href=\"#m47784bc6ef\" y=\"123.598843\"/>\n     <use style=\"fill:#1f77b4;stroke:#1f77b4;\" x=\"122.934574\" xlink:href=\"#m47784bc6ef\" y=\"71.336849\"/>\n     <use style=\"fill:#1f77b4;stroke:#1f77b4;\" x=\"136.455385\" xlink:href=\"#m47784bc6ef\" y=\"64.047364\"/>\n     <use style=\"fill:#1f77b4;stroke:#1f77b4;\" x=\"146.293716\" xlink:href=\"#m47784bc6ef\" y=\"70.136536\"/>\n     <use style=\"fill:#1f77b4;stroke:#1f77b4;\" x=\"78.33095\" xlink:href=\"#m47784bc6ef\" y=\"38.37865\"/>\n     <use style=\"fill:#1f77b4;stroke:#1f77b4;\" x=\"135.893182\" xlink:href=\"#m47784bc6ef\" y=\"96.294616\"/>\n     <use style=\"fill:#1f77b4;stroke:#1f77b4;\" x=\"120.087556\" xlink:href=\"#m47784bc6ef\" y=\"67.057962\"/>\n     <use style=\"fill:#1f77b4;stroke:#1f77b4;\" x=\"143.478736\" xlink:href=\"#m47784bc6ef\" y=\"84.041565\"/>\n     <use style=\"fill:#1f77b4;stroke:#1f77b4;\" x=\"94.606002\" xlink:href=\"#m47784bc6ef\" y=\"65.847597\"/>\n     <use style=\"fill:#1f77b4;stroke:#1f77b4;\" x=\"72.906283\" xlink:href=\"#m47784bc6ef\" y=\"13.377273\"/>\n     <use style=\"fill:#1f77b4;stroke:#1f77b4;\" x=\"115.188834\" xlink:href=\"#m47784bc6ef\" y=\"73.948233\"/>\n     <use style=\"fill:#1f77b4;stroke:#1f77b4;\" x=\"131.412025\" xlink:href=\"#m47784bc6ef\" y=\"71.574774\"/>\n     <use style=\"fill:#1f77b4;stroke:#1f77b4;\" x=\"124.069105\" xlink:href=\"#m47784bc6ef\" y=\"66.164581\"/>\n     <use style=\"fill:#1f77b4;stroke:#1f77b4;\" x=\"125.293809\" xlink:href=\"#m47784bc6ef\" y=\"60.565531\"/>\n     <use style=\"fill:#1f77b4;stroke:#1f77b4;\" x=\"108.223602\" xlink:href=\"#m47784bc6ef\" y=\"44.003191\"/>\n     <use style=\"fill:#1f77b4;stroke:#1f77b4;\" x=\"141.540673\" xlink:href=\"#m47784bc6ef\" y=\"70.715937\"/>\n     <use style=\"fill:#1f77b4;stroke:#1f77b4;\" x=\"138.658789\" xlink:href=\"#m47784bc6ef\" y=\"81.562848\"/>\n     <use style=\"fill:#1f77b4;stroke:#1f77b4;\" x=\"160.471864\" xlink:href=\"#m47784bc6ef\" y=\"82.959254\"/>\n     <use style=\"fill:#1f77b4;stroke:#1f77b4;\" x=\"93.308485\" xlink:href=\"#m47784bc6ef\" y=\"29.93959\"/>\n     <use style=\"fill:#1f77b4;stroke:#1f77b4;\" x=\"180.987355\" xlink:href=\"#m47784bc6ef\" y=\"114.533408\"/>\n     <use style=\"fill:#1f77b4;stroke:#1f77b4;\" x=\"180.16541\" xlink:href=\"#m47784bc6ef\" y=\"95.391853\"/>\n     <use style=\"fill:#1f77b4;stroke:#1f77b4;\" x=\"174.103968\" xlink:href=\"#m47784bc6ef\" y=\"114.260349\"/>\n     <use style=\"fill:#1f77b4;stroke:#1f77b4;\" x=\"105.5471\" xlink:href=\"#m47784bc6ef\" y=\"38.224669\"/>\n     <use style=\"fill:#1f77b4;stroke:#1f77b4;\" x=\"142.095323\" xlink:href=\"#m47784bc6ef\" y=\"56.364937\"/>\n     <use style=\"fill:#1f77b4;stroke:#1f77b4;\" x=\"113.856679\" xlink:href=\"#m47784bc6ef\" y=\"66.104031\"/>\n     <use style=\"fill:#1f77b4;stroke:#1f77b4;\" x=\"179.031403\" xlink:href=\"#m47784bc6ef\" y=\"121.94284\"/>\n     <use style=\"fill:#1f77b4;stroke:#1f77b4;\" x=\"160.801236\" xlink:href=\"#m47784bc6ef\" y=\"108.44426\"/>\n     <use style=\"fill:#1f77b4;stroke:#1f77b4;\" x=\"132.563671\" xlink:href=\"#m47784bc6ef\" y=\"61.733135\"/>\n     <use style=\"fill:#1f77b4;stroke:#1f77b4;\" x=\"81.504688\" xlink:href=\"#m47784bc6ef\" y=\"28.698701\"/>\n     <use style=\"fill:#1f77b4;stroke:#1f77b4;\" x=\"107.756203\" xlink:href=\"#m47784bc6ef\" y=\"55.322407\"/>\n     <use style=\"fill:#1f77b4;stroke:#1f77b4;\" x=\"139.005811\" xlink:href=\"#m47784bc6ef\" y=\"71.045163\"/>\n     <use style=\"fill:#1f77b4;stroke:#1f77b4;\" x=\"76.12218\" xlink:href=\"#m47784bc6ef\" y=\"31.636802\"/>\n     <use style=\"fill:#1f77b4;stroke:#1f77b4;\" x=\"135.13875\" xlink:href=\"#m47784bc6ef\" y=\"67.517393\"/>\n     <use style=\"fill:#1f77b4;stroke:#1f77b4;\" x=\"143.653689\" xlink:href=\"#m47784bc6ef\" y=\"80.404315\"/>\n     <use style=\"fill:#1f77b4;stroke:#1f77b4;\" x=\"150.046544\" xlink:href=\"#m47784bc6ef\" y=\"90.059152\"/>\n     <use style=\"fill:#1f77b4;stroke:#1f77b4;\" x=\"168.107828\" xlink:href=\"#m47784bc6ef\" y=\"98.810301\"/>\n     <use style=\"fill:#1f77b4;stroke:#1f77b4;\" x=\"152.57416\" xlink:href=\"#m47784bc6ef\" y=\"82.303886\"/>\n     <use style=\"fill:#1f77b4;stroke:#1f77b4;\" x=\"114.318367\" xlink:href=\"#m47784bc6ef\" y=\"56.401377\"/>\n     <use style=\"fill:#1f77b4;stroke:#1f77b4;\" x=\"170.070021\" xlink:href=\"#m47784bc6ef\" y=\"120.786393\"/>\n     <use style=\"fill:#1f77b4;stroke:#1f77b4;\" x=\"91.209964\" xlink:href=\"#m47784bc6ef\" y=\"27.833361\"/>\n     <use style=\"fill:#1f77b4;stroke:#1f77b4;\" x=\"117.737346\" xlink:href=\"#m47784bc6ef\" y=\"65.204456\"/>\n     <use style=\"fill:#1f77b4;stroke:#1f77b4;\" x=\"113.117422\" xlink:href=\"#m47784bc6ef\" y=\"55.590758\"/>\n     <use style=\"fill:#1f77b4;stroke:#1f77b4;\" x=\"157.964631\" xlink:href=\"#m47784bc6ef\" y=\"72.101998\"/>\n     <use style=\"fill:#1f77b4;stroke:#1f77b4;\" x=\"165.931412\" xlink:href=\"#m47784bc6ef\" y=\"84.200015\"/>\n     <use style=\"fill:#1f77b4;stroke:#1f77b4;\" x=\"102.785467\" xlink:href=\"#m47784bc6ef\" y=\"50.091319\"/>\n     <use style=\"fill:#1f77b4;stroke:#1f77b4;\" x=\"106.85404\" xlink:href=\"#m47784bc6ef\" y=\"66.171597\"/>\n     <use style=\"fill:#1f77b4;stroke:#1f77b4;\" x=\"134.066856\" xlink:href=\"#m47784bc6ef\" y=\"69.519579\"/>\n     <use style=\"fill:#1f77b4;stroke:#1f77b4;\" x=\"113.282047\" xlink:href=\"#m47784bc6ef\" y=\"74.269701\"/>\n     <use style=\"fill:#1f77b4;stroke:#1f77b4;\" x=\"89.316657\" xlink:href=\"#m47784bc6ef\" y=\"27.515191\"/>\n     <use style=\"fill:#1f77b4;stroke:#1f77b4;\" x=\"180.574015\" xlink:href=\"#m47784bc6ef\" y=\"90.809966\"/>\n     <use style=\"fill:#1f77b4;stroke:#1f77b4;\" x=\"109.293386\" xlink:href=\"#m47784bc6ef\" y=\"42.765742\"/>\n     <use style=\"fill:#1f77b4;stroke:#1f77b4;\" x=\"132.804781\" xlink:href=\"#m47784bc6ef\" y=\"59.418205\"/>\n     <use style=\"fill:#1f77b4;stroke:#1f77b4;\" x=\"126.072157\" xlink:href=\"#m47784bc6ef\" y=\"78.484944\"/>\n     <use style=\"fill:#1f77b4;stroke:#1f77b4;\" x=\"118.481943\" xlink:href=\"#m47784bc6ef\" y=\"63.218208\"/>\n     <use style=\"fill:#1f77b4;stroke:#1f77b4;\" x=\"159.906196\" xlink:href=\"#m47784bc6ef\" y=\"82.375774\"/>\n     <use style=\"fill:#1f77b4;stroke:#1f77b4;\" x=\"160.477722\" xlink:href=\"#m47784bc6ef\" y=\"81.212454\"/>\n     <use style=\"fill:#1f77b4;stroke:#1f77b4;\" x=\"110.700051\" xlink:href=\"#m47784bc6ef\" y=\"47.918801\"/>\n     <use style=\"fill:#1f77b4;stroke:#1f77b4;\" x=\"105.74198\" xlink:href=\"#m47784bc6ef\" y=\"43.602732\"/>\n     <use style=\"fill:#1f77b4;stroke:#1f77b4;\" x=\"135.904705\" xlink:href=\"#m47784bc6ef\" y=\"83.310391\"/>\n     <use style=\"fill:#1f77b4;stroke:#1f77b4;\" x=\"163.916258\" xlink:href=\"#m47784bc6ef\" y=\"94.836916\"/>\n     <use style=\"fill:#1f77b4;stroke:#1f77b4;\" x=\"91.153407\" xlink:href=\"#m47784bc6ef\" y=\"51.598832\"/>\n     <use style=\"fill:#1f77b4;stroke:#1f77b4;\" x=\"125.349381\" xlink:href=\"#m47784bc6ef\" y=\"82.816202\"/>\n     <use style=\"fill:#1f77b4;stroke:#1f77b4;\" x=\"181.604658\" xlink:href=\"#m47784bc6ef\" y=\"121.862206\"/>\n     <use style=\"fill:#1f77b4;stroke:#1f77b4;\" x=\"196.883368\" xlink:href=\"#m47784bc6ef\" y=\"111.436429\"/>\n     <use style=\"fill:#1f77b4;stroke:#1f77b4;\" x=\"177.803233\" xlink:href=\"#m47784bc6ef\" y=\"107.36383\"/>\n     <use style=\"fill:#1f77b4;stroke:#1f77b4;\" x=\"94.568851\" xlink:href=\"#m47784bc6ef\" y=\"41.676177\"/>\n     <use style=\"fill:#1f77b4;stroke:#1f77b4;\" x=\"107.074292\" xlink:href=\"#m47784bc6ef\" y=\"45.965407\"/>\n     <use style=\"fill:#1f77b4;stroke:#1f77b4;\" x=\"91.202595\" xlink:href=\"#m47784bc6ef\" y=\"45.810595\"/>\n     <use style=\"fill:#1f77b4;stroke:#1f77b4;\" x=\"134.344068\" xlink:href=\"#m47784bc6ef\" y=\"70.336031\"/>\n     <use style=\"fill:#1f77b4;stroke:#1f77b4;\" x=\"107.613448\" xlink:href=\"#m47784bc6ef\" y=\"74.393279\"/>\n     <use style=\"fill:#1f77b4;stroke:#1f77b4;\" x=\"160.408276\" xlink:href=\"#m47784bc6ef\" y=\"105.707278\"/>\n     <use style=\"fill:#1f77b4;stroke:#1f77b4;\" x=\"84.243568\" xlink:href=\"#m47784bc6ef\" y=\"50.6974\"/>\n     <use style=\"fill:#1f77b4;stroke:#1f77b4;\" x=\"89.463843\" xlink:href=\"#m47784bc6ef\" y=\"30.08326\"/>\n     <use style=\"fill:#1f77b4;stroke:#1f77b4;\" x=\"109.694965\" xlink:href=\"#m47784bc6ef\" y=\"35.607805\"/>\n     <use style=\"fill:#1f77b4;stroke:#1f77b4;\" x=\"130.336552\" xlink:href=\"#m47784bc6ef\" y=\"63.643703\"/>\n     <use style=\"fill:#1f77b4;stroke:#1f77b4;\" x=\"186.356869\" xlink:href=\"#m47784bc6ef\" y=\"88.014722\"/>\n     <use style=\"fill:#1f77b4;stroke:#1f77b4;\" x=\"164.970793\" xlink:href=\"#m47784bc6ef\" y=\"85.134475\"/>\n     <use style=\"fill:#1f77b4;stroke:#1f77b4;\" x=\"132.462012\" xlink:href=\"#m47784bc6ef\" y=\"61.175127\"/>\n     <use style=\"fill:#1f77b4;stroke:#1f77b4;\" x=\"143.31654\" xlink:href=\"#m47784bc6ef\" y=\"63.639315\"/>\n     <use style=\"fill:#1f77b4;stroke:#1f77b4;\" x=\"206.963476\" xlink:href=\"#m47784bc6ef\" y=\"117.069313\"/>\n     <use style=\"fill:#1f77b4;stroke:#1f77b4;\" x=\"155.196852\" xlink:href=\"#m47784bc6ef\" y=\"92.061749\"/>\n     <use style=\"fill:#1f77b4;stroke:#1f77b4;\" x=\"168.163601\" xlink:href=\"#m47784bc6ef\" y=\"94.275689\"/>\n     <use style=\"fill:#1f77b4;stroke:#1f77b4;\" x=\"140.798518\" xlink:href=\"#m47784bc6ef\" y=\"73.492172\"/>\n     <use style=\"fill:#1f77b4;stroke:#1f77b4;\" x=\"154.899395\" xlink:href=\"#m47784bc6ef\" y=\"85.299105\"/>\n     <use style=\"fill:#1f77b4;stroke:#1f77b4;\" x=\"126.519968\" xlink:href=\"#m47784bc6ef\" y=\"94.992213\"/>\n     <use style=\"fill:#1f77b4;stroke:#1f77b4;\" x=\"138.435906\" xlink:href=\"#m47784bc6ef\" y=\"55.57356\"/>\n     <use style=\"fill:#1f77b4;stroke:#1f77b4;\" x=\"130.644377\" xlink:href=\"#m47784bc6ef\" y=\"60.750387\"/>\n     <use style=\"fill:#1f77b4;stroke:#1f77b4;\" x=\"120.251696\" xlink:href=\"#m47784bc6ef\" y=\"53.069247\"/>\n     <use style=\"fill:#1f77b4;stroke:#1f77b4;\" x=\"131.371236\" xlink:href=\"#m47784bc6ef\" y=\"85.468162\"/>\n     <use style=\"fill:#1f77b4;stroke:#1f77b4;\" x=\"107.577062\" xlink:href=\"#m47784bc6ef\" y=\"58.878716\"/>\n     <use style=\"fill:#1f77b4;stroke:#1f77b4;\" x=\"187.424006\" xlink:href=\"#m47784bc6ef\" y=\"106.042828\"/>\n     <use style=\"fill:#1f77b4;stroke:#1f77b4;\" x=\"157.616666\" xlink:href=\"#m47784bc6ef\" y=\"75.466687\"/>\n     <use style=\"fill:#1f77b4;stroke:#1f77b4;\" x=\"115.902318\" xlink:href=\"#m47784bc6ef\" y=\"52.509524\"/>\n     <use style=\"fill:#1f77b4;stroke:#1f77b4;\" x=\"121.170177\" xlink:href=\"#m47784bc6ef\" y=\"58.107928\"/>\n     <use style=\"fill:#1f77b4;stroke:#1f77b4;\" x=\"124.648382\" xlink:href=\"#m47784bc6ef\" y=\"56.609474\"/>\n     <use style=\"fill:#1f77b4;stroke:#1f77b4;\" x=\"167.91367\" xlink:href=\"#m47784bc6ef\" y=\"92.380205\"/>\n     <use style=\"fill:#1f77b4;stroke:#1f77b4;\" x=\"150.059179\" xlink:href=\"#m47784bc6ef\" y=\"88.439431\"/>\n     <use style=\"fill:#1f77b4;stroke:#1f77b4;\" x=\"143.878309\" xlink:href=\"#m47784bc6ef\" y=\"68.919285\"/>\n     <use style=\"fill:#1f77b4;stroke:#1f77b4;\" x=\"181.20184\" xlink:href=\"#m47784bc6ef\" y=\"99.885468\"/>\n     <use style=\"fill:#1f77b4;stroke:#1f77b4;\" x=\"119.235133\" xlink:href=\"#m47784bc6ef\" y=\"70.849186\"/>\n     <use style=\"fill:#1f77b4;stroke:#1f77b4;\" x=\"137.077743\" xlink:href=\"#m47784bc6ef\" y=\"66.659065\"/>\n     <use style=\"fill:#1f77b4;stroke:#1f77b4;\" x=\"113.614182\" xlink:href=\"#m47784bc6ef\" y=\"55.142606\"/>\n     <use style=\"fill:#1f77b4;stroke:#1f77b4;\" x=\"131.501209\" xlink:href=\"#m47784bc6ef\" y=\"90.365087\"/>\n     <use style=\"fill:#1f77b4;stroke:#1f77b4;\" x=\"151.737617\" xlink:href=\"#m47784bc6ef\" y=\"75.275883\"/>\n     <use style=\"fill:#1f77b4;stroke:#1f77b4;\" x=\"174.130147\" xlink:href=\"#m47784bc6ef\" y=\"96.880774\"/>\n     <use style=\"fill:#1f77b4;stroke:#1f77b4;\" x=\"151.058552\" xlink:href=\"#m47784bc6ef\" y=\"74.159111\"/>\n     <use style=\"fill:#1f77b4;stroke:#1f77b4;\" x=\"145.380068\" xlink:href=\"#m47784bc6ef\" y=\"66.487966\"/>\n     <use style=\"fill:#1f77b4;stroke:#1f77b4;\" x=\"173.306199\" xlink:href=\"#m47784bc6ef\" y=\"110.791322\"/>\n     <use style=\"fill:#1f77b4;stroke:#1f77b4;\" x=\"166.167978\" xlink:href=\"#m47784bc6ef\" y=\"105.122124\"/>\n     <use style=\"fill:#1f77b4;stroke:#1f77b4;\" x=\"138.271534\" xlink:href=\"#m47784bc6ef\" y=\"77.496823\"/>\n     <use style=\"fill:#1f77b4;stroke:#1f77b4;\" x=\"161.309796\" xlink:href=\"#m47784bc6ef\" y=\"90.073501\"/>\n     <use style=\"fill:#1f77b4;stroke:#1f77b4;\" x=\"143.520819\" xlink:href=\"#m47784bc6ef\" y=\"79.181129\"/>\n     <use style=\"fill:#1f77b4;stroke:#1f77b4;\" x=\"80.73474\" xlink:href=\"#m47784bc6ef\" y=\"51.753703\"/>\n     <use style=\"fill:#1f77b4;stroke:#1f77b4;\" x=\"125.374096\" xlink:href=\"#m47784bc6ef\" y=\"65.558446\"/>\n     <use style=\"fill:#1f77b4;stroke:#1f77b4;\" x=\"91.757719\" xlink:href=\"#m47784bc6ef\" y=\"41.224032\"/>\n     <use style=\"fill:#1f77b4;stroke:#1f77b4;\" x=\"122.892541\" xlink:href=\"#m47784bc6ef\" y=\"51.930497\"/>\n     <use style=\"fill:#1f77b4;stroke:#1f77b4;\" x=\"132.565251\" xlink:href=\"#m47784bc6ef\" y=\"62.939942\"/>\n     <use style=\"fill:#1f77b4;stroke:#1f77b4;\" x=\"163.644466\" xlink:href=\"#m47784bc6ef\" y=\"81.812651\"/>\n     <use style=\"fill:#1f77b4;stroke:#1f77b4;\" x=\"141.835915\" xlink:href=\"#m47784bc6ef\" y=\"82.842515\"/>\n     <use style=\"fill:#1f77b4;stroke:#1f77b4;\" x=\"109.933036\" xlink:href=\"#m47784bc6ef\" y=\"52.671912\"/>\n     <use style=\"fill:#1f77b4;stroke:#1f77b4;\" x=\"37.81946\" xlink:href=\"#m47784bc6ef\" y=\"28.854898\"/>\n     <use style=\"fill:#1f77b4;stroke:#1f77b4;\" x=\"134.567735\" xlink:href=\"#m47784bc6ef\" y=\"68.008878\"/>\n     <use style=\"fill:#1f77b4;stroke:#1f77b4;\" x=\"143.685506\" xlink:href=\"#m47784bc6ef\" y=\"76.488916\"/>\n     <use style=\"fill:#1f77b4;stroke:#1f77b4;\" x=\"111.832687\" xlink:href=\"#m47784bc6ef\" y=\"53.820357\"/>\n     <use style=\"fill:#1f77b4;stroke:#1f77b4;\" x=\"100.447496\" xlink:href=\"#m47784bc6ef\" y=\"61.871794\"/>\n     <use style=\"fill:#1f77b4;stroke:#1f77b4;\" x=\"112.047176\" xlink:href=\"#m47784bc6ef\" y=\"41.3663\"/>\n     <use style=\"fill:#1f77b4;stroke:#1f77b4;\" x=\"112.382475\" xlink:href=\"#m47784bc6ef\" y=\"52.207218\"/>\n     <use style=\"fill:#1f77b4;stroke:#1f77b4;\" x=\"151.310722\" xlink:href=\"#m47784bc6ef\" y=\"90.925428\"/>\n     <use style=\"fill:#1f77b4;stroke:#1f77b4;\" x=\"142.988406\" xlink:href=\"#m47784bc6ef\" y=\"62.806926\"/>\n     <use style=\"fill:#1f77b4;stroke:#1f77b4;\" x=\"155.870966\" xlink:href=\"#m47784bc6ef\" y=\"98.847888\"/>\n     <use style=\"fill:#1f77b4;stroke:#1f77b4;\" x=\"125.672228\" xlink:href=\"#m47784bc6ef\" y=\"81.15489\"/>\n     <use style=\"fill:#1f77b4;stroke:#1f77b4;\" x=\"135.224768\" xlink:href=\"#m47784bc6ef\" y=\"71.790126\"/>\n     <use style=\"fill:#1f77b4;stroke:#1f77b4;\" x=\"120.29802\" xlink:href=\"#m47784bc6ef\" y=\"84.828007\"/>\n     <use style=\"fill:#1f77b4;stroke:#1f77b4;\" x=\"101.187934\" xlink:href=\"#m47784bc6ef\" y=\"62.006073\"/>\n     <use style=\"fill:#1f77b4;stroke:#1f77b4;\" x=\"117.63757\" xlink:href=\"#m47784bc6ef\" y=\"53.278638\"/>\n     <use style=\"fill:#1f77b4;stroke:#1f77b4;\" x=\"123.569148\" xlink:href=\"#m47784bc6ef\" y=\"63.312702\"/>\n     <use style=\"fill:#1f77b4;stroke:#1f77b4;\" x=\"189.508083\" xlink:href=\"#m47784bc6ef\" y=\"117.764659\"/>\n     <use style=\"fill:#1f77b4;stroke:#1f77b4;\" x=\"147.173675\" xlink:href=\"#m47784bc6ef\" y=\"111.993144\"/>\n     <use style=\"fill:#1f77b4;stroke:#1f77b4;\" x=\"144.167577\" xlink:href=\"#m47784bc6ef\" y=\"62.257494\"/>\n     <use style=\"fill:#1f77b4;stroke:#1f77b4;\" x=\"162.493831\" xlink:href=\"#m47784bc6ef\" y=\"89.14804\"/>\n     <use style=\"fill:#1f77b4;stroke:#1f77b4;\" x=\"139.641288\" xlink:href=\"#m47784bc6ef\" y=\"55.93337\"/>\n     <use style=\"fill:#1f77b4;stroke:#1f77b4;\" x=\"144.017416\" xlink:href=\"#m47784bc6ef\" y=\"77.78725\"/>\n     <use style=\"fill:#1f77b4;stroke:#1f77b4;\" x=\"161.275837\" xlink:href=\"#m47784bc6ef\" y=\"79.458973\"/>\n     <use style=\"fill:#1f77b4;stroke:#1f77b4;\" x=\"148.723716\" xlink:href=\"#m47784bc6ef\" y=\"80.872823\"/>\n     <use style=\"fill:#1f77b4;stroke:#1f77b4;\" x=\"82.013379\" xlink:href=\"#m47784bc6ef\" y=\"16.870847\"/>\n     <use style=\"fill:#1f77b4;stroke:#1f77b4;\" x=\"147.488262\" xlink:href=\"#m47784bc6ef\" y=\"96.035438\"/>\n     <use style=\"fill:#1f77b4;stroke:#1f77b4;\" x=\"116.997165\" xlink:href=\"#m47784bc6ef\" y=\"64.136827\"/>\n     <use style=\"fill:#1f77b4;stroke:#1f77b4;\" x=\"160.054513\" xlink:href=\"#m47784bc6ef\" y=\"90.285348\"/>\n     <use style=\"fill:#1f77b4;stroke:#1f77b4;\" x=\"117.944393\" xlink:href=\"#m47784bc6ef\" y=\"57.650793\"/>\n     <use style=\"fill:#1f77b4;stroke:#1f77b4;\" x=\"129.807842\" xlink:href=\"#m47784bc6ef\" y=\"78.05362\"/>\n     <use style=\"fill:#1f77b4;stroke:#1f77b4;\" x=\"136.308662\" xlink:href=\"#m47784bc6ef\" y=\"79.35529\"/>\n     <use style=\"fill:#1f77b4;stroke:#1f77b4;\" x=\"158.673217\" xlink:href=\"#m47784bc6ef\" y=\"76.909137\"/>\n     <use style=\"fill:#1f77b4;stroke:#1f77b4;\" x=\"92.453468\" xlink:href=\"#m47784bc6ef\" y=\"39.012566\"/>\n     <use style=\"fill:#1f77b4;stroke:#1f77b4;\" x=\"102.025546\" xlink:href=\"#m47784bc6ef\" y=\"49.40898\"/>\n     <use style=\"fill:#1f77b4;stroke:#1f77b4;\" x=\"175.483906\" xlink:href=\"#m47784bc6ef\" y=\"110.66024\"/>\n     <use style=\"fill:#1f77b4;stroke:#1f77b4;\" x=\"147.983346\" xlink:href=\"#m47784bc6ef\" y=\"65.664511\"/>\n     <use style=\"fill:#1f77b4;stroke:#1f77b4;\" x=\"156.029503\" xlink:href=\"#m47784bc6ef\" y=\"88.746796\"/>\n     <use style=\"fill:#1f77b4;stroke:#1f77b4;\" x=\"123.097272\" xlink:href=\"#m47784bc6ef\" y=\"70.274238\"/>\n     <use style=\"fill:#1f77b4;stroke:#1f77b4;\" x=\"130.891081\" xlink:href=\"#m47784bc6ef\" y=\"72.92416\"/>\n     <use style=\"fill:#1f77b4;stroke:#1f77b4;\" x=\"123.773521\" xlink:href=\"#m47784bc6ef\" y=\"44.460142\"/>\n     <use style=\"fill:#1f77b4;stroke:#1f77b4;\" x=\"147.574194\" xlink:href=\"#m47784bc6ef\" y=\"104.437329\"/>\n     <use style=\"fill:#1f77b4;stroke:#1f77b4;\" x=\"146.323666\" xlink:href=\"#m47784bc6ef\" y=\"92.148239\"/>\n     <use style=\"fill:#1f77b4;stroke:#1f77b4;\" x=\"150.642822\" xlink:href=\"#m47784bc6ef\" y=\"75.204619\"/>\n     <use style=\"fill:#1f77b4;stroke:#1f77b4;\" x=\"154.133647\" xlink:href=\"#m47784bc6ef\" y=\"76.137374\"/>\n     <use style=\"fill:#1f77b4;stroke:#1f77b4;\" x=\"71.280337\" xlink:href=\"#m47784bc6ef\" y=\"24.033159\"/>\n     <use style=\"fill:#1f77b4;stroke:#1f77b4;\" x=\"74.301962\" xlink:href=\"#m47784bc6ef\" y=\"26.218947\"/>\n     <use style=\"fill:#1f77b4;stroke:#1f77b4;\" x=\"167.796972\" xlink:href=\"#m47784bc6ef\" y=\"95.688739\"/>\n     <use style=\"fill:#1f77b4;stroke:#1f77b4;\" x=\"130.192636\" xlink:href=\"#m47784bc6ef\" y=\"62.866125\"/>\n     <use style=\"fill:#1f77b4;stroke:#1f77b4;\" x=\"143.191153\" xlink:href=\"#m47784bc6ef\" y=\"87.246221\"/>\n     <use style=\"fill:#1f77b4;stroke:#1f77b4;\" x=\"164.910024\" xlink:href=\"#m47784bc6ef\" y=\"92.77113\"/>\n     <use style=\"fill:#1f77b4;stroke:#1f77b4;\" x=\"88.133254\" xlink:href=\"#m47784bc6ef\" y=\"34.813716\"/>\n     <use style=\"fill:#1f77b4;stroke:#1f77b4;\" x=\"117.669988\" xlink:href=\"#m47784bc6ef\" y=\"64.133208\"/>\n     <use style=\"fill:#1f77b4;stroke:#1f77b4;\" x=\"144.471673\" xlink:href=\"#m47784bc6ef\" y=\"75.811615\"/>\n     <use style=\"fill:#1f77b4;stroke:#1f77b4;\" x=\"127.523719\" xlink:href=\"#m47784bc6ef\" y=\"73.302561\"/>\n     <use style=\"fill:#1f77b4;stroke:#1f77b4;\" x=\"125.222086\" xlink:href=\"#m47784bc6ef\" y=\"69.532158\"/>\n     <use style=\"fill:#1f77b4;stroke:#1f77b4;\" x=\"179.153564\" xlink:href=\"#m47784bc6ef\" y=\"125.870254\"/>\n     <use style=\"fill:#1f77b4;stroke:#1f77b4;\" x=\"142.638292\" xlink:href=\"#m47784bc6ef\" y=\"70.296913\"/>\n     <use style=\"fill:#1f77b4;stroke:#1f77b4;\" x=\"104.325709\" xlink:href=\"#m47784bc6ef\" y=\"50.003317\"/>\n     <use style=\"fill:#1f77b4;stroke:#1f77b4;\" x=\"117.495621\" xlink:href=\"#m47784bc6ef\" y=\"65.455921\"/>\n     <use style=\"fill:#1f77b4;stroke:#1f77b4;\" x=\"146.673167\" xlink:href=\"#m47784bc6ef\" y=\"98.933518\"/>\n     <use style=\"fill:#1f77b4;stroke:#1f77b4;\" x=\"138.70877\" xlink:href=\"#m47784bc6ef\" y=\"75.854755\"/>\n     <use style=\"fill:#1f77b4;stroke:#1f77b4;\" x=\"155.298064\" xlink:href=\"#m47784bc6ef\" y=\"97.399503\"/>\n     <use style=\"fill:#1f77b4;stroke:#1f77b4;\" x=\"124.901958\" xlink:href=\"#m47784bc6ef\" y=\"78.828908\"/>\n     <use style=\"fill:#1f77b4;stroke:#1f77b4;\" x=\"128.41483\" xlink:href=\"#m47784bc6ef\" y=\"75.451295\"/>\n     <use style=\"fill:#1f77b4;stroke:#1f77b4;\" x=\"127.978795\" xlink:href=\"#m47784bc6ef\" y=\"71.750346\"/>\n     <use style=\"fill:#1f77b4;stroke:#1f77b4;\" x=\"156.525728\" xlink:href=\"#m47784bc6ef\" y=\"90.450511\"/>\n     <use style=\"fill:#1f77b4;stroke:#1f77b4;\" x=\"107.252935\" xlink:href=\"#m47784bc6ef\" y=\"73.184525\"/>\n     <use style=\"fill:#1f77b4;stroke:#1f77b4;\" x=\"152.939769\" xlink:href=\"#m47784bc6ef\" y=\"85.641062\"/>\n     <use style=\"fill:#1f77b4;stroke:#1f77b4;\" x=\"157.874727\" xlink:href=\"#m47784bc6ef\" y=\"80.212887\"/>\n     <use style=\"fill:#1f77b4;stroke:#1f77b4;\" x=\"150.848661\" xlink:href=\"#m47784bc6ef\" y=\"90.030028\"/>\n     <use style=\"fill:#1f77b4;stroke:#1f77b4;\" x=\"104.369739\" xlink:href=\"#m47784bc6ef\" y=\"46.434532\"/>\n     <use style=\"fill:#1f77b4;stroke:#1f77b4;\" x=\"159.805232\" xlink:href=\"#m47784bc6ef\" y=\"65.814857\"/>\n     <use style=\"fill:#1f77b4;stroke:#1f77b4;\" x=\"163.632166\" xlink:href=\"#m47784bc6ef\" y=\"93.690528\"/>\n     <use style=\"fill:#1f77b4;stroke:#1f77b4;\" x=\"114.830555\" xlink:href=\"#m47784bc6ef\" y=\"44.085194\"/>\n     <use style=\"fill:#1f77b4;stroke:#1f77b4;\" x=\"132.005268\" xlink:href=\"#m47784bc6ef\" y=\"93.941243\"/>\n     <use style=\"fill:#1f77b4;stroke:#1f77b4;\" x=\"169.067672\" xlink:href=\"#m47784bc6ef\" y=\"88.716658\"/>\n     <use style=\"fill:#1f77b4;stroke:#1f77b4;\" x=\"161.804979\" xlink:href=\"#m47784bc6ef\" y=\"83.929341\"/>\n     <use style=\"fill:#1f77b4;stroke:#1f77b4;\" x=\"149.286014\" xlink:href=\"#m47784bc6ef\" y=\"91.928523\"/>\n     <use style=\"fill:#1f77b4;stroke:#1f77b4;\" x=\"115.687084\" xlink:href=\"#m47784bc6ef\" y=\"50.299753\"/>\n     <use style=\"fill:#1f77b4;stroke:#1f77b4;\" x=\"115.492932\" xlink:href=\"#m47784bc6ef\" y=\"43.33464\"/>\n     <use style=\"fill:#1f77b4;stroke:#1f77b4;\" x=\"189.368999\" xlink:href=\"#m47784bc6ef\" y=\"112.53646\"/>\n     <use style=\"fill:#1f77b4;stroke:#1f77b4;\" x=\"127.322697\" xlink:href=\"#m47784bc6ef\" y=\"59.167617\"/>\n     <use style=\"fill:#1f77b4;stroke:#1f77b4;\" x=\"149.468293\" xlink:href=\"#m47784bc6ef\" y=\"78.487117\"/>\n     <use style=\"fill:#1f77b4;stroke:#1f77b4;\" x=\"167.142198\" xlink:href=\"#m47784bc6ef\" y=\"105.703769\"/>\n     <use style=\"fill:#1f77b4;stroke:#1f77b4;\" x=\"149.6105\" xlink:href=\"#m47784bc6ef\" y=\"87.515698\"/>\n     <use style=\"fill:#1f77b4;stroke:#1f77b4;\" x=\"133.570021\" xlink:href=\"#m47784bc6ef\" y=\"61.94853\"/>\n     <use style=\"fill:#1f77b4;stroke:#1f77b4;\" x=\"168.375392\" xlink:href=\"#m47784bc6ef\" y=\"91.733452\"/>\n     <use style=\"fill:#1f77b4;stroke:#1f77b4;\" x=\"86.330438\" xlink:href=\"#m47784bc6ef\" y=\"40.604931\"/>\n     <use style=\"fill:#1f77b4;stroke:#1f77b4;\" x=\"150.763835\" xlink:href=\"#m47784bc6ef\" y=\"65.228808\"/>\n     <use style=\"fill:#1f77b4;stroke:#1f77b4;\" x=\"114.723196\" xlink:href=\"#m47784bc6ef\" y=\"44.403655\"/>\n     <use style=\"fill:#1f77b4;stroke:#1f77b4;\" x=\"119.904263\" xlink:href=\"#m47784bc6ef\" y=\"47.354122\"/>\n     <use style=\"fill:#1f77b4;stroke:#1f77b4;\" x=\"178.695771\" xlink:href=\"#m47784bc6ef\" y=\"107.518034\"/>\n     <use style=\"fill:#1f77b4;stroke:#1f77b4;\" x=\"134.654742\" xlink:href=\"#m47784bc6ef\" y=\"57.5517\"/>\n     <use style=\"fill:#1f77b4;stroke:#1f77b4;\" x=\"130.54158\" xlink:href=\"#m47784bc6ef\" y=\"59.040139\"/>\n     <use style=\"fill:#1f77b4;stroke:#1f77b4;\" x=\"158.110908\" xlink:href=\"#m47784bc6ef\" y=\"94.265416\"/>\n     <use style=\"fill:#1f77b4;stroke:#1f77b4;\" x=\"118.423529\" xlink:href=\"#m47784bc6ef\" y=\"50.233162\"/>\n     <use style=\"fill:#1f77b4;stroke:#1f77b4;\" x=\"156.432456\" xlink:href=\"#m47784bc6ef\" y=\"95.710609\"/>\n     <use style=\"fill:#1f77b4;stroke:#1f77b4;\" x=\"151.230073\" xlink:href=\"#m47784bc6ef\" y=\"91.164523\"/>\n     <use style=\"fill:#1f77b4;stroke:#1f77b4;\" x=\"111.774697\" xlink:href=\"#m47784bc6ef\" y=\"70.55843\"/>\n     <use style=\"fill:#1f77b4;stroke:#1f77b4;\" x=\"104.145912\" xlink:href=\"#m47784bc6ef\" y=\"61.259009\"/>\n     <use style=\"fill:#1f77b4;stroke:#1f77b4;\" x=\"108.300359\" xlink:href=\"#m47784bc6ef\" y=\"47.998371\"/>\n     <use style=\"fill:#1f77b4;stroke:#1f77b4;\" x=\"125.05096\" xlink:href=\"#m47784bc6ef\" y=\"39.528459\"/>\n     <use style=\"fill:#1f77b4;stroke:#1f77b4;\" x=\"151.369547\" xlink:href=\"#m47784bc6ef\" y=\"84.698845\"/>\n     <use style=\"fill:#1f77b4;stroke:#1f77b4;\" x=\"156.589904\" xlink:href=\"#m47784bc6ef\" y=\"93.924781\"/>\n     <use style=\"fill:#1f77b4;stroke:#1f77b4;\" x=\"151.670141\" xlink:href=\"#m47784bc6ef\" y=\"82.243326\"/>\n     <use style=\"fill:#1f77b4;stroke:#1f77b4;\" x=\"135.966905\" xlink:href=\"#m47784bc6ef\" y=\"70.476091\"/>\n     <use style=\"fill:#1f77b4;stroke:#1f77b4;\" x=\"124.354957\" xlink:href=\"#m47784bc6ef\" y=\"57.214293\"/>\n     <use style=\"fill:#1f77b4;stroke:#1f77b4;\" x=\"123.259174\" xlink:href=\"#m47784bc6ef\" y=\"61.918914\"/>\n     <use style=\"fill:#1f77b4;stroke:#1f77b4;\" x=\"131.995518\" xlink:href=\"#m47784bc6ef\" y=\"59.541641\"/>\n     <use style=\"fill:#1f77b4;stroke:#1f77b4;\" x=\"101.150802\" xlink:href=\"#m47784bc6ef\" y=\"54.697292\"/>\n     <use style=\"fill:#1f77b4;stroke:#1f77b4;\" x=\"146.057685\" xlink:href=\"#m47784bc6ef\" y=\"75.171561\"/>\n     <use style=\"fill:#1f77b4;stroke:#1f77b4;\" x=\"131.98856\" xlink:href=\"#m47784bc6ef\" y=\"78.243368\"/>\n     <use style=\"fill:#1f77b4;stroke:#1f77b4;\" x=\"168.574791\" xlink:href=\"#m47784bc6ef\" y=\"104.073692\"/>\n     <use style=\"fill:#1f77b4;stroke:#1f77b4;\" x=\"143.595038\" xlink:href=\"#m47784bc6ef\" y=\"94.708152\"/>\n     <use style=\"fill:#1f77b4;stroke:#1f77b4;\" x=\"129.947228\" xlink:href=\"#m47784bc6ef\" y=\"66.106493\"/>\n     <use style=\"fill:#1f77b4;stroke:#1f77b4;\" x=\"139.760483\" xlink:href=\"#m47784bc6ef\" y=\"66.648206\"/>\n     <use style=\"fill:#1f77b4;stroke:#1f77b4;\" x=\"159.840568\" xlink:href=\"#m47784bc6ef\" y=\"87.054753\"/>\n     <use style=\"fill:#1f77b4;stroke:#1f77b4;\" x=\"147.304672\" xlink:href=\"#m47784bc6ef\" y=\"89.933199\"/>\n     <use style=\"fill:#1f77b4;stroke:#1f77b4;\" x=\"127.5443\" xlink:href=\"#m47784bc6ef\" y=\"74.68209\"/>\n     <use style=\"fill:#1f77b4;stroke:#1f77b4;\" x=\"136.352781\" xlink:href=\"#m47784bc6ef\" y=\"72.145013\"/>\n     <use style=\"fill:#1f77b4;stroke:#1f77b4;\" x=\"175.907073\" xlink:href=\"#m47784bc6ef\" y=\"113.371837\"/>\n     <use style=\"fill:#1f77b4;stroke:#1f77b4;\" x=\"166.956144\" xlink:href=\"#m47784bc6ef\" y=\"99.158334\"/>\n     <use style=\"fill:#1f77b4;stroke:#1f77b4;\" x=\"100.283997\" xlink:href=\"#m47784bc6ef\" y=\"46.864498\"/>\n     <use style=\"fill:#1f77b4;stroke:#1f77b4;\" x=\"174.992011\" xlink:href=\"#m47784bc6ef\" y=\"102.539563\"/>\n     <use style=\"fill:#1f77b4;stroke:#1f77b4;\" x=\"88.507287\" xlink:href=\"#m47784bc6ef\" y=\"46.593952\"/>\n     <use style=\"fill:#1f77b4;stroke:#1f77b4;\" x=\"127.796188\" xlink:href=\"#m47784bc6ef\" y=\"68.876202\"/>\n     <use style=\"fill:#1f77b4;stroke:#1f77b4;\" x=\"135.051635\" xlink:href=\"#m47784bc6ef\" y=\"82.002673\"/>\n     <use style=\"fill:#1f77b4;stroke:#1f77b4;\" x=\"143.377597\" xlink:href=\"#m47784bc6ef\" y=\"90.228205\"/>\n     <use style=\"fill:#1f77b4;stroke:#1f77b4;\" x=\"144.861153\" xlink:href=\"#m47784bc6ef\" y=\"65.424502\"/>\n     <use style=\"fill:#1f77b4;stroke:#1f77b4;\" x=\"130.384627\" xlink:href=\"#m47784bc6ef\" y=\"49.954329\"/>\n     <use style=\"fill:#1f77b4;stroke:#1f77b4;\" x=\"137.491984\" xlink:href=\"#m47784bc6ef\" y=\"69.547028\"/>\n     <use style=\"fill:#1f77b4;stroke:#1f77b4;\" x=\"139.105731\" xlink:href=\"#m47784bc6ef\" y=\"92.906467\"/>\n     <use style=\"fill:#1f77b4;stroke:#1f77b4;\" x=\"137.079931\" xlink:href=\"#m47784bc6ef\" y=\"79.795137\"/>\n     <use style=\"fill:#1f77b4;stroke:#1f77b4;\" x=\"147.765878\" xlink:href=\"#m47784bc6ef\" y=\"83.874545\"/>\n     <use style=\"fill:#1f77b4;stroke:#1f77b4;\" x=\"166.42637\" xlink:href=\"#m47784bc6ef\" y=\"76.298082\"/>\n     <use style=\"fill:#1f77b4;stroke:#1f77b4;\" x=\"137.760429\" xlink:href=\"#m47784bc6ef\" y=\"71.990194\"/>\n     <use style=\"fill:#1f77b4;stroke:#1f77b4;\" x=\"123.116136\" xlink:href=\"#m47784bc6ef\" y=\"70.117439\"/>\n     <use style=\"fill:#1f77b4;stroke:#1f77b4;\" x=\"101.189325\" xlink:href=\"#m47784bc6ef\" y=\"48.876507\"/>\n     <use style=\"fill:#1f77b4;stroke:#1f77b4;\" x=\"204.85756\" xlink:href=\"#m47784bc6ef\" y=\"133.392542\"/>\n     <use style=\"fill:#1f77b4;stroke:#1f77b4;\" x=\"144.185976\" xlink:href=\"#m47784bc6ef\" y=\"65.043607\"/>\n     <use style=\"fill:#1f77b4;stroke:#1f77b4;\" x=\"106.799915\" xlink:href=\"#m47784bc6ef\" y=\"37.18759\"/>\n     <use style=\"fill:#1f77b4;stroke:#1f77b4;\" x=\"115.460561\" xlink:href=\"#m47784bc6ef\" y=\"63.342305\"/>\n     <use style=\"fill:#1f77b4;stroke:#1f77b4;\" x=\"167.483488\" xlink:href=\"#m47784bc6ef\" y=\"89.123725\"/>\n     <use style=\"fill:#1f77b4;stroke:#1f77b4;\" x=\"124.441822\" xlink:href=\"#m47784bc6ef\" y=\"56.356948\"/>\n     <use style=\"fill:#1f77b4;stroke:#1f77b4;\" x=\"117.030247\" xlink:href=\"#m47784bc6ef\" y=\"67.828326\"/>\n     <use style=\"fill:#1f77b4;stroke:#1f77b4;\" x=\"151.83775\" xlink:href=\"#m47784bc6ef\" y=\"73.131112\"/>\n     <use style=\"fill:#1f77b4;stroke:#1f77b4;\" x=\"107.070671\" xlink:href=\"#m47784bc6ef\" y=\"67.215334\"/>\n     <use style=\"fill:#1f77b4;stroke:#1f77b4;\" x=\"138.935689\" xlink:href=\"#m47784bc6ef\" y=\"70.93311\"/>\n     <use style=\"fill:#1f77b4;stroke:#1f77b4;\" x=\"97.937651\" xlink:href=\"#m47784bc6ef\" y=\"36.24403\"/>\n     <use style=\"fill:#1f77b4;stroke:#1f77b4;\" x=\"160.103898\" xlink:href=\"#m47784bc6ef\" y=\"109.453707\"/>\n     <use style=\"fill:#1f77b4;stroke:#1f77b4;\" x=\"162.640553\" xlink:href=\"#m47784bc6ef\" y=\"94.491346\"/>\n     <use style=\"fill:#1f77b4;stroke:#1f77b4;\" x=\"139.235459\" xlink:href=\"#m47784bc6ef\" y=\"79.11296\"/>\n     <use style=\"fill:#1f77b4;stroke:#1f77b4;\" x=\"124.360767\" xlink:href=\"#m47784bc6ef\" y=\"61.279046\"/>\n     <use style=\"fill:#1f77b4;stroke:#1f77b4;\" x=\"127.520716\" xlink:href=\"#m47784bc6ef\" y=\"45.28697\"/>\n     <use style=\"fill:#1f77b4;stroke:#1f77b4;\" x=\"137.926263\" xlink:href=\"#m47784bc6ef\" y=\"79.898883\"/>\n     <use style=\"fill:#1f77b4;stroke:#1f77b4;\" x=\"112.537627\" xlink:href=\"#m47784bc6ef\" y=\"75.180697\"/>\n     <use style=\"fill:#1f77b4;stroke:#1f77b4;\" x=\"171.182893\" xlink:href=\"#m47784bc6ef\" y=\"87.170174\"/>\n     <use style=\"fill:#1f77b4;stroke:#1f77b4;\" x=\"141.114509\" xlink:href=\"#m47784bc6ef\" y=\"93.701707\"/>\n     <use style=\"fill:#1f77b4;stroke:#1f77b4;\" x=\"146.029042\" xlink:href=\"#m47784bc6ef\" y=\"65.44097\"/>\n     <use style=\"fill:#1f77b4;stroke:#1f77b4;\" x=\"115.294827\" xlink:href=\"#m47784bc6ef\" y=\"47.332913\"/>\n     <use style=\"fill:#1f77b4;stroke:#1f77b4;\" x=\"130.28861\" xlink:href=\"#m47784bc6ef\" y=\"68.530359\"/>\n     <use style=\"fill:#1f77b4;stroke:#1f77b4;\" x=\"132.288191\" xlink:href=\"#m47784bc6ef\" y=\"85.036935\"/>\n     <use style=\"fill:#1f77b4;stroke:#1f77b4;\" x=\"83.28448\" xlink:href=\"#m47784bc6ef\" y=\"43.966008\"/>\n     <use style=\"fill:#1f77b4;stroke:#1f77b4;\" x=\"138.957992\" xlink:href=\"#m47784bc6ef\" y=\"77.508826\"/>\n     <use style=\"fill:#1f77b4;stroke:#1f77b4;\" x=\"127.973131\" xlink:href=\"#m47784bc6ef\" y=\"74.737675\"/>\n     <use style=\"fill:#1f77b4;stroke:#1f77b4;\" x=\"153.662082\" xlink:href=\"#m47784bc6ef\" y=\"88.720951\"/>\n     <use style=\"fill:#1f77b4;stroke:#1f77b4;\" x=\"133.21126\" xlink:href=\"#m47784bc6ef\" y=\"76.198977\"/>\n     <use style=\"fill:#1f77b4;stroke:#1f77b4;\" x=\"146.059468\" xlink:href=\"#m47784bc6ef\" y=\"89.122493\"/>\n     <use style=\"fill:#1f77b4;stroke:#1f77b4;\" x=\"84.971562\" xlink:href=\"#m47784bc6ef\" y=\"54.052535\"/>\n     <use style=\"fill:#1f77b4;stroke:#1f77b4;\" x=\"56.411558\" xlink:href=\"#m47784bc6ef\" y=\"15.507487\"/>\n     <use style=\"fill:#1f77b4;stroke:#1f77b4;\" x=\"162.331794\" xlink:href=\"#m47784bc6ef\" y=\"65.614687\"/>\n     <use style=\"fill:#1f77b4;stroke:#1f77b4;\" x=\"110.403526\" xlink:href=\"#m47784bc6ef\" y=\"67.681224\"/>\n     <use style=\"fill:#1f77b4;stroke:#1f77b4;\" x=\"164.554734\" xlink:href=\"#m47784bc6ef\" y=\"86.154285\"/>\n     <use style=\"fill:#1f77b4;stroke:#1f77b4;\" x=\"116.572744\" xlink:href=\"#m47784bc6ef\" y=\"75.992978\"/>\n     <use style=\"fill:#1f77b4;stroke:#1f77b4;\" x=\"161.027756\" xlink:href=\"#m47784bc6ef\" y=\"77.3665\"/>\n     <use style=\"fill:#1f77b4;stroke:#1f77b4;\" x=\"165.411662\" xlink:href=\"#m47784bc6ef\" y=\"83.451141\"/>\n     <use style=\"fill:#1f77b4;stroke:#1f77b4;\" x=\"161.216751\" xlink:href=\"#m47784bc6ef\" y=\"95.975291\"/>\n     <use style=\"fill:#1f77b4;stroke:#1f77b4;\" x=\"131.683214\" xlink:href=\"#m47784bc6ef\" y=\"87.713936\"/>\n     <use style=\"fill:#1f77b4;stroke:#1f77b4;\" x=\"144.633098\" xlink:href=\"#m47784bc6ef\" y=\"86.042095\"/>\n     <use style=\"fill:#1f77b4;stroke:#1f77b4;\" x=\"127.019915\" xlink:href=\"#m47784bc6ef\" y=\"87.914312\"/>\n     <use style=\"fill:#1f77b4;stroke:#1f77b4;\" x=\"115.146626\" xlink:href=\"#m47784bc6ef\" y=\"72.053002\"/>\n     <use style=\"fill:#1f77b4;stroke:#1f77b4;\" x=\"154.030206\" xlink:href=\"#m47784bc6ef\" y=\"95.572821\"/>\n     <use style=\"fill:#1f77b4;stroke:#1f77b4;\" x=\"117.572248\" xlink:href=\"#m47784bc6ef\" y=\"61.268625\"/>\n     <use style=\"fill:#1f77b4;stroke:#1f77b4;\" x=\"122.488218\" xlink:href=\"#m47784bc6ef\" y=\"62.639092\"/>\n     <use style=\"fill:#1f77b4;stroke:#1f77b4;\" x=\"123.07302\" xlink:href=\"#m47784bc6ef\" y=\"59.866609\"/>\n     <use style=\"fill:#1f77b4;stroke:#1f77b4;\" x=\"156.865813\" xlink:href=\"#m47784bc6ef\" y=\"87.972516\"/>\n     <use style=\"fill:#1f77b4;stroke:#1f77b4;\" x=\"156.561681\" xlink:href=\"#m47784bc6ef\" y=\"73.642455\"/>\n     <use style=\"fill:#1f77b4;stroke:#1f77b4;\" x=\"98.38015\" xlink:href=\"#m47784bc6ef\" y=\"34.512469\"/>\n     <use style=\"fill:#1f77b4;stroke:#1f77b4;\" x=\"151.159948\" xlink:href=\"#m47784bc6ef\" y=\"88.47475\"/>\n     <use style=\"fill:#1f77b4;stroke:#1f77b4;\" x=\"142.421799\" xlink:href=\"#m47784bc6ef\" y=\"57.997515\"/>\n     <use style=\"fill:#1f77b4;stroke:#1f77b4;\" x=\"105.525657\" xlink:href=\"#m47784bc6ef\" y=\"29.397781\"/>\n     <use style=\"fill:#1f77b4;stroke:#1f77b4;\" x=\"118.332086\" xlink:href=\"#m47784bc6ef\" y=\"59.555082\"/>\n     <use style=\"fill:#1f77b4;stroke:#1f77b4;\" x=\"123.258555\" xlink:href=\"#m47784bc6ef\" y=\"63.654508\"/>\n     <use style=\"fill:#1f77b4;stroke:#1f77b4;\" x=\"125.738939\" xlink:href=\"#m47784bc6ef\" y=\"60.144032\"/>\n     <use style=\"fill:#1f77b4;stroke:#1f77b4;\" x=\"139.131805\" xlink:href=\"#m47784bc6ef\" y=\"75.137788\"/>\n     <use style=\"fill:#1f77b4;stroke:#1f77b4;\" x=\"151.136205\" xlink:href=\"#m47784bc6ef\" y=\"94.490099\"/>\n     <use style=\"fill:#1f77b4;stroke:#1f77b4;\" x=\"86.115786\" xlink:href=\"#m47784bc6ef\" y=\"43.389461\"/>\n     <use style=\"fill:#1f77b4;stroke:#1f77b4;\" x=\"96.81582\" xlink:href=\"#m47784bc6ef\" y=\"44.497376\"/>\n     <use style=\"fill:#1f77b4;stroke:#1f77b4;\" x=\"171.733292\" xlink:href=\"#m47784bc6ef\" y=\"96.555979\"/>\n     <use style=\"fill:#1f77b4;stroke:#1f77b4;\" x=\"150.863712\" xlink:href=\"#m47784bc6ef\" y=\"78.832536\"/>\n     <use style=\"fill:#1f77b4;stroke:#1f77b4;\" x=\"169.16078\" xlink:href=\"#m47784bc6ef\" y=\"99.130795\"/>\n     <use style=\"fill:#1f77b4;stroke:#1f77b4;\" x=\"120.168358\" xlink:href=\"#m47784bc6ef\" y=\"54.110589\"/>\n     <use style=\"fill:#1f77b4;stroke:#1f77b4;\" x=\"111.463155\" xlink:href=\"#m47784bc6ef\" y=\"47.87372\"/>\n     <use style=\"fill:#1f77b4;stroke:#1f77b4;\" x=\"143.514818\" xlink:href=\"#m47784bc6ef\" y=\"55.055516\"/>\n     <use style=\"fill:#1f77b4;stroke:#1f77b4;\" x=\"118.389733\" xlink:href=\"#m47784bc6ef\" y=\"55.092756\"/>\n     <use style=\"fill:#1f77b4;stroke:#1f77b4;\" x=\"169.833629\" xlink:href=\"#m47784bc6ef\" y=\"97.427486\"/>\n     <use style=\"fill:#1f77b4;stroke:#1f77b4;\" x=\"140.492882\" xlink:href=\"#m47784bc6ef\" y=\"63.768133\"/>\n     <use style=\"fill:#1f77b4;stroke:#1f77b4;\" x=\"135.37004\" xlink:href=\"#m47784bc6ef\" y=\"81.526531\"/>\n     <use style=\"fill:#1f77b4;stroke:#1f77b4;\" x=\"147.920799\" xlink:href=\"#m47784bc6ef\" y=\"108.04927\"/>\n     <use style=\"fill:#1f77b4;stroke:#1f77b4;\" x=\"131.212981\" xlink:href=\"#m47784bc6ef\" y=\"61.770839\"/>\n     <use style=\"fill:#1f77b4;stroke:#1f77b4;\" x=\"133.294112\" xlink:href=\"#m47784bc6ef\" y=\"70.265361\"/>\n     <use style=\"fill:#1f77b4;stroke:#1f77b4;\" x=\"138.614884\" xlink:href=\"#m47784bc6ef\" y=\"50.761271\"/>\n     <use style=\"fill:#1f77b4;stroke:#1f77b4;\" x=\"122.619719\" xlink:href=\"#m47784bc6ef\" y=\"47.406157\"/>\n     <use style=\"fill:#1f77b4;stroke:#1f77b4;\" x=\"89.514492\" xlink:href=\"#m47784bc6ef\" y=\"27.137971\"/>\n     <use style=\"fill:#1f77b4;stroke:#1f77b4;\" x=\"128.139344\" xlink:href=\"#m47784bc6ef\" y=\"71.127841\"/>\n     <use style=\"fill:#1f77b4;stroke:#1f77b4;\" x=\"102.106763\" xlink:href=\"#m47784bc6ef\" y=\"50.86601\"/>\n     <use style=\"fill:#1f77b4;stroke:#1f77b4;\" x=\"114.193744\" xlink:href=\"#m47784bc6ef\" y=\"47.048558\"/>\n     <use style=\"fill:#1f77b4;stroke:#1f77b4;\" x=\"166.02679\" xlink:href=\"#m47784bc6ef\" y=\"97.125593\"/>\n     <use style=\"fill:#1f77b4;stroke:#1f77b4;\" x=\"179.173757\" xlink:href=\"#m47784bc6ef\" y=\"112.772113\"/>\n     <use style=\"fill:#1f77b4;stroke:#1f77b4;\" x=\"121.302003\" xlink:href=\"#m47784bc6ef\" y=\"57.702962\"/>\n     <use style=\"fill:#1f77b4;stroke:#1f77b4;\" x=\"150.700191\" xlink:href=\"#m47784bc6ef\" y=\"76.965883\"/>\n     <use style=\"fill:#1f77b4;stroke:#1f77b4;\" x=\"198.04743\" xlink:href=\"#m47784bc6ef\" y=\"117.900161\"/>\n     <use style=\"fill:#1f77b4;stroke:#1f77b4;\" x=\"142.157616\" xlink:href=\"#m47784bc6ef\" y=\"89.19427\"/>\n     <use style=\"fill:#1f77b4;stroke:#1f77b4;\" x=\"159.341762\" xlink:href=\"#m47784bc6ef\" y=\"103.099758\"/>\n     <use style=\"fill:#1f77b4;stroke:#1f77b4;\" x=\"116.649386\" xlink:href=\"#m47784bc6ef\" y=\"74.522761\"/>\n     <use style=\"fill:#1f77b4;stroke:#1f77b4;\" x=\"120.830192\" xlink:href=\"#m47784bc6ef\" y=\"58.578585\"/>\n     <use style=\"fill:#1f77b4;stroke:#1f77b4;\" x=\"130.794085\" xlink:href=\"#m47784bc6ef\" y=\"81.452381\"/>\n     <use style=\"fill:#1f77b4;stroke:#1f77b4;\" x=\"135.750977\" xlink:href=\"#m47784bc6ef\" y=\"83.901988\"/>\n     <use style=\"fill:#1f77b4;stroke:#1f77b4;\" x=\"94.513693\" xlink:href=\"#m47784bc6ef\" y=\"57.691115\"/>\n     <use style=\"fill:#1f77b4;stroke:#1f77b4;\" x=\"119.56477\" xlink:href=\"#m47784bc6ef\" y=\"63.665613\"/>\n     <use style=\"fill:#1f77b4;stroke:#1f77b4;\" x=\"100.102905\" xlink:href=\"#m47784bc6ef\" y=\"53.076533\"/>\n     <use style=\"fill:#1f77b4;stroke:#1f77b4;\" x=\"116.768333\" xlink:href=\"#m47784bc6ef\" y=\"56.226921\"/>\n     <use style=\"fill:#1f77b4;stroke:#1f77b4;\" x=\"142.375642\" xlink:href=\"#m47784bc6ef\" y=\"92.82855\"/>\n     <use style=\"fill:#1f77b4;stroke:#1f77b4;\" x=\"121.07447\" xlink:href=\"#m47784bc6ef\" y=\"64.144658\"/>\n     <use style=\"fill:#1f77b4;stroke:#1f77b4;\" x=\"134.754215\" xlink:href=\"#m47784bc6ef\" y=\"56.483659\"/>\n     <use style=\"fill:#1f77b4;stroke:#1f77b4;\" x=\"162.145936\" xlink:href=\"#m47784bc6ef\" y=\"79.543192\"/>\n     <use style=\"fill:#1f77b4;stroke:#1f77b4;\" x=\"140.204259\" xlink:href=\"#m47784bc6ef\" y=\"48.249457\"/>\n     <use style=\"fill:#1f77b4;stroke:#1f77b4;\" x=\"64.332653\" xlink:href=\"#m47784bc6ef\" y=\"21.963241\"/>\n     <use style=\"fill:#1f77b4;stroke:#1f77b4;\" x=\"108.728491\" xlink:href=\"#m47784bc6ef\" y=\"49.379027\"/>\n     <use style=\"fill:#1f77b4;stroke:#1f77b4;\" x=\"146.40489\" xlink:href=\"#m47784bc6ef\" y=\"68.203266\"/>\n     <use style=\"fill:#1f77b4;stroke:#1f77b4;\" x=\"172.030711\" xlink:href=\"#m47784bc6ef\" y=\"113.871098\"/>\n     <use style=\"fill:#1f77b4;stroke:#1f77b4;\" x=\"152.983834\" xlink:href=\"#m47784bc6ef\" y=\"76.139834\"/>\n     <use style=\"fill:#1f77b4;stroke:#1f77b4;\" x=\"124.593292\" xlink:href=\"#m47784bc6ef\" y=\"40.135837\"/>\n     <use style=\"fill:#1f77b4;stroke:#1f77b4;\" x=\"153.982355\" xlink:href=\"#m47784bc6ef\" y=\"93.674442\"/>\n     <use style=\"fill:#1f77b4;stroke:#1f77b4;\" x=\"186.119662\" xlink:href=\"#m47784bc6ef\" y=\"125.855095\"/>\n     <use style=\"fill:#1f77b4;stroke:#1f77b4;\" x=\"168.347141\" xlink:href=\"#m47784bc6ef\" y=\"95.051471\"/>\n     <use style=\"fill:#1f77b4;stroke:#1f77b4;\" x=\"159.528463\" xlink:href=\"#m47784bc6ef\" y=\"66.897738\"/>\n     <use style=\"fill:#1f77b4;stroke:#1f77b4;\" x=\"176.123368\" xlink:href=\"#m47784bc6ef\" y=\"96.456258\"/>\n     <use style=\"fill:#1f77b4;stroke:#1f77b4;\" x=\"137.77922\" xlink:href=\"#m47784bc6ef\" y=\"61.625052\"/>\n     <use style=\"fill:#1f77b4;stroke:#1f77b4;\" x=\"107.194558\" xlink:href=\"#m47784bc6ef\" y=\"54.333177\"/>\n     <use style=\"fill:#1f77b4;stroke:#1f77b4;\" x=\"140.662338\" xlink:href=\"#m47784bc6ef\" y=\"83.454934\"/>\n     <use style=\"fill:#1f77b4;stroke:#1f77b4;\" x=\"91.557417\" xlink:href=\"#m47784bc6ef\" y=\"23.996859\"/>\n     <use style=\"fill:#1f77b4;stroke:#1f77b4;\" x=\"178.61424\" xlink:href=\"#m47784bc6ef\" y=\"78.679471\"/>\n     <use style=\"fill:#1f77b4;stroke:#1f77b4;\" x=\"108.084944\" xlink:href=\"#m47784bc6ef\" y=\"45.793107\"/>\n     <use style=\"fill:#1f77b4;stroke:#1f77b4;\" x=\"145.286866\" xlink:href=\"#m47784bc6ef\" y=\"90.951107\"/>\n     <use style=\"fill:#1f77b4;stroke:#1f77b4;\" x=\"130.021591\" xlink:href=\"#m47784bc6ef\" y=\"74.539652\"/>\n     <use style=\"fill:#1f77b4;stroke:#1f77b4;\" x=\"110.718731\" xlink:href=\"#m47784bc6ef\" y=\"42.264437\"/>\n     <use style=\"fill:#1f77b4;stroke:#1f77b4;\" x=\"103.402693\" xlink:href=\"#m47784bc6ef\" y=\"35.764194\"/>\n     <use style=\"fill:#1f77b4;stroke:#1f77b4;\" x=\"111.395142\" xlink:href=\"#m47784bc6ef\" y=\"56.326175\"/>\n     <use style=\"fill:#1f77b4;stroke:#1f77b4;\" x=\"145.361092\" xlink:href=\"#m47784bc6ef\" y=\"69.566572\"/>\n     <use style=\"fill:#1f77b4;stroke:#1f77b4;\" x=\"196.242984\" xlink:href=\"#m47784bc6ef\" y=\"104.814377\"/>\n     <use style=\"fill:#1f77b4;stroke:#1f77b4;\" x=\"154.540063\" xlink:href=\"#m47784bc6ef\" y=\"71.801503\"/>\n     <use style=\"fill:#1f77b4;stroke:#1f77b4;\" x=\"103.437862\" xlink:href=\"#m47784bc6ef\" y=\"45.769121\"/>\n     <use style=\"fill:#1f77b4;stroke:#1f77b4;\" x=\"157.381744\" xlink:href=\"#m47784bc6ef\" y=\"87.603049\"/>\n     <use style=\"fill:#1f77b4;stroke:#1f77b4;\" x=\"102.021091\" xlink:href=\"#m47784bc6ef\" y=\"44.878976\"/>\n     <use style=\"fill:#1f77b4;stroke:#1f77b4;\" x=\"141.152714\" xlink:href=\"#m47784bc6ef\" y=\"81.300318\"/>\n     <use style=\"fill:#1f77b4;stroke:#1f77b4;\" x=\"109.409738\" xlink:href=\"#m47784bc6ef\" y=\"69.067672\"/>\n     <use style=\"fill:#1f77b4;stroke:#1f77b4;\" x=\"80.747638\" xlink:href=\"#m47784bc6ef\" y=\"65.580444\"/>\n     <use style=\"fill:#1f77b4;stroke:#1f77b4;\" x=\"142.965937\" xlink:href=\"#m47784bc6ef\" y=\"86.832583\"/>\n     <use style=\"fill:#1f77b4;stroke:#1f77b4;\" x=\"155.426573\" xlink:href=\"#m47784bc6ef\" y=\"69.77643\"/>\n     <use style=\"fill:#1f77b4;stroke:#1f77b4;\" x=\"156.364774\" xlink:href=\"#m47784bc6ef\" y=\"100.225932\"/>\n     <use style=\"fill:#1f77b4;stroke:#1f77b4;\" x=\"88.612086\" xlink:href=\"#m47784bc6ef\" y=\"54.40659\"/>\n     <use style=\"fill:#1f77b4;stroke:#1f77b4;\" x=\"130.557885\" xlink:href=\"#m47784bc6ef\" y=\"63.159775\"/>\n     <use style=\"fill:#1f77b4;stroke:#1f77b4;\" x=\"130.775439\" xlink:href=\"#m47784bc6ef\" y=\"68.964062\"/>\n     <use style=\"fill:#1f77b4;stroke:#1f77b4;\" x=\"146.650131\" xlink:href=\"#m47784bc6ef\" y=\"61.026745\"/>\n     <use style=\"fill:#1f77b4;stroke:#1f77b4;\" x=\"153.748072\" xlink:href=\"#m47784bc6ef\" y=\"78.846547\"/>\n     <use style=\"fill:#1f77b4;stroke:#1f77b4;\" x=\"172.269234\" xlink:href=\"#m47784bc6ef\" y=\"100.805444\"/>\n     <use style=\"fill:#1f77b4;stroke:#1f77b4;\" x=\"107.475711\" xlink:href=\"#m47784bc6ef\" y=\"50.31993\"/>\n     <use style=\"fill:#1f77b4;stroke:#1f77b4;\" x=\"154.373766\" xlink:href=\"#m47784bc6ef\" y=\"87.793166\"/>\n     <use style=\"fill:#1f77b4;stroke:#1f77b4;\" x=\"175.706454\" xlink:href=\"#m47784bc6ef\" y=\"109.404129\"/>\n     <use style=\"fill:#1f77b4;stroke:#1f77b4;\" x=\"122.236709\" xlink:href=\"#m47784bc6ef\" y=\"61.861062\"/>\n     <use style=\"fill:#1f77b4;stroke:#1f77b4;\" x=\"163.940642\" xlink:href=\"#m47784bc6ef\" y=\"94.708443\"/>\n     <use style=\"fill:#1f77b4;stroke:#1f77b4;\" x=\"144.439864\" xlink:href=\"#m47784bc6ef\" y=\"44.987202\"/>\n     <use style=\"fill:#1f77b4;stroke:#1f77b4;\" x=\"141.642466\" xlink:href=\"#m47784bc6ef\" y=\"77.004755\"/>\n     <use style=\"fill:#1f77b4;stroke:#1f77b4;\" x=\"131.432239\" xlink:href=\"#m47784bc6ef\" y=\"64.797378\"/>\n     <use style=\"fill:#1f77b4;stroke:#1f77b4;\" x=\"213.710566\" xlink:href=\"#m47784bc6ef\" y=\"136.922727\"/>\n     <use style=\"fill:#1f77b4;stroke:#1f77b4;\" x=\"133.189689\" xlink:href=\"#m47784bc6ef\" y=\"77.791954\"/>\n     <use style=\"fill:#1f77b4;stroke:#1f77b4;\" x=\"183.068809\" xlink:href=\"#m47784bc6ef\" y=\"97.343994\"/>\n     <use style=\"fill:#1f77b4;stroke:#1f77b4;\" x=\"147.985956\" xlink:href=\"#m47784bc6ef\" y=\"88.095367\"/>\n     <use style=\"fill:#1f77b4;stroke:#1f77b4;\" x=\"102.607841\" xlink:href=\"#m47784bc6ef\" y=\"34.258721\"/>\n     <use style=\"fill:#1f77b4;stroke:#1f77b4;\" x=\"152.631683\" xlink:href=\"#m47784bc6ef\" y=\"88.449819\"/>\n     <use style=\"fill:#1f77b4;stroke:#1f77b4;\" x=\"105.403689\" xlink:href=\"#m47784bc6ef\" y=\"45.25382\"/>\n     <use style=\"fill:#1f77b4;stroke:#1f77b4;\" x=\"112.072129\" xlink:href=\"#m47784bc6ef\" y=\"45.291355\"/>\n     <use style=\"fill:#1f77b4;stroke:#1f77b4;\" x=\"150.036522\" xlink:href=\"#m47784bc6ef\" y=\"59.484697\"/>\n     <use style=\"fill:#1f77b4;stroke:#1f77b4;\" x=\"119.715323\" xlink:href=\"#m47784bc6ef\" y=\"56.542551\"/>\n     <use style=\"fill:#1f77b4;stroke:#1f77b4;\" x=\"152.09445\" xlink:href=\"#m47784bc6ef\" y=\"77.634108\"/>\n     <use style=\"fill:#1f77b4;stroke:#1f77b4;\" x=\"129.016231\" xlink:href=\"#m47784bc6ef\" y=\"81.285272\"/>\n     <use style=\"fill:#1f77b4;stroke:#1f77b4;\" x=\"90.61529\" xlink:href=\"#m47784bc6ef\" y=\"36.051969\"/>\n     <use style=\"fill:#1f77b4;stroke:#1f77b4;\" x=\"171.003546\" xlink:href=\"#m47784bc6ef\" y=\"79.378715\"/>\n     <use style=\"fill:#1f77b4;stroke:#1f77b4;\" x=\"122.554845\" xlink:href=\"#m47784bc6ef\" y=\"67.283349\"/>\n     <use style=\"fill:#1f77b4;stroke:#1f77b4;\" x=\"107.956263\" xlink:href=\"#m47784bc6ef\" y=\"68.144685\"/>\n     <use style=\"fill:#1f77b4;stroke:#1f77b4;\" x=\"116.939437\" xlink:href=\"#m47784bc6ef\" y=\"48.180365\"/>\n     <use style=\"fill:#1f77b4;stroke:#1f77b4;\" x=\"157.662584\" xlink:href=\"#m47784bc6ef\" y=\"77.666536\"/>\n     <use style=\"fill:#1f77b4;stroke:#1f77b4;\" x=\"97.282513\" xlink:href=\"#m47784bc6ef\" y=\"57.52874\"/>\n     <use style=\"fill:#1f77b4;stroke:#1f77b4;\" x=\"97.875118\" xlink:href=\"#m47784bc6ef\" y=\"56.741384\"/>\n     <use style=\"fill:#1f77b4;stroke:#1f77b4;\" x=\"88.922926\" xlink:href=\"#m47784bc6ef\" y=\"34.019986\"/>\n     <use style=\"fill:#1f77b4;stroke:#1f77b4;\" x=\"127.101762\" xlink:href=\"#m47784bc6ef\" y=\"30.174791\"/>\n     <use style=\"fill:#1f77b4;stroke:#1f77b4;\" x=\"112.392538\" xlink:href=\"#m47784bc6ef\" y=\"42.221889\"/>\n     <use style=\"fill:#1f77b4;stroke:#1f77b4;\" x=\"156.175744\" xlink:href=\"#m47784bc6ef\" y=\"89.589765\"/>\n     <use style=\"fill:#1f77b4;stroke:#1f77b4;\" x=\"104.723392\" xlink:href=\"#m47784bc6ef\" y=\"39.682705\"/>\n     <use style=\"fill:#1f77b4;stroke:#1f77b4;\" x=\"154.200941\" xlink:href=\"#m47784bc6ef\" y=\"78.050626\"/>\n     <use style=\"fill:#1f77b4;stroke:#1f77b4;\" x=\"140.171191\" xlink:href=\"#m47784bc6ef\" y=\"68.865779\"/>\n     <use style=\"fill:#1f77b4;stroke:#1f77b4;\" x=\"184.930746\" xlink:href=\"#m47784bc6ef\" y=\"116.452498\"/>\n     <use style=\"fill:#1f77b4;stroke:#1f77b4;\" x=\"106.771506\" xlink:href=\"#m47784bc6ef\" y=\"48.731577\"/>\n     <use style=\"fill:#1f77b4;stroke:#1f77b4;\" x=\"120.693145\" xlink:href=\"#m47784bc6ef\" y=\"68.054459\"/>\n     <use style=\"fill:#1f77b4;stroke:#1f77b4;\" x=\"95.18863\" xlink:href=\"#m47784bc6ef\" y=\"39.858643\"/>\n     <use style=\"fill:#1f77b4;stroke:#1f77b4;\" x=\"159.373634\" xlink:href=\"#m47784bc6ef\" y=\"87.125977\"/>\n     <use style=\"fill:#1f77b4;stroke:#1f77b4;\" x=\"119.52769\" xlink:href=\"#m47784bc6ef\" y=\"65.875192\"/>\n     <use style=\"fill:#1f77b4;stroke:#1f77b4;\" x=\"145.408126\" xlink:href=\"#m47784bc6ef\" y=\"73.397058\"/>\n     <use style=\"fill:#1f77b4;stroke:#1f77b4;\" x=\"107.680887\" xlink:href=\"#m47784bc6ef\" y=\"57.279447\"/>\n     <use style=\"fill:#1f77b4;stroke:#1f77b4;\" x=\"143.479125\" xlink:href=\"#m47784bc6ef\" y=\"84.979476\"/>\n     <use style=\"fill:#1f77b4;stroke:#1f77b4;\" x=\"150.427476\" xlink:href=\"#m47784bc6ef\" y=\"85.511081\"/>\n     <use style=\"fill:#1f77b4;stroke:#1f77b4;\" x=\"171.368716\" xlink:href=\"#m47784bc6ef\" y=\"108.019103\"/>\n     <use style=\"fill:#1f77b4;stroke:#1f77b4;\" x=\"156.283618\" xlink:href=\"#m47784bc6ef\" y=\"77.394566\"/>\n     <use style=\"fill:#1f77b4;stroke:#1f77b4;\" x=\"121.508359\" xlink:href=\"#m47784bc6ef\" y=\"46.946263\"/>\n     <use style=\"fill:#1f77b4;stroke:#1f77b4;\" x=\"112.729459\" xlink:href=\"#m47784bc6ef\" y=\"50.05791\"/>\n     <use style=\"fill:#1f77b4;stroke:#1f77b4;\" x=\"123.184891\" xlink:href=\"#m47784bc6ef\" y=\"50.011288\"/>\n     <use style=\"fill:#1f77b4;stroke:#1f77b4;\" x=\"108.200867\" xlink:href=\"#m47784bc6ef\" y=\"64.041749\"/>\n     <use style=\"fill:#1f77b4;stroke:#1f77b4;\" x=\"159.012185\" xlink:href=\"#m47784bc6ef\" y=\"83.152122\"/>\n     <use style=\"fill:#1f77b4;stroke:#1f77b4;\" x=\"110.020076\" xlink:href=\"#m47784bc6ef\" y=\"47.239929\"/>\n     <use style=\"fill:#1f77b4;stroke:#1f77b4;\" x=\"116.386438\" xlink:href=\"#m47784bc6ef\" y=\"57.018218\"/>\n     <use style=\"fill:#1f77b4;stroke:#1f77b4;\" x=\"133.930753\" xlink:href=\"#m47784bc6ef\" y=\"68.424757\"/>\n     <use style=\"fill:#1f77b4;stroke:#1f77b4;\" x=\"131.474254\" xlink:href=\"#m47784bc6ef\" y=\"74.955105\"/>\n     <use style=\"fill:#1f77b4;stroke:#1f77b4;\" x=\"129.052721\" xlink:href=\"#m47784bc6ef\" y=\"68.706139\"/>\n     <use style=\"fill:#1f77b4;stroke:#1f77b4;\" x=\"79.353813\" xlink:href=\"#m47784bc6ef\" y=\"20.27538\"/>\n     <use style=\"fill:#1f77b4;stroke:#1f77b4;\" x=\"105.61229\" xlink:href=\"#m47784bc6ef\" y=\"68.863874\"/>\n     <use style=\"fill:#1f77b4;stroke:#1f77b4;\" x=\"125.640081\" xlink:href=\"#m47784bc6ef\" y=\"70.020464\"/>\n     <use style=\"fill:#1f77b4;stroke:#1f77b4;\" x=\"159.156455\" xlink:href=\"#m47784bc6ef\" y=\"81.618009\"/>\n     <use style=\"fill:#1f77b4;stroke:#1f77b4;\" x=\"80.705702\" xlink:href=\"#m47784bc6ef\" y=\"23.056013\"/>\n    </g>\n   </g>\n   <g id=\"matplotlib.axis_1\">\n    <g id=\"xtick_1\">\n     <g id=\"line2d_1\">\n      <defs>\n       <path d=\"M 0 0 \nL 0 3.5 \n\" id=\"mc9f8a46147\" style=\"stroke:#000000;stroke-width:0.8;\"/>\n      </defs>\n      <g>\n       <use style=\"stroke:#000000;stroke-width:0.8;\" x=\"30.581194\" xlink:href=\"#mc9f8a46147\" y=\"143.1\"/>\n      </g>\n     </g>\n     <g id=\"text_1\">\n      <!-- −4 -->\n      <defs>\n       <path d=\"M 10.59375 35.5 \nL 73.1875 35.5 \nL 73.1875 27.203125 \nL 10.59375 27.203125 \nz\n\" id=\"DejaVuSans-8722\"/>\n       <path d=\"M 37.796875 64.3125 \nL 12.890625 25.390625 \nL 37.796875 25.390625 \nz\nM 35.203125 72.90625 \nL 47.609375 72.90625 \nL 47.609375 25.390625 \nL 58.015625 25.390625 \nL 58.015625 17.1875 \nL 47.609375 17.1875 \nL 47.609375 0 \nL 37.796875 0 \nL 37.796875 17.1875 \nL 4.890625 17.1875 \nL 4.890625 26.703125 \nz\n\" id=\"DejaVuSans-52\"/>\n      </defs>\n      <g transform=\"translate(23.210101 157.698438)scale(0.1 -0.1)\">\n       <use xlink:href=\"#DejaVuSans-8722\"/>\n       <use x=\"83.789062\" xlink:href=\"#DejaVuSans-52\"/>\n      </g>\n     </g>\n    </g>\n    <g id=\"xtick_2\">\n     <g id=\"line2d_2\">\n      <g>\n       <use style=\"stroke:#000000;stroke-width:0.8;\" x=\"82.774318\" xlink:href=\"#mc9f8a46147\" y=\"143.1\"/>\n      </g>\n     </g>\n     <g id=\"text_2\">\n      <!-- −2 -->\n      <defs>\n       <path d=\"M 19.1875 8.296875 \nL 53.609375 8.296875 \nL 53.609375 0 \nL 7.328125 0 \nL 7.328125 8.296875 \nQ 12.9375 14.109375 22.625 23.890625 \nQ 32.328125 33.6875 34.8125 36.53125 \nQ 39.546875 41.84375 41.421875 45.53125 \nQ 43.3125 49.21875 43.3125 52.78125 \nQ 43.3125 58.59375 39.234375 62.25 \nQ 35.15625 65.921875 28.609375 65.921875 \nQ 23.96875 65.921875 18.8125 64.3125 \nQ 13.671875 62.703125 7.8125 59.421875 \nL 7.8125 69.390625 \nQ 13.765625 71.78125 18.9375 73 \nQ 24.125 74.21875 28.421875 74.21875 \nQ 39.75 74.21875 46.484375 68.546875 \nQ 53.21875 62.890625 53.21875 53.421875 \nQ 53.21875 48.921875 51.53125 44.890625 \nQ 49.859375 40.875 45.40625 35.40625 \nQ 44.1875 33.984375 37.640625 27.21875 \nQ 31.109375 20.453125 19.1875 8.296875 \nz\n\" id=\"DejaVuSans-50\"/>\n      </defs>\n      <g transform=\"translate(75.403224 157.698438)scale(0.1 -0.1)\">\n       <use xlink:href=\"#DejaVuSans-8722\"/>\n       <use x=\"83.789062\" xlink:href=\"#DejaVuSans-50\"/>\n      </g>\n     </g>\n    </g>\n    <g id=\"xtick_3\">\n     <g id=\"line2d_3\">\n      <g>\n       <use style=\"stroke:#000000;stroke-width:0.8;\" x=\"134.967441\" xlink:href=\"#mc9f8a46147\" y=\"143.1\"/>\n      </g>\n     </g>\n     <g id=\"text_3\">\n      <!-- 0 -->\n      <defs>\n       <path d=\"M 31.78125 66.40625 \nQ 24.171875 66.40625 20.328125 58.90625 \nQ 16.5 51.421875 16.5 36.375 \nQ 16.5 21.390625 20.328125 13.890625 \nQ 24.171875 6.390625 31.78125 6.390625 \nQ 39.453125 6.390625 43.28125 13.890625 \nQ 47.125 21.390625 47.125 36.375 \nQ 47.125 51.421875 43.28125 58.90625 \nQ 39.453125 66.40625 31.78125 66.40625 \nz\nM 31.78125 74.21875 \nQ 44.046875 74.21875 50.515625 64.515625 \nQ 56.984375 54.828125 56.984375 36.375 \nQ 56.984375 17.96875 50.515625 8.265625 \nQ 44.046875 -1.421875 31.78125 -1.421875 \nQ 19.53125 -1.421875 13.0625 8.265625 \nQ 6.59375 17.96875 6.59375 36.375 \nQ 6.59375 54.828125 13.0625 64.515625 \nQ 19.53125 74.21875 31.78125 74.21875 \nz\n\" id=\"DejaVuSans-48\"/>\n      </defs>\n      <g transform=\"translate(131.786191 157.698438)scale(0.1 -0.1)\">\n       <use xlink:href=\"#DejaVuSans-48\"/>\n      </g>\n     </g>\n    </g>\n    <g id=\"xtick_4\">\n     <g id=\"line2d_4\">\n      <g>\n       <use style=\"stroke:#000000;stroke-width:0.8;\" x=\"187.160565\" xlink:href=\"#mc9f8a46147\" y=\"143.1\"/>\n      </g>\n     </g>\n     <g id=\"text_4\">\n      <!-- 2 -->\n      <g transform=\"translate(183.979315 157.698438)scale(0.1 -0.1)\">\n       <use xlink:href=\"#DejaVuSans-50\"/>\n      </g>\n     </g>\n    </g>\n   </g>\n   <g id=\"matplotlib.axis_2\">\n    <g id=\"ytick_1\">\n     <g id=\"line2d_5\">\n      <defs>\n       <path d=\"M 0 0 \nL -3.5 0 \n\" id=\"m8a55a84ab5\" style=\"stroke:#000000;stroke-width:0.8;\"/>\n      </defs>\n      <g>\n       <use style=\"stroke:#000000;stroke-width:0.8;\" x=\"28.942188\" xlink:href=\"#m8a55a84ab5\" y=\"121.555235\"/>\n      </g>\n     </g>\n     <g id=\"text_5\">\n      <!-- −5 -->\n      <defs>\n       <path d=\"M 10.796875 72.90625 \nL 49.515625 72.90625 \nL 49.515625 64.59375 \nL 19.828125 64.59375 \nL 19.828125 46.734375 \nQ 21.96875 47.46875 24.109375 47.828125 \nQ 26.265625 48.1875 28.421875 48.1875 \nQ 40.625 48.1875 47.75 41.5 \nQ 54.890625 34.8125 54.890625 23.390625 \nQ 54.890625 11.625 47.5625 5.09375 \nQ 40.234375 -1.421875 26.90625 -1.421875 \nQ 22.3125 -1.421875 17.546875 -0.640625 \nQ 12.796875 0.140625 7.71875 1.703125 \nL 7.71875 11.625 \nQ 12.109375 9.234375 16.796875 8.0625 \nQ 21.484375 6.890625 26.703125 6.890625 \nQ 35.15625 6.890625 40.078125 11.328125 \nQ 45.015625 15.765625 45.015625 23.390625 \nQ 45.015625 31 40.078125 35.4375 \nQ 35.15625 39.890625 26.703125 39.890625 \nQ 22.75 39.890625 18.8125 39.015625 \nQ 14.890625 38.140625 10.796875 36.28125 \nz\n\" id=\"DejaVuSans-53\"/>\n      </defs>\n      <g transform=\"translate(7.2 125.354454)scale(0.1 -0.1)\">\n       <use xlink:href=\"#DejaVuSans-8722\"/>\n       <use x=\"83.789062\" xlink:href=\"#DejaVuSans-53\"/>\n      </g>\n     </g>\n    </g>\n    <g id=\"ytick_2\">\n     <g id=\"line2d_6\">\n      <g>\n       <use style=\"stroke:#000000;stroke-width:0.8;\" x=\"28.942188\" xlink:href=\"#m8a55a84ab5\" y=\"94.347613\"/>\n      </g>\n     </g>\n     <g id=\"text_6\">\n      <!-- 0 -->\n      <g transform=\"translate(15.579688 98.146832)scale(0.1 -0.1)\">\n       <use xlink:href=\"#DejaVuSans-48\"/>\n      </g>\n     </g>\n    </g>\n    <g id=\"ytick_3\">\n     <g id=\"line2d_7\">\n      <g>\n       <use style=\"stroke:#000000;stroke-width:0.8;\" x=\"28.942188\" xlink:href=\"#m8a55a84ab5\" y=\"67.139991\"/>\n      </g>\n     </g>\n     <g id=\"text_7\">\n      <!-- 5 -->\n      <g transform=\"translate(15.579688 70.93921)scale(0.1 -0.1)\">\n       <use xlink:href=\"#DejaVuSans-53\"/>\n      </g>\n     </g>\n    </g>\n    <g id=\"ytick_4\">\n     <g id=\"line2d_8\">\n      <g>\n       <use style=\"stroke:#000000;stroke-width:0.8;\" x=\"28.942188\" xlink:href=\"#m8a55a84ab5\" y=\"39.932369\"/>\n      </g>\n     </g>\n     <g id=\"text_8\">\n      <!-- 10 -->\n      <defs>\n       <path d=\"M 12.40625 8.296875 \nL 28.515625 8.296875 \nL 28.515625 63.921875 \nL 10.984375 60.40625 \nL 10.984375 69.390625 \nL 28.421875 72.90625 \nL 38.28125 72.90625 \nL 38.28125 8.296875 \nL 54.390625 8.296875 \nL 54.390625 0 \nL 12.40625 0 \nz\n\" id=\"DejaVuSans-49\"/>\n      </defs>\n      <g transform=\"translate(9.217188 43.731588)scale(0.1 -0.1)\">\n       <use xlink:href=\"#DejaVuSans-49\"/>\n       <use x=\"63.623047\" xlink:href=\"#DejaVuSans-48\"/>\n      </g>\n     </g>\n    </g>\n    <g id=\"ytick_5\">\n     <g id=\"line2d_9\">\n      <g>\n       <use style=\"stroke:#000000;stroke-width:0.8;\" x=\"28.942188\" xlink:href=\"#m8a55a84ab5\" y=\"12.724747\"/>\n      </g>\n     </g>\n     <g id=\"text_9\">\n      <!-- 15 -->\n      <g transform=\"translate(9.217188 16.523966)scale(0.1 -0.1)\">\n       <use xlink:href=\"#DejaVuSans-49\"/>\n       <use x=\"63.623047\" xlink:href=\"#DejaVuSans-53\"/>\n      </g>\n     </g>\n    </g>\n   </g>\n   <g id=\"patch_3\">\n    <path d=\"M 28.942188 143.1 \nL 28.942188 7.2 \n\" style=\"fill:none;stroke:#000000;stroke-linecap:square;stroke-linejoin:miter;stroke-width:0.8;\"/>\n   </g>\n   <g id=\"patch_4\">\n    <path d=\"M 224.242188 143.1 \nL 224.242188 7.2 \n\" style=\"fill:none;stroke:#000000;stroke-linecap:square;stroke-linejoin:miter;stroke-width:0.8;\"/>\n   </g>\n   <g id=\"patch_5\">\n    <path d=\"M 28.942188 143.1 \nL 224.242188 143.1 \n\" style=\"fill:none;stroke:#000000;stroke-linecap:square;stroke-linejoin:miter;stroke-width:0.8;\"/>\n   </g>\n   <g id=\"patch_6\">\n    <path d=\"M 28.942188 7.2 \nL 224.242188 7.2 \n\" style=\"fill:none;stroke:#000000;stroke-linecap:square;stroke-linejoin:miter;stroke-width:0.8;\"/>\n   </g>\n  </g>\n </g>\n <defs>\n  <clipPath id=\"pe49062ec69\">\n   <rect height=\"135.9\" width=\"195.3\" x=\"28.942188\" y=\"7.2\"/>\n  </clipPath>\n </defs>\n</svg>\n"
          },
          "metadata": {
            "needs_background": "light"
          }
        }
      ]
    },
    {
      "cell_type": "code",
      "metadata": {
        "id": "NeAB4xi37J5S"
      },
      "source": [
        "# data loader \n",
        "def data_loader(batch_size,features,labels):\n",
        "  num_examples = features.shape[0]\n",
        "  indicies = list(range(num_examples))\n",
        "  random.shuffle(indicies)\n",
        "  for i in range(0,num_examples,batch_size):\n",
        "    batch_indicies = torch.tensor(indicies[i : min(i + batch_size, num_examples)])\n",
        "    yield features[batch_indicies],labels[batch_indicies]"
      ],
      "execution_count": 8,
      "outputs": []
    },
    {
      "cell_type": "code",
      "metadata": {
        "colab": {
          "base_uri": "https://localhost:8080/"
        },
        "id": "qgZJzJe0-zVM",
        "outputId": "a200ca63-45cb-4b90-ff33-97aa67106fc5"
      },
      "source": [
        "batch_size = 10\n",
        "\n",
        "for X, y in data_loader(batch_size, features, labels):\n",
        "    print(X, '\\n', y)\n",
        "    print(X.shape, '\\n', y.shape)\n",
        "    break"
      ],
      "execution_count": 9,
      "outputs": [
        {
          "output_type": "stream",
          "name": "stdout",
          "text": [
            "tensor([[ 0.8491,  1.1865],\n",
            "        [ 0.2561, -1.0804],\n",
            "        [-0.2384, -0.1362],\n",
            "        [ 0.4784, -0.1690],\n",
            "        [-0.1075, -1.3638],\n",
            "        [ 0.0032, -0.0641],\n",
            "        [ 1.1063, -0.9292],\n",
            "        [ 1.8284,  1.9692],\n",
            "        [ 1.2137,  0.8724],\n",
            "        [ 0.3318, -0.5287]]) \n",
            " tensor([[1.8648],\n",
            "        [8.3830],\n",
            "        [4.1850],\n",
            "        [5.7315],\n",
            "        [8.6213],\n",
            "        [4.4256],\n",
            "        [9.5714],\n",
            "        [1.1638],\n",
            "        [3.6622],\n",
            "        [6.6598]])\n",
            "torch.Size([10, 2]) \n",
            " torch.Size([10, 1])\n"
          ]
        }
      ]
    },
    {
      "cell_type": "code",
      "metadata": {
        "id": "6DbTbxOu-4Jj"
      },
      "source": [
        "# initialize model params \n",
        "w = torch.normal(0, 0.01, size=(2, 1), requires_grad=True)\n",
        "b = torch.zeros(1, requires_grad=True)"
      ],
      "execution_count": 10,
      "outputs": []
    },
    {
      "cell_type": "code",
      "metadata": {
        "id": "ulxTr0j7_JvM"
      },
      "source": [
        "# model\n",
        "def linreg(X, w, b):  \n",
        "    \"\"\"The linear regression model.\"\"\"\n",
        "    return torch.matmul(X, w) + b\n"
      ],
      "execution_count": 11,
      "outputs": []
    },
    {
      "cell_type": "code",
      "metadata": {
        "id": "wwls6gHq_Py0"
      },
      "source": [
        "# loss\n",
        "def sqr_loss(y_hat,y):\n",
        "  return (y_hat - y.reshape(y_hat.shape))**2/2"
      ],
      "execution_count": 12,
      "outputs": []
    },
    {
      "cell_type": "code",
      "metadata": {
        "id": "9eE6c9FF_cFU"
      },
      "source": [
        "# optimization \n",
        "def sgd(params,lr,batch_size):\n",
        "  with torch.no_grad():\n",
        "        for param in params:\n",
        "            param -= lr * param.grad / batch_size\n",
        "            param.grad.zero_()"
      ],
      "execution_count": 13,
      "outputs": []
    },
    {
      "cell_type": "code",
      "metadata": {
        "colab": {
          "base_uri": "https://localhost:8080/"
        },
        "id": "Y1lUoROJ_x2m",
        "outputId": "9fbed58b-d4f8-492b-b311-60b0e7cd1985"
      },
      "source": [
        "lr = 0.03\n",
        "num_epochs = 3\n",
        "net = linreg\n",
        "loss = sqr_loss\n",
        "\n",
        "for epoch in range(num_epochs):\n",
        "    for X, y in data_loader(batch_size, features, labels):\n",
        "        l = loss(net(X, w, b), y)  # Minibatch loss in `X` and `y`\n",
        "        # Compute gradient on `l` with respect to [`w`, `b`]\n",
        "        l.sum().backward()\n",
        "        sgd([w, b], lr, batch_size)  # Update parameters using their gradient\n",
        "    with torch.no_grad():\n",
        "        train_l = loss(net(features, w, b), labels)\n",
        "        print(f'epoch {epoch + 1}, loss {float(train_l.mean()):f}')"
      ],
      "execution_count": 14,
      "outputs": [
        {
          "output_type": "stream",
          "name": "stdout",
          "text": [
            "epoch 1, loss 0.027914\n",
            "epoch 2, loss 0.000046\n",
            "epoch 3, loss 0.000001\n"
          ]
        }
      ]
    },
    {
      "cell_type": "code",
      "metadata": {
        "colab": {
          "base_uri": "https://localhost:8080/"
        },
        "id": "PaNsGJIf__3Y",
        "outputId": "04802282-5b33-427d-a4b9-ae3b999f1aea"
      },
      "source": [
        "w "
      ],
      "execution_count": 15,
      "outputs": [
        {
          "output_type": "execute_result",
          "data": {
            "text/plain": [
              "tensor([[ 1.9998],\n",
              "        [-3.3997]], requires_grad=True)"
            ]
          },
          "metadata": {},
          "execution_count": 15
        }
      ]
    },
    {
      "cell_type": "code",
      "metadata": {
        "colab": {
          "base_uri": "https://localhost:8080/"
        },
        "id": "Aa5NM8NFAgPT",
        "outputId": "a3e98936-0689-4880-efcc-e956427b6cd4"
      },
      "source": [
        "b"
      ],
      "execution_count": 16,
      "outputs": [
        {
          "output_type": "execute_result",
          "data": {
            "text/plain": [
              "tensor([4.1997], requires_grad=True)"
            ]
          },
          "metadata": {},
          "execution_count": 16
        }
      ]
    },
    {
      "cell_type": "code",
      "metadata": {
        "colab": {
          "base_uri": "https://localhost:8080/"
        },
        "id": "_SZSAr23AgqR",
        "outputId": "9e5ec104-d7a9-4d2c-ef05-b99f6556f809"
      },
      "source": [
        "net(features[0],w,b)"
      ],
      "execution_count": 17,
      "outputs": [
        {
          "output_type": "execute_result",
          "data": {
            "text/plain": [
              "tensor([6.0717], grad_fn=<AddBackward0>)"
            ]
          },
          "metadata": {},
          "execution_count": 17
        }
      ]
    },
    {
      "cell_type": "code",
      "metadata": {
        "colab": {
          "base_uri": "https://localhost:8080/"
        },
        "id": "3IHvmxHoAjLk",
        "outputId": "aa398e07-0d51-4ed7-ec5c-9f02fc661d40"
      },
      "source": [
        "labels[0]"
      ],
      "execution_count": 18,
      "outputs": [
        {
          "output_type": "execute_result",
          "data": {
            "text/plain": [
              "tensor([6.0711])"
            ]
          },
          "metadata": {},
          "execution_count": 18
        }
      ]
    },
    {
      "cell_type": "code",
      "metadata": {
        "colab": {
          "base_uri": "https://localhost:8080/"
        },
        "id": "-IxiPjgrAlGV",
        "outputId": "d6c2e3dc-4132-4296-be68-0140e7637498"
      },
      "source": [
        "loss(net(features[0],w,b),labels[0])"
      ],
      "execution_count": 19,
      "outputs": [
        {
          "output_type": "execute_result",
          "data": {
            "text/plain": [
              "tensor([1.3907e-07], grad_fn=<DivBackward0>)"
            ]
          },
          "metadata": {},
          "execution_count": 19
        }
      ]
    },
    {
      "cell_type": "markdown",
      "metadata": {
        "id": "jAxnPphQQnoQ"
      },
      "source": [
        "# Concise ver "
      ]
    },
    {
      "cell_type": "code",
      "metadata": {
        "id": "-G_9YEOsC9QS"
      },
      "source": [
        "import numpy as np \n",
        "from torch.utils import data \n",
        "\n",
        "true_w = torch.tensor([3.2,2.4])\n",
        "true_b = torch.tensor([2.7])\n",
        "features,labels = synthetic_data(true_w,true_b,1000)"
      ],
      "execution_count": 20,
      "outputs": []
    },
    {
      "cell_type": "code",
      "metadata": {
        "colab": {
          "base_uri": "https://localhost:8080/"
        },
        "id": "QavmWk60SOdB",
        "outputId": "5af97a4c-f70b-4728-e8ea-4b9c1e138e7c"
      },
      "source": [
        "features.shape"
      ],
      "execution_count": 22,
      "outputs": [
        {
          "output_type": "execute_result",
          "data": {
            "text/plain": [
              "torch.Size([1000, 2])"
            ]
          },
          "metadata": {},
          "execution_count": 22
        }
      ]
    },
    {
      "cell_type": "code",
      "metadata": {
        "id": "9jqgt5uLROb0"
      },
      "source": [
        "#data loader ver real \n",
        "\n",
        "def load_data(features,label, batch_size, for_train = False):\n",
        "  \"\"\"construct a torch data iterator  \"\"\"\n",
        "  dataset = data.TensorDataset(*(features,label))\n",
        "  return data.DataLoader(dataset,batch_size,shuffle= for_train)"
      ],
      "execution_count": 28,
      "outputs": []
    },
    {
      "cell_type": "code",
      "metadata": {
        "id": "K4hudU3VVSfF"
      },
      "source": [
        "batch_size = 10\n",
        "data_iter = load_data(features, labels, batch_size,for_train = True)"
      ],
      "execution_count": 30,
      "outputs": []
    },
    {
      "cell_type": "code",
      "metadata": {
        "colab": {
          "base_uri": "https://localhost:8080/"
        },
        "id": "SSjedgK3gLBa",
        "outputId": "f143b362-7153-41c0-f8bb-2a431681320c"
      },
      "source": [
        "features.shape"
      ],
      "execution_count": 34,
      "outputs": [
        {
          "output_type": "execute_result",
          "data": {
            "text/plain": [
              "torch.Size([1000, 2])"
            ]
          },
          "metadata": {},
          "execution_count": 34
        }
      ]
    },
    {
      "cell_type": "code",
      "metadata": {
        "colab": {
          "base_uri": "https://localhost:8080/"
        },
        "id": "fgQCDvIZgMtI",
        "outputId": "23f7df1c-1ba5-4c00-9c5e-8ce32e515cb7"
      },
      "source": [
        "labels.shape"
      ],
      "execution_count": 35,
      "outputs": [
        {
          "output_type": "execute_result",
          "data": {
            "text/plain": [
              "torch.Size([1000, 1])"
            ]
          },
          "metadata": {},
          "execution_count": 35
        }
      ]
    },
    {
      "cell_type": "code",
      "metadata": {
        "colab": {
          "base_uri": "https://localhost:8080/"
        },
        "id": "mk4IH8GgVdUi",
        "outputId": "aa30b050-9388-4ae2-daf6-967033a915e0"
      },
      "source": [
        "next(iter(data_iter))"
      ],
      "execution_count": 31,
      "outputs": [
        {
          "output_type": "execute_result",
          "data": {
            "text/plain": [
              "[tensor([[-1.0809, -0.6335],\n",
              "         [ 0.6330, -0.1810],\n",
              "         [ 0.2855, -0.1181],\n",
              "         [ 0.5743,  1.1170],\n",
              "         [ 0.2993, -0.8032],\n",
              "         [-0.0925, -1.4491],\n",
              "         [-0.5539, -0.5787],\n",
              "         [-1.0012, -0.2688],\n",
              "         [ 0.4247,  0.0990],\n",
              "         [ 1.1907, -1.8153]]), tensor([[-2.2797],\n",
              "         [ 4.2903],\n",
              "         [ 3.3318],\n",
              "         [ 7.2172],\n",
              "         [ 1.7295],\n",
              "         [-1.0732],\n",
              "         [-0.4615],\n",
              "         [-1.1489],\n",
              "         [ 4.2957],\n",
              "         [ 2.1535]])]"
            ]
          },
          "metadata": {},
          "execution_count": 31
        }
      ]
    },
    {
      "cell_type": "code",
      "metadata": {
        "id": "yJUDcOpGf0-y"
      },
      "source": [
        "# define model \n",
        "from torch import nn \n",
        "model = nn.Sequential(nn.Linear(features.shape[1],labels.shape[1]))"
      ],
      "execution_count": 36,
      "outputs": []
    },
    {
      "cell_type": "code",
      "metadata": {
        "colab": {
          "base_uri": "https://localhost:8080/"
        },
        "id": "rpow7gPtgEAX",
        "outputId": "3c22b4be-a35f-489f-c9ae-2e1200035c96"
      },
      "source": [
        "# initialize the parameters \n",
        "model[0].weight.data.normal_(0,0.01)\n",
        "model[0].bias.data.fill_(0)"
      ],
      "execution_count": 43,
      "outputs": [
        {
          "output_type": "execute_result",
          "data": {
            "text/plain": [
              "tensor([0.])"
            ]
          },
          "metadata": {},
          "execution_count": 43
        }
      ]
    },
    {
      "cell_type": "code",
      "metadata": {
        "id": "UgaUxRcOgnDo"
      },
      "source": [
        "# loss function \n",
        "loss = nn.MSELoss()"
      ],
      "execution_count": 44,
      "outputs": []
    },
    {
      "cell_type": "code",
      "metadata": {
        "id": "1DLs_t2lhPq_"
      },
      "source": [
        "# trainer\n",
        "trainer = torch.optim.SGD(model.parameters(),lr = 0.03)"
      ],
      "execution_count": 46,
      "outputs": []
    },
    {
      "cell_type": "code",
      "metadata": {
        "colab": {
          "base_uri": "https://localhost:8080/"
        },
        "id": "kVqEarm-hZa6",
        "outputId": "68e5b5d2-cf5f-4c6a-e6c0-85678e525fd7"
      },
      "source": [
        "# Training \n",
        "num_epochs = 3\n",
        "for epoch in range(num_epochs):\n",
        "    for X, y in data_iter:\n",
        "        l = loss(model(X), y)\n",
        "        trainer.zero_grad()\n",
        "        l.backward()\n",
        "        trainer.step()\n",
        "    l = loss(model(features), labels)\n",
        "    print(f'epoch {epoch + 1}, loss {l:f}')"
      ],
      "execution_count": 48,
      "outputs": [
        {
          "output_type": "stream",
          "name": "stdout",
          "text": [
            "epoch 1, loss 0.000059\n",
            "epoch 2, loss 0.000001\n",
            "epoch 3, loss 0.000001\n"
          ]
        }
      ]
    },
    {
      "cell_type": "code",
      "metadata": {
        "colab": {
          "base_uri": "https://localhost:8080/"
        },
        "id": "VYK-tp5ohgKw",
        "outputId": "1539b96d-0da5-4e8d-8517-ee311f59ff86"
      },
      "source": [
        "w = model[0].weight.data\n",
        "print('error in estimating w:', true_w - w.reshape(true_w.shape))\n",
        "b = model[0].bias.data\n",
        "print('error in estimating b:', true_b - b)"
      ],
      "execution_count": 50,
      "outputs": [
        {
          "output_type": "stream",
          "name": "stdout",
          "text": [
            "error in estimating w: tensor([-3.4571e-05, -2.2650e-05])\n",
            "error in estimating b: tensor([2.8610e-05])\n"
          ]
        }
      ]
    },
    {
      "cell_type": "code",
      "metadata": {
        "id": "lBj_0ipMhok9"
      },
      "source": [
        ""
      ],
      "execution_count": null,
      "outputs": []
    }
  ]
}